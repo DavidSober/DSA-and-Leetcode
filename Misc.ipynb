{
 "cells": [
  {
   "cell_type": "code",
   "execution_count": 12,
   "metadata": {},
   "outputs": [
    {
     "name": "stdout",
     "output_type": "stream",
     "text": [
      "staring time:  0 plus  30\n",
      "now time is:  6\n",
      "staring time:  6 plus  20\n",
      "now time is:  2\n",
      "staring time:  2 plus  -20\n",
      "now time is:  6\n"
     ]
    }
   ],
   "source": [
    "\n",
    "class clock_thing():\n",
    "    def __init__(self):\n",
    "        self.curr_hour = 0\n",
    "\n",
    "    def clock(self, change):\n",
    "        print('staring time: ', self.curr_hour, 'plus ', change)\n",
    "        self.curr_hour = (self.curr_hour + change) % 24\n",
    "        return self.curr_hour\n",
    "\n",
    "obj1 = clock_thing()\n",
    "\n",
    "print('now time is: ', obj1.clock(30))\n",
    "print('now time is: ', obj1.clock(20))\n",
    "print('now time is: ', obj1.clock(-20))"
   ]
  }
 ],
 "metadata": {
  "kernelspec": {
   "display_name": "Python 3",
   "language": "python",
   "name": "python3"
  },
  "language_info": {
   "codemirror_mode": {
    "name": "ipython",
    "version": 3
   },
   "file_extension": ".py",
   "mimetype": "text/x-python",
   "name": "python",
   "nbconvert_exporter": "python",
   "pygments_lexer": "ipython3",
   "version": "3.12.0"
  }
 },
 "nbformat": 4,
 "nbformat_minor": 2
}
