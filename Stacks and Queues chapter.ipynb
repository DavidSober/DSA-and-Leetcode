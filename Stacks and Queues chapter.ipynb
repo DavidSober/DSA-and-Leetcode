{
 "cells": [
  {
   "attachments": {},
   "cell_type": "markdown",
   "metadata": {},
   "source": [
    "# Stacks and Queues "
   ]
  },
  {
   "attachments": {},
   "cell_type": "markdown",
   "metadata": {},
   "source": [
    "Another term used to describe stacks is LIFO, which stands for last in, first out. The last element placed inside is the first element to come out."
   ]
  },
  {
   "cell_type": "code",
   "execution_count": 38,
   "metadata": {},
   "outputs": [
    {
     "data": {
      "text/plain": [
       "False"
      ]
     },
     "execution_count": 38,
     "metadata": {},
     "output_type": "execute_result"
    }
   ],
   "source": [
    "# DOES NOT WORK\n",
    "# Example 1: 20. Valid Parentheses\n",
    "# my attempt\n",
    "# seems like stacks are a variation of a list... so i think this should be sort of ez IT WAS NOT\n",
    "# so this code does not work very well. it is sort of a brute force approach \n",
    "\n",
    "def validparenthesis(s):\n",
    "    stack = [s[0]]\n",
    "    for c in s:\n",
    "        if len(s) < 2: # throw out obvious false case\n",
    "            return False\n",
    "        \n",
    "        #if len(stack) < 2:\n",
    "        #    stack.append(c)\n",
    "        #    continue\n",
    "\n",
    "        #if c == ']' and stack[-1] == '[' or c == '}' and stack[-1] == '{' or c == ')' and stack[-1] == '(':\n",
    "        #    return True\n",
    "        if c == ']' and stack[-1] != '[' or c == '}' and stack[-1] != '{' or c == ')' and stack[-1] != '(':\n",
    "            return False\n",
    "        stack.append(c)\n",
    "\n",
    "    return True\n",
    "\n",
    "string = '{[]}'\n",
    "validparenthesis(string)\n"
   ]
  },
  {
   "cell_type": "code",
   "execution_count": 40,
   "metadata": {},
   "outputs": [
    {
     "data": {
      "text/plain": [
       "True"
      ]
     },
     "execution_count": 40,
     "metadata": {},
     "output_type": "execute_result"
    }
   ],
   "source": [
    "# Example 1: 20. Valid Parentheses\n",
    "# official answer\n",
    "\n",
    "def isValid(s):\n",
    "    stack = []\n",
    "    matching = {\"(\": \")\", \"[\": \"]\", \"{\": \"}\"} # creates a matching hash map.. this is smart \n",
    "    \n",
    "    for c in s:\n",
    "        if c in matching: # if c is an opening bracket. recall c is the key for matching\n",
    "            stack.append(c)\n",
    "        else:             # note that if c (key) is not in matching, it is a closing bracket\n",
    "            if not stack: # if stack is empty then obvious result is false\n",
    "                return False\n",
    "            \n",
    "            previous_opening = stack.pop() # grabs previous char\n",
    "            if matching[previous_opening] != c: # if none of the values (aka closing brackets) in matching are equal to c, \n",
    "                return False                    # then c is not a closing bracket. thus false. \n",
    "\n",
    "# watch vid if what Im about to say makes no sense: Each time we are popping values we remove them from the stack\n",
    "# if the stack has no values at the end of the algo then we had an even match for all opening and closing brackets\n",
    "# thus if stack is empty at the end we return True. If stack is not emppty then some backets were left unmatched\n",
    "# so 'not stack' means we return True if stack is empty and False if it contains something\n",
    "    return not stack  \n",
    "\n",
    "string = '([])'\n",
    "isValid(string)"
   ]
  },
  {
   "cell_type": "code",
   "execution_count": null,
   "metadata": {},
   "outputs": [],
   "source": [
    "# 20. Valid Parentheses\n",
    "# my recall beats 91% in time and 60% in space\n",
    "\n",
    "def isValid(s):\n",
    "\n",
    "    matching = {'(': ')', '[': ']', '{': '}'}\n",
    "    stack = []\n",
    "\n",
    "    if len(s) < 2:\n",
    "        return False\n",
    "\n",
    "    for c in s:\n",
    "\n",
    "        if c in matching: # if c in keys, c is an open bracket\n",
    "            stack.append(c)\n",
    "        else:\n",
    "            if not stack: # gets rid of obvious false case\n",
    "                return False\n",
    "            elif matching[stack.pop()] != c:\n",
    "                return False\n",
    "            \n",
    "    if not stack: # if the stack is empty we know we have a 1 to 1 match for all open and closed brackets\n",
    "        return True     # thus we retrun true since that is the success condition\n",
    "    else: \n",
    "        return False    # if there was a mismatch we return false\n",
    "\n",
    "\n",
    "s = \"((\"\n",
    "\n",
    "isValid(s)\n"
   ]
  },
  {
   "cell_type": "code",
   "execution_count": 1,
   "metadata": {},
   "outputs": [
    {
     "ename": "IndexError",
     "evalue": "list index out of range",
     "output_type": "error",
     "traceback": [
      "\u001b[1;31m---------------------------------------------------------------------------\u001b[0m",
      "\u001b[1;31mIndexError\u001b[0m                                Traceback (most recent call last)",
      "\u001b[1;32mx:\\Portfolio Pics\\Algo-tests-\\Stacks and Queues chapter.ipynb Cell 6\u001b[0m in \u001b[0;36m<module>\u001b[1;34m\u001b[0m\n\u001b[0;32m     <a href='vscode-notebook-cell:/x%3A/Portfolio%20Pics/Algo-tests-/Stacks%20and%20Queues%20chapter.ipynb#W5sZmlsZQ%3D%3D?line=17'>18</a>\u001b[0m     \u001b[39mreturn\u001b[39;00m stack\n\u001b[0;32m     <a href='vscode-notebook-cell:/x%3A/Portfolio%20Pics/Algo-tests-/Stacks%20and%20Queues%20chapter.ipynb#W5sZmlsZQ%3D%3D?line=19'>20</a>\u001b[0m test \u001b[39m=\u001b[39m \u001b[39m\"\u001b[39m\u001b[39mabbaca\u001b[39m\u001b[39m\"\u001b[39m\n\u001b[1;32m---> <a href='vscode-notebook-cell:/x%3A/Portfolio%20Pics/Algo-tests-/Stacks%20and%20Queues%20chapter.ipynb#W5sZmlsZQ%3D%3D?line=20'>21</a>\u001b[0m removeDuplicates(test)\n",
      "\u001b[1;32mx:\\Portfolio Pics\\Algo-tests-\\Stacks and Queues chapter.ipynb Cell 6\u001b[0m in \u001b[0;36mremoveDuplicates\u001b[1;34m(s)\u001b[0m\n\u001b[0;32m     <a href='vscode-notebook-cell:/x%3A/Portfolio%20Pics/Algo-tests-/Stacks%20and%20Queues%20chapter.ipynb#W5sZmlsZQ%3D%3D?line=9'>10</a>\u001b[0m     \u001b[39mreturn\u001b[39;00m s\n\u001b[0;32m     <a href='vscode-notebook-cell:/x%3A/Portfolio%20Pics/Algo-tests-/Stacks%20and%20Queues%20chapter.ipynb#W5sZmlsZQ%3D%3D?line=11'>12</a>\u001b[0m \u001b[39mfor\u001b[39;00m i, v \u001b[39min\u001b[39;00m \u001b[39menumerate\u001b[39m(s):\n\u001b[1;32m---> <a href='vscode-notebook-cell:/x%3A/Portfolio%20Pics/Algo-tests-/Stacks%20and%20Queues%20chapter.ipynb#W5sZmlsZQ%3D%3D?line=12'>13</a>\u001b[0m     \u001b[39mif\u001b[39;00m stack[i\u001b[39m-\u001b[39;49m\u001b[39m1\u001b[39;49m] \u001b[39m==\u001b[39m v:\n\u001b[0;32m     <a href='vscode-notebook-cell:/x%3A/Portfolio%20Pics/Algo-tests-/Stacks%20and%20Queues%20chapter.ipynb#W5sZmlsZQ%3D%3D?line=13'>14</a>\u001b[0m         stack\u001b[39m.\u001b[39mpop()\n\u001b[0;32m     <a href='vscode-notebook-cell:/x%3A/Portfolio%20Pics/Algo-tests-/Stacks%20and%20Queues%20chapter.ipynb#W5sZmlsZQ%3D%3D?line=14'>15</a>\u001b[0m     \u001b[39melse\u001b[39;00m:\n",
      "\u001b[1;31mIndexError\u001b[0m: list index out of range"
     ]
    }
   ],
   "source": [
    "# 1047. Remove All Adjacent Duplicates In String\n",
    "# my attempt\n",
    "\n",
    "def removeDuplicates(s):\n",
    "\n",
    "    stack = [s[0]]\n",
    "    dupes = set()\n",
    "\n",
    "    if len(s) < 2:\n",
    "        return s\n",
    "    \n",
    "    for i in range(1, len(s)):\n",
    "        if stack[i-1] == v:\n",
    "            stack.pop()\n",
    "        else:\n",
    "            stack.append(v)\n",
    "\n",
    "    return stack\n",
    "\n",
    "test = \"abbaca\"\n",
    "removeDuplicates(test)"
   ]
  }
 ],
 "metadata": {
  "kernelspec": {
   "display_name": "Python 3",
   "language": "python",
   "name": "python3"
  },
  "language_info": {
   "codemirror_mode": {
    "name": "ipython",
    "version": 3
   },
   "file_extension": ".py",
   "mimetype": "text/x-python",
   "name": "python",
   "nbconvert_exporter": "python",
   "pygments_lexer": "ipython3",
   "version": "3.8.3"
  },
  "orig_nbformat": 4
 },
 "nbformat": 4,
 "nbformat_minor": 2
}
