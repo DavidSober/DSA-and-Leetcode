{
 "cells": [
  {
   "cell_type": "code",
   "execution_count": 6,
   "metadata": {},
   "outputs": [
    {
     "name": "stdout",
     "output_type": "stream",
     "text": [
      "83\n",
      "True\n",
      "False\n",
      "4: 83\n",
      "8: 327\n",
      "45: 82523\n"
     ]
    }
   ],
   "source": [
    "# playground for basics of hash maps\n",
    "# btw hash map are hash tables are dictionaries... they are all the same thing lol\n",
    "my_hash_map = {}\n",
    "\n",
    "my_hash_map[4] = 83\n",
    "print(my_hash_map[4]) # Prints 83\n",
    "\n",
    "print(4 in my_hash_map) # Prints True\n",
    "print(854 in my_hash_map) # Prints False\n",
    "\n",
    "my_hash_map[8] = 327\n",
    "my_hash_map[45] = 82523\n",
    "\n",
    "for key, val in my_hash_map.items():\n",
    "    print(f\"{key}: {val}\")"
   ]
  },
  {
   "cell_type": "code",
   "execution_count": 12,
   "metadata": {},
   "outputs": [
    {
     "data": {
      "text/plain": [
       "[0, 1]"
      ]
     },
     "execution_count": 12,
     "metadata": {},
     "output_type": "execute_result"
    }
   ],
   "source": [
    "# Brute force twosum this will be improved with hashes\n",
    "\n",
    "def fn(nums, target):\n",
    "\n",
    "    for i in range(len(nums)):\n",
    "        for j in range(len(nums)):\n",
    "            if nums[j] == target - nums[i]:\n",
    "                return [i, j]\n",
    "\n",
    "a = [1,2,3,4,5]\n",
    "target = 3\n",
    "\n",
    "fn(a, target)"
   ]
  }
 ],
 "metadata": {
  "kernelspec": {
   "display_name": "Python 3",
   "language": "python",
   "name": "python3"
  },
  "language_info": {
   "codemirror_mode": {
    "name": "ipython",
    "version": 3
   },
   "file_extension": ".py",
   "mimetype": "text/x-python",
   "name": "python",
   "nbconvert_exporter": "python",
   "pygments_lexer": "ipython3",
   "version": "3.8.3"
  },
  "orig_nbformat": 4
 },
 "nbformat": 4,
 "nbformat_minor": 2
}
