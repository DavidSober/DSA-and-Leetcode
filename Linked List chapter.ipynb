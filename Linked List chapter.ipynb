{
 "cells": [
  {
   "attachments": {},
   "cell_type": "markdown",
   "metadata": {},
   "source": [
    "# Linked List Chapter "
   ]
  },
  {
   "cell_type": "code",
   "execution_count": 5,
   "metadata": {},
   "outputs": [
    {
     "name": "stdout",
     "output_type": "stream",
     "text": [
      "1\n",
      "2\n",
      "3\n"
     ]
    }
   ],
   "source": [
    "# Typical set up for a linked list \n",
    "class ListNode:\n",
    "    def __init__(self, val):\n",
    "        self.val = val\n",
    "        self.next = None\n",
    "    \n",
    "one = ListNode(1)\n",
    "two = ListNode(2)\n",
    "three = ListNode(3)\n",
    "one.next = two\n",
    "two.next = three\n",
    "head = one\n",
    "\n",
    "print(head.val)\n",
    "print(head.next.val)\n",
    "print(head.next.next.val)"
   ]
  },
  {
   "cell_type": "code",
   "execution_count": 10,
   "metadata": {},
   "outputs": [
    {
     "name": "stdout",
     "output_type": "stream",
     "text": [
      "1\n",
      "3\n",
      "6\n"
     ]
    },
    {
     "data": {
      "text/plain": [
       "6"
      ]
     },
     "execution_count": 10,
     "metadata": {},
     "output_type": "execute_result"
    }
   ],
   "source": [
    "# Traversal Iterative\n",
    "# getting sum of values from linked list above\n",
    "\n",
    "def get_sum(head):\n",
    "    ans = 0\n",
    "    while head:\n",
    "        ans += head.val\n",
    "        head = head.next\n",
    "    \n",
    "    return ans\n",
    "\n",
    "get_sum(head)"
   ]
  },
  {
   "cell_type": "code",
   "execution_count": 9,
   "metadata": {},
   "outputs": [
    {
     "data": {
      "text/plain": [
       "6"
      ]
     },
     "execution_count": 9,
     "metadata": {},
     "output_type": "execute_result"
    }
   ],
   "source": [
    "# Traversal Recursive\n",
    "# same as above\n",
    "def get_sum(head):\n",
    "    if not head:\n",
    "        return 0\n",
    "    \n",
    "    return head.val + get_sum(head.next)\n",
    "\n",
    "get_sum(head)"
   ]
  },
  {
   "attachments": {},
   "cell_type": "markdown",
   "metadata": {},
   "source": [
    "Singly linked list"
   ]
  },
  {
   "attachments": {},
   "cell_type": "markdown",
   "metadata": {},
   "source": [
    "Inserting a node"
   ]
  },
  {
   "cell_type": "code",
   "execution_count": 11,
   "metadata": {},
   "outputs": [],
   "source": [
    "# Adding a new node at some point between head and tail in linked list\n",
    "# if this makes no sense rewatch 10s animation \n",
    "class ListNode:\n",
    "    def __init__(self, val):\n",
    "        self.val = val\n",
    "        self.next = None\n",
    "\n",
    "# Let prev_node be the node at position i - 1\n",
    "def add_node(prev_node, node_to_add):\n",
    "    node_to_add.next = prev_node.next\n",
    "    prev_node.next = node_to_add"
   ]
  },
  {
   "cell_type": "code",
   "execution_count": 33,
   "metadata": {},
   "outputs": [
    {
     "name": "stdout",
     "output_type": "stream",
     "text": [
      "1\n",
      "2\n",
      "4\n",
      "3\n",
      "now we remove the node\n",
      "1\n",
      "2\n",
      "4\n",
      "node 4 removed!\n"
     ]
    }
   ],
   "source": [
    "# making a linked list recall\n",
    "\n",
    "class Node:                     # you need to make a class for it to works since nodes are objects\n",
    "    def __init__(self, val):\n",
    "        self.val = val\n",
    "        self.next = None\n",
    "\n",
    "one = Node(1) # this is how you create a node\n",
    "two = Node(2)\n",
    "three = Node(3)\n",
    "\n",
    "head = one  # this is how you connect the nodes\n",
    "one.next = two\n",
    "two.next = three\n",
    "\n",
    "# completed recall now add and remove nodes\n",
    "\n",
    "# adding a node test (assuming know know which pointer you want to add a node to)\n",
    "def add_node(prev_node, node_to_add):\n",
    "    node_to_add.next = prev_node.next\n",
    "    prev_node.next = node_to_add\n",
    "\n",
    "four = Node(4) # creates node I want to add\n",
    "add_node(two, four) # adds the node with method above\n",
    "\n",
    "# following print lines show you all values of the linked list\n",
    "print(head.val)\n",
    "print(head.next.val)\n",
    "print(head.next.next.val)\n",
    "print(head.next.next.next.val)\n",
    "\n",
    "# now remove the node you just added\n",
    "\n",
    "# Let prev_node be the node at position i - 1\n",
    "def delete_node(prev_node):\n",
    "    prev_node.next = prev_node.next.next # simply make the previous node skip the node we want gone, then it is lost forever\n",
    "\n",
    "delete_node(four)\n",
    "\n",
    "print('now we remove the node')\n",
    "print(head.val)\n",
    "print(head.next.val)\n",
    "print(head.next.next.val)\n",
    "# print(head.next.next.next.val) # this line will give an error bc we removed the node so nothing is there to print\n",
    "print('node 4 removed!')"
   ]
  },
  {
   "cell_type": "code",
   "execution_count": null,
   "metadata": {},
   "outputs": [],
   "source": [
    "# n most cases, you will need to iterate from the head until you are at the desired position, \n",
    "# which means the operation is typically O(n)."
   ]
  },
  {
   "attachments": {},
   "cell_type": "markdown",
   "metadata": {},
   "source": [
    "Doubly linked list"
   ]
  },
  {
   "cell_type": "code",
   "execution_count": null,
   "metadata": {},
   "outputs": [],
   "source": [
    "# A doubly linked list is like a singly linked list, but each node also contains a pointer to the previous node. \n",
    "# This pointer is usually called prev, and it allows iteration in both directions.\n",
    "\n"
   ]
  },
  {
   "cell_type": "code",
   "execution_count": null,
   "metadata": {},
   "outputs": [],
   "source": [
    "# Doubly linked list\n",
    "# contains a pointer to next node and previous node\n",
    "class ListNode:\n",
    "    def __init__(self, val):\n",
    "        self.val = val\n",
    "        self.next = None\n",
    "        self.prev = None\n",
    "\n",
    "# Let node be the node at position i\n",
    "def add_node(node, node_to_add):\n",
    "    prev_node = node.prev\n",
    "    node_to_add.next = node\n",
    "    node_to_add.prev = prev_node\n",
    "    prev_node.next = node_to_add\n",
    "    node.prev = node_to_add\n",
    "\n",
    "# Let node be the node at position i\n",
    "def delete_node(node):\n",
    "    prev_node = node.prev\n",
    "    next_node = node.next\n",
    "    prev_node.next = next_node\n",
    "    next_node.prev = prev_node"
   ]
  },
  {
   "attachments": {},
   "cell_type": "markdown",
   "metadata": {},
   "source": [
    "Linked lists with sentinel nodes"
   ]
  },
  {
   "cell_type": "code",
   "execution_count": null,
   "metadata": {},
   "outputs": [],
   "source": [
    "# We call the start of a linked list the head and the end of a linked list the tail."
   ]
  },
  {
   "cell_type": "code",
   "execution_count": 34,
   "metadata": {},
   "outputs": [],
   "source": [
    "# here we have a few more functions that are useful for linked lists \n",
    "# we use sentinal nodes (head and tail are not real nodes but they point to the firs tand last node)\n",
    "# these sentinal nodes help us add and remove nodes to the start and end of our linked lists\n",
    "# idk if you need to memorize these? But use them for reference in the future\n",
    "class ListNode:\n",
    "    def __init__(self, val):\n",
    "        self.val = val\n",
    "        self.next = None\n",
    "        self.prev = None\n",
    "\n",
    "def add_to_end(node_to_add):\n",
    "    node_to_add.next = tail\n",
    "    node_to_add.prev = tail.prev\n",
    "    tail.prev.next = node_to_add\n",
    "    tail.prev = node_to_add\n",
    "\n",
    "def remove_from_end():\n",
    "    if head.next == tail:\n",
    "        return\n",
    "\n",
    "    node_to_remove = tail.prev\n",
    "    node_to_remove.prev.next = tail\n",
    "    tail.prev = node_to_remove.prev\n",
    "\n",
    "def add_to_start(node_to_add):\n",
    "    node_to_add.prev = head\n",
    "    node_to_add.next = head.next\n",
    "    head.next.prev = node_to_add\n",
    "    head.next = node_to_add\n",
    "\n",
    "def remove_from_start():\n",
    "    if head.next == tail:\n",
    "        return\n",
    "    \n",
    "    node_to_remove = head.next\n",
    "    node_to_remove.next.prev = head\n",
    "    head.next = node_to_remove.next\n",
    "\n",
    "head = ListNode(None)\n",
    "tail = ListNode(None)\n",
    "head.next = tail\n",
    "tail.prev = head"
   ]
  },
  {
   "cell_type": "code",
   "execution_count": 21,
   "metadata": {},
   "outputs": [],
   "source": [
    "def get_sum(head):\n",
    "    ans = 0\n",
    "    dummy = head\n",
    "    while dummy:\n",
    "        if dummy.val == None: # I added the if statement since head.val is None initially omegalul\n",
    "            dummy = dummy.next\n",
    "            continue    \n",
    "        ans += dummy.val\n",
    "        dummy = dummy.next\n",
    "    \n",
    "    # same as before, but we still have a pointer at the head\n",
    "    return ans"
   ]
  },
  {
   "cell_type": "code",
   "execution_count": 156,
   "metadata": {},
   "outputs": [
    {
     "data": {
      "text/plain": [
       "6"
      ]
     },
     "execution_count": 156,
     "metadata": {},
     "output_type": "execute_result"
    }
   ],
   "source": [
    "# Here we make a doubly linked list with head and tail and sum through it using the method above\n",
    "\n",
    "class ListNode:\n",
    "    def __init__(self, val):\n",
    "        self.val = val\n",
    "        self.next = None\n",
    "        self.prev = None\n",
    "    \n",
    "# Write your code here\n",
    "# Try creating 1 <-> 2 <-> 3\n",
    "# Test with print()\n",
    "\n",
    "# creating all nodes\n",
    "one = ListNode(1)\n",
    "two = ListNode(2)\n",
    "three = ListNode(3)\n",
    "# creating head and tail nodes\n",
    "head = ListNode(None) \n",
    "tail = ListNode(None)\n",
    "# initializng head and tail\n",
    "head.next = tail \n",
    "tail.prev = head\n",
    "#connecting nodes\n",
    "head.next = one\n",
    "one.next = two\n",
    "two.next = three\n",
    "three.next = tail\n",
    "\n",
    "tail.prev = three\n",
    "three.prev = two\n",
    "two.prev = one\n",
    "one.prev = head\n",
    "\n",
    "get_sum(head)"
   ]
  },
  {
   "cell_type": "code",
   "execution_count": 23,
   "metadata": {},
   "outputs": [
    {
     "name": "stdout",
     "output_type": "stream",
     "text": [
      "2\n"
     ]
    }
   ],
   "source": [
    "# getting middle node of linked list in a non efficient way.\n",
    "def get_middle(head):\n",
    "    length = 0\n",
    "    dummy = head\n",
    "    while dummy:\n",
    "        length += 1\n",
    "        dummy = dummy.next\n",
    "    \n",
    "    for _ in range(length // 2):\n",
    "        head = head.next\n",
    "    \n",
    "    return head.val\n",
    "\n",
    "middle_len = get_middle(head)\n",
    "print(middle_len)"
   ]
  },
  {
   "attachments": {},
   "cell_type": "markdown",
   "metadata": {},
   "source": [
    "Fast and Slow pointers"
   ]
  },
  {
   "cell_type": "code",
   "execution_count": null,
   "metadata": {},
   "outputs": [],
   "source": [
    "# getting the middle node value of linked list with fast and slow pointers\n",
    "# The most elegant solution comes from using the fast and slow pointer technique. If we have one pointer moving twice as \n",
    "# fast as the other, then by the time it reaches the end, the slow pointer will be halfway through since it is moving at \n",
    "# half the speed.\n",
    "def get_middle(head):\n",
    "    slow = head\n",
    "    fast = head\n",
    "    while fast and fast.next:\n",
    "        slow = slow.next\n",
    "        fast = fast.next.next # this makes fast pointer twice as fast as slow pointer\n",
    "    \n",
    "    return slow.val"
   ]
  },
  {
   "cell_type": "code",
   "execution_count": 25,
   "metadata": {},
   "outputs": [
    {
     "name": "stdout",
     "output_type": "stream",
     "text": [
      "2\n"
     ]
    }
   ],
   "source": [
    "def get_middle(head):\n",
    "    length = 0\n",
    "    dummy = head\n",
    "    while dummy:\n",
    "        length += 1\n",
    "        dummy = dummy.next\n",
    "    \n",
    "    for _ in range(length // 2):\n",
    "        head = head.next\n",
    "    \n",
    "    return head.val\n",
    "\n",
    "middle_len = get_middle(head)\n",
    "print(middle_len)"
   ]
  },
  {
   "cell_type": "code",
   "execution_count": null,
   "metadata": {},
   "outputs": [],
   "source": [
    "# 141. Linked List Cycle\n",
    "# my attempt (looks hard asf for an 'easy' problem tbh)\n",
    "# did not work you cannot run anything here since the linkedlist are inputted through leetcodes website you must use their stuff\n",
    "\n",
    "# the reason your code does not work is because if there is a cycle dummy will go on forever in that cycle\n",
    "# to fix your code you would need to check if there is a cycle and update dummy the pointer\n",
    "class Solution:\n",
    "    def hasCycle(self, head: Optional[ListNode]) -> bool:\n",
    "\n",
    "        if not head:\n",
    "            return False\n",
    "        if head.next == None:\n",
    "            return False\n",
    "\n",
    "        dummy = head\n",
    "        #slow = head.next\n",
    "        #fast = head.next.next # this is one ahead so it should reach end first\n",
    "\n",
    "        while dummy and dummy.next:\n",
    "            #if slow.next != fast:\n",
    "            #    return False\n",
    "\n",
    "            #print(slow, fast)\n",
    "            dummy = dummy.next\n",
    "            #print(dummy)\n",
    "            #slow = slow.next.next\n",
    "            #fast = fast.next.next \n",
    "\n",
    "        return True\n",
    "\n"
   ]
  },
  {
   "cell_type": "code",
   "execution_count": 27,
   "metadata": {},
   "outputs": [],
   "source": [
    "# 141. Linked List Cycle\n",
    "# official solution beats 94% time and 56% space \n",
    "\n",
    "# Definition for singly-linked list.\n",
    "# class ListNode:\n",
    "#     def __init__(self, x):\n",
    "#         self.val = x\n",
    "#         self.next = None\n",
    "\n",
    "class Solution:\n",
    "    def hasCycle(head):\n",
    "\n",
    "        slow = head\n",
    "        fast = head\n",
    "        while fast and fast.next: # if we get to the end of the list and the if statement below did not occur there is no cycle\n",
    "            slow = slow.next\n",
    "            fast = fast.next.next\n",
    "            if slow == fast: # if both pointers equal each other it is because they both were caught in a cycle (see vod)\n",
    "                return True  \n",
    "\n",
    "        return False"
   ]
  },
  {
   "cell_type": "code",
   "execution_count": 28,
   "metadata": {},
   "outputs": [],
   "source": [
    "# 141. Linked List Cycle\n",
    "# solution above is better but this works too uses a hash set\n",
    "class Solution:\n",
    "    def hasCycle(head):\n",
    "        seen = set()\n",
    "        while head:         # traverses the linked list\n",
    "            if head in seen: # checks to see if there is a repeat of nodes \n",
    "                return True\n",
    "            seen.add(head)\n",
    "            head = head.next\n",
    "        return False"
   ]
  },
  {
   "cell_type": "code",
   "execution_count": null,
   "metadata": {},
   "outputs": [],
   "source": [
    "# remember to run the linkedlist creationg cell a few cells above before running these!"
   ]
  },
  {
   "cell_type": "code",
   "execution_count": 56,
   "metadata": {},
   "outputs": [
    {
     "data": {
      "text/plain": [
       "<__main__.ListNode at 0x2269ddc10a0>"
      ]
     },
     "execution_count": 56,
     "metadata": {},
     "output_type": "execute_result"
    }
   ],
   "source": [
    "# Example 3: Given the head of a linked list and an integer k, return the kth node from the end.\n",
    "# For example, given the linked list that represents 1 -> 2 -> 3 -> 4 -> 5 and k = 2, return the node with value 4,\n",
    "#  as it is the 2nd node from the end.\n",
    "# my attempt: It seems to work as good as the other one but without any extensive test cases it is hard to tell \n",
    "# O(n) time since while loop only goes through the end of the list once then we reverse k times\n",
    "\n",
    "def findNode(head, k):\n",
    "    dummy = head\n",
    "    while dummy: # traverses entire list\n",
    "\n",
    "        if dummy.next is None: # once we get to the end of list .next is None, time to go back k times\n",
    "\n",
    "            for i in range(k - 1): # reverses k times (-1 bc k is one indexed and we use it in a 0 indexed manner)\n",
    "                dummy = dummy.prev\n",
    "            return dummy # once we have gone back k times we return node put .val for both this and official to see \n",
    "        \n",
    "        dummy = dummy.next\n",
    "\n",
    "findNode(head, 2)\n"
   ]
  },
  {
   "cell_type": "code",
   "execution_count": 68,
   "metadata": {},
   "outputs": [
    {
     "data": {
      "text/plain": [
       "<__main__.ListNode at 0x2269ddc10a0>"
      ]
     },
     "execution_count": 68,
     "metadata": {},
     "output_type": "execute_result"
    }
   ],
   "source": [
    "# Example 3: Given the head of a linked list and an integer k, return the kth node from the end.\n",
    "# official solution: O(n) time and O(1) space damn good algo there\n",
    "\n",
    "def find_node(head, k):\n",
    "    slow = head\n",
    "    fast = head\n",
    "    for _ in range(k):      # we are setting fast to be k spaces ahead of slow\n",
    "        fast = fast.next\n",
    "    \n",
    "    while fast:             # slow will be k spaces behind fast which will be k spaces behind tail once fast reaches the end\n",
    "        slow = slow.next    # of the list, thus we have our answer slow is k spaces behind tail (aka the end of the LL)\n",
    "        fast = fast.next\n",
    "    \n",
    "    return slow\n",
    "\n",
    "find_node(head, 2)"
   ]
  },
  {
   "cell_type": "code",
   "execution_count": 69,
   "metadata": {},
   "outputs": [
    {
     "data": {
      "text/plain": [
       "2"
      ]
     },
     "execution_count": 69,
     "metadata": {},
     "output_type": "execute_result"
    }
   ],
   "source": [
    "# same idea as above but with a hashmap instead (input must be a list )\n",
    "def find_node_whashmap(head, k):\n",
    "    dic = {}\n",
    "    for i, v in enumerate(head):\n",
    "        dic[i] = v\n",
    "    return dic[len(dic) - k]\n",
    "\n",
    "test = [1,2,3]\n",
    "k = 2\n",
    "find_node_whashmap(test, k)\n"
   ]
  },
  {
   "cell_type": "code",
   "execution_count": 104,
   "metadata": {},
   "outputs": [
    {
     "name": "stdout",
     "output_type": "stream",
     "text": [
      "Execution time: 0.09 ms\n"
     ]
    }
   ],
   "source": [
    "# This is the official solution again I just want to time it to test against my solution \n",
    "import timeit\n",
    "\n",
    "start_time = timeit.default_timer()\n",
    "\n",
    "def find_node(head, k):\n",
    "    slow = head\n",
    "    fast = head\n",
    "    for _ in range(k):      # we are setting fast to be k spaces ahead of slow\n",
    "        fast = fast.next\n",
    "    \n",
    "    while fast:             # slow will be k spaces behind fast which will be k spaces behind tail once fast reaches the end\n",
    "        slow = slow.next    # of the list, thus we have our answer slow is k spaces behind tail (aka the end of the LL)\n",
    "        fast = fast.next\n",
    "    \n",
    "    return slow\n",
    "\n",
    "find_node(head, 2)\n",
    "\n",
    "end_time = timeit.default_timer()\n",
    "\n",
    "execution_time_ms = (end_time - start_time) * 1000\n",
    "print(f\"Execution time: {execution_time_ms:.2f} ms\")"
   ]
  },
  {
   "attachments": {},
   "cell_type": "markdown",
   "metadata": {},
   "source": [
    "damn so the official solution is 0.04ms or 40ms faster than my code which is sig since that is like 40% faster"
   ]
  },
  {
   "cell_type": "code",
   "execution_count": 91,
   "metadata": {},
   "outputs": [
    {
     "name": "stdout",
     "output_type": "stream",
     "text": [
      "Execution time: 0.13 ms\n"
     ]
    }
   ],
   "source": [
    "# using above method to \"cheat\" the answer WORKS OMEGALUL\n",
    "import timeit\n",
    "start_time = timeit.default_timer()\n",
    "\n",
    "def find_node_whashmap(head, k):\n",
    "    # first interate through linkedlist and convert it all to list\n",
    "    cheat_list = []\n",
    "    while head:\n",
    "        cheat_list.append(head)\n",
    "        head = head.next\n",
    "    # then use hashmap to solve list ez\n",
    "    dic = {}\n",
    "    for i, v in enumerate(cheat_list):\n",
    "        dic[i] = v\n",
    "    return dic[len(dic) - k - 1] # dic[len(dic) - k - 1].val # use this to return the value\n",
    "\n",
    "k = 2\n",
    "find_node_whashmap(head, k)\n",
    "\n",
    "end_time = timeit.default_timer()\n",
    "\n",
    "execution_time_ms = (end_time - start_time) * 1000\n",
    "print(f\"Execution time: {execution_time_ms:.2f} ms\")"
   ]
  },
  {
   "cell_type": "code",
   "execution_count": 116,
   "metadata": {},
   "outputs": [
    {
     "data": {
      "text/plain": [
       "<__main__.ListNode at 0x2269ddc11f0>"
      ]
     },
     "execution_count": 116,
     "metadata": {},
     "output_type": "execute_result"
    }
   ],
   "source": [
    "# Middle of the Linked List\n",
    "# Given the head of a singly linked list, return the middle node of the linked list.\n",
    "# If there are two middle nodes, return the second middle node.\n",
    "# reused code from finding middle node and it worked.. beat 60% time and 44% space\n",
    "\n",
    "def getting_mid_node(head):\n",
    "\n",
    "    slow = head\n",
    "    fast = head\n",
    "\n",
    "    while fast and fast.next:\n",
    "        slow = slow.next\n",
    "        fast = fast.next.next\n",
    "\n",
    "    return slow\n",
    "    \n",
    "getting_mid_node(head)"
   ]
  },
  {
   "cell_type": "code",
   "execution_count": 120,
   "metadata": {},
   "outputs": [],
   "source": [
    "# Remove Duplicates from Sorted List\n",
    "# Given the head of a sorted linked list, delete all duplicates such that each element appears only once. \n",
    "# Return the linked list sorted as well.\n",
    "# my attempt (i am thinking of using a hashset) # did not work but I think it was the right track maybe\n",
    "\n",
    "def deleteDuplicates(head):\n",
    "\n",
    "    dupes = set()\n",
    "\n",
    "    dummy = head\n",
    "    while dummy:\n",
    "        \n",
    "\n",
    "        if dummy in dupes: # removes current node \n",
    "            dummy.prev.next = dummy.next\n",
    "            dummy.next.prev = dummy.prev\n",
    "            \n",
    "            \n",
    "        dupes.add(dummy)\n",
    "        dummy = dummy.next    \n",
    "\n",
    "\n",
    "\n"
   ]
  },
  {
   "cell_type": "code",
   "execution_count": 118,
   "metadata": {},
   "outputs": [],
   "source": [
    "# successfully did recall how to delete a node. did need to use drawing but still\n",
    "def delete_node_recall(node):\n",
    "\n",
    "    node.prev.next = node.next\n",
    "    node.next.prev = node.prev\n"
   ]
  },
  {
   "cell_type": "code",
   "execution_count": 153,
   "metadata": {},
   "outputs": [],
   "source": [
    "# Remove Duplicates from Sorted List SINGLY LINKED LIST\n",
    "\n",
    "# compare the next node to the current node and if they equal we have a dupe. since the list is sorted we do not \n",
    "# need to worry about a hashset in this problem. maybe in the future you will though\n",
    "\n",
    "def deleteDuplicates(head):\n",
    "\n",
    "    curr = head\n",
    "    while curr and curr.next:\n",
    "        if curr.next.val == curr.val:\n",
    "            curr.next = curr.next.next # current node pointer will skip the next node since next node is a dupe\n",
    "        curr = curr.next\n",
    "    return head\n",
    "    \n",
    "\n"
   ]
  },
  {
   "attachments": {},
   "cell_type": "markdown",
   "metadata": {},
   "source": [
    "Reversing a linked list "
   ]
  },
  {
   "cell_type": "code",
   "execution_count": 157,
   "metadata": {},
   "outputs": [
    {
     "data": {
      "text/plain": [
       "6"
      ]
     },
     "execution_count": 157,
     "metadata": {},
     "output_type": "execute_result"
    }
   ],
   "source": [
    "# First let us make another doubly linkedlist that we can play with below for LL problems\n",
    "class ListNode:\n",
    "    def __init__(self, val):\n",
    "        self.val = val\n",
    "        self.next = None\n",
    "        self.prev = None\n",
    "    \n",
    "# Write your code here\n",
    "# Try creating 1 <-> 2 <-> 3\n",
    "# Test with print()\n",
    "\n",
    "# creating all nodes\n",
    "one = ListNode(1)\n",
    "two = ListNode(2)\n",
    "three = ListNode(3)\n",
    "# creating head and tail nodes\n",
    "head = ListNode(None) \n",
    "tail = ListNode(None)\n",
    "# initializng head and tail\n",
    "head.next = tail \n",
    "tail.prev = head\n",
    "#connecting nodes\n",
    "head.next = one\n",
    "one.next = two\n",
    "two.next = three\n",
    "three.next = tail\n",
    "\n",
    "tail.prev = three\n",
    "three.prev = two\n",
    "two.prev = one\n",
    "one.prev = head\n",
    "\n",
    "get_sum(head)"
   ]
  },
  {
   "cell_type": "code",
   "execution_count": 173,
   "metadata": {},
   "outputs": [
    {
     "data": {
      "text/plain": [
       "[None, 3, 2, 1, None]"
      ]
     },
     "execution_count": 173,
     "metadata": {},
     "output_type": "execute_result"
    }
   ],
   "source": [
    "# Reversing a linked list\n",
    "# my attempt (i know you can use recursion and potentiall use prev nodes to save places of old nodes?)\n",
    "# this does not work since I did not return a linkedlist BUT it does reverse the LL and return that in a list form\n",
    "# to get full credit you would need to convert the list into a LL\n",
    "\n",
    "def reverse_list(head):\n",
    "\n",
    "    LL = []\n",
    "\n",
    "    while head:\n",
    "        LL.append(head.val)\n",
    "\n",
    "        head = head.next\n",
    "    \n",
    "    j = len(LL) - 1\n",
    "    temp = []\n",
    "    for i in range(len(LL)):        \n",
    "        temp.append(LL[j])\n",
    "        j -= 1\n",
    "\n",
    "    return temp\n",
    "\n",
    "reverse_list(head)\n",
    "\n"
   ]
  },
  {
   "cell_type": "code",
   "execution_count": null,
   "metadata": {},
   "outputs": [],
   "source": [
    "# Reversing a LL (if this does not make sense watch animation then it will)\n",
    "\n",
    "def reverse_list(head):\n",
    "    prev = None\n",
    "    curr = head\n",
    "    while curr:\n",
    "        next_node = curr.next # first, make sure we don't lose the next node\n",
    "        curr.next = prev      # reverse the direction of the pointer\n",
    "        prev = curr           # set the current node to prev for the next node\n",
    "        curr = next_node      # move on\n",
    "        \n",
    "    return prev"
   ]
  },
  {
   "cell_type": "code",
   "execution_count": 175,
   "metadata": {},
   "outputs": [],
   "source": [
    "# 24. Swap Nodes in Pairs\n",
    "# my attempt\n",
    "\n",
    "def swapPairs(head):\n",
    "\n",
    "    if not head:\n",
    "        return head\n",
    "    elif head.next is None:\n",
    "        return head\n",
    "\n",
    "    curr = head\n",
    "    while curr:\n",
    "\n",
    "        jump = curr.next.next\n",
    "        \n",
    "        next_node = curr.next\n",
    "        next_node.next = curr # make next node point to curr\n",
    "\n",
    "        curr.next = curr.next.next.next\n",
    "        curr = jump\n",
    "\n",
    "    return jump\n",
    "\n",
    "\n"
   ]
  }
 ],
 "metadata": {
  "kernelspec": {
   "display_name": "Python 3",
   "language": "python",
   "name": "python3"
  },
  "language_info": {
   "codemirror_mode": {
    "name": "ipython",
    "version": 3
   },
   "file_extension": ".py",
   "mimetype": "text/x-python",
   "name": "python",
   "nbconvert_exporter": "python",
   "pygments_lexer": "ipython3",
   "version": "3.8.3"
  },
  "orig_nbformat": 4
 },
 "nbformat": 4,
 "nbformat_minor": 2
}
