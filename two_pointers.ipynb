{
 "cells": [
  {
   "cell_type": "code",
   "execution_count": 4,
   "metadata": {},
   "outputs": [
    {
     "data": {
      "text/plain": [
       "True"
      ]
     },
     "execution_count": 4,
     "metadata": {},
     "output_type": "execute_result"
    }
   ],
   "source": [
    "# A string is a palindrome if it reads the same forwards as backwards. \n",
    "# That means, after reversing it, it is still the same string. For example: \"abcdcba\", or \"racecar\".\n",
    "# this is an example of two pointers\n",
    "# O(n) time and O(1) space\n",
    "\n",
    "list = 'racecar'\n",
    "\n",
    "def palendrome_test(arr):\n",
    "    left = 0\n",
    "    right = len(arr) - 1\n",
    "\n",
    "    while(left < right):\n",
    "        \n",
    "        if arr[left] != arr[right]:\n",
    "            return False\n",
    "        \n",
    "        left += 1\n",
    "        right -= 1 \n",
    "        \n",
    "    return True\n",
    "\n",
    "\n",
    "palendrome_test(list)"
   ]
  },
  {
   "cell_type": "code",
   "execution_count": 7,
   "metadata": {},
   "outputs": [
    {
     "data": {
      "text/plain": [
       "True"
      ]
     },
     "execution_count": 7,
     "metadata": {},
     "output_type": "execute_result"
    }
   ],
   "source": [
    "# similar to Two Sum BUT we assume the input is already sorted so this is much much simpler \n",
    "\n",
    "nums = [1, 2, 4, 6, 8, 9, 14, 15]\n",
    "\n",
    "def two_sums_sorted(arr, target):\n",
    "    left = 0\n",
    "    right = len(arr) - 1\n",
    "\n",
    "    while(left < right):\n",
    "        \n",
    "        if arr[left] + arr[right] == target:\n",
    "            return True\n",
    "        if arr[left] + arr[right] > target:\n",
    "            right -= 1 # if the sum is less than target then the right value is too big, since this list is sorted, we can \n",
    "                       # decrease the right which will always result in a decreased sum\n",
    "        if arr[left] + arr[right] < target:\n",
    "            left += 1\n",
    "\n",
    "    return False\n",
    "\n",
    "two_sums_sorted(nums, 13)"
   ]
  },
  {
   "cell_type": "code",
   "execution_count": 16,
   "metadata": {},
   "outputs": [
    {
     "data": {
      "text/plain": [
       "[1, 2, 3, 4, 5, 6]"
      ]
     },
     "execution_count": 16,
     "metadata": {},
     "output_type": "execute_result"
    }
   ],
   "source": [
    "def sort(arr1, arr2):\n",
    "    sol = []\n",
    "    i = j = 0\n",
    "    while(i < len(arr1) and j < len(arr2)):\n",
    "\n",
    "        if(arr1[i] < arr2[j]):\n",
    "            sol.append(arr1[i])\n",
    "            i += 1\n",
    "        else:\n",
    "            sol.append(arr2[j])\n",
    "            j += 1\n",
    "\n",
    "    while i < len(arr1):\n",
    "        sol.append(arr1[i])\n",
    "        i += 1\n",
    "\n",
    "    while j < len(arr2):\n",
    "        sol.append(arr2[j])\n",
    "        j += 1\n",
    "\n",
    "    return sol\n",
    "\n",
    "arr1 = [1,2,3]\n",
    "arr2 = [4,5,6]\n",
    "sort(arr1, arr2)"
   ]
  },
  {
   "cell_type": "code",
   "execution_count": 20,
   "metadata": {},
   "outputs": [
    {
     "data": {
      "text/plain": [
       "True"
      ]
     },
     "execution_count": 20,
     "metadata": {},
     "output_type": "execute_result"
    }
   ],
   "source": [
    "# if a sub string is inside of the super string returns true else returns false\n",
    "def subsequence(sub, super):\n",
    "\n",
    "    i = j = 0\n",
    "\n",
    "    while j < len(super):\n",
    "        \n",
    "        if sub[i] == super[j]:\n",
    "            i += 1\n",
    "            j += 1\n",
    "        else:\n",
    "            j += 1\n",
    "        if i == len(sub):\n",
    "            return True\n",
    "    return False\n",
    "\n",
    "super = \"umm, hello world\"\n",
    "sub = \"hello\"\n",
    "\n",
    "subsequence(sub, super)\n",
    "    "
   ]
  },
  {
   "cell_type": "code",
   "execution_count": 30,
   "metadata": {},
   "outputs": [
    {
     "name": "stdout",
     "output_type": "stream",
     "text": [
      "['o', 'l', 'l', 'e', 'h']\n"
     ]
    }
   ],
   "source": [
    "class Solution(object):\n",
    "    def reverseString(self, s):\n",
    "\n",
    "        i = len(s) - 1\n",
    "        out = []\n",
    "        while i > -1:\n",
    "            out.append(s[i])\n",
    "            i -= 1\n",
    "        return out\n",
    "    \n",
    "    a = Solution() # initializing object\n",
    "    b = a.reverseString(\"hello\") # calling function in object\n",
    "    print(b) "
   ]
  },
  {
   "cell_type": "code",
   "execution_count": 2,
   "metadata": {},
   "outputs": [],
   "source": [
    "# this was my attempt to both square and sort for the squares of a sorted array problem in leetcode algos class\n",
    "# finish at a later time the simple solution is one line. \n",
    "# I got close but am missing one element for some reason.\n",
    "\n",
    "class Solution(object):\n",
    "    def sortedSquares(self, nums):\n",
    "        \"\"\"\n",
    "        :type nums: List[int]\n",
    "        :rtype: List[int]\n",
    "        \"\"\"\n",
    "        square = []\n",
    "        for i in nums:\n",
    "            square.append(i ** 2)\n",
    "        \n",
    "        ans = []\n",
    "        i = 0\n",
    "        j = len(square) - 1\n",
    "        while i < j:\n",
    "            \n",
    "            if square[i] > square[j]:\n",
    "                ans.insert(0,square[i])\n",
    "                ans.insert(0,square[j])\n",
    "            else:\n",
    "                ans.insert(0,square[j])\n",
    "                ans.insert(0,square[i])\n",
    "            i += 1\n",
    "            j -= 1\n",
    "                \n",
    "        return ans"
   ]
  },
  {
   "cell_type": "code",
   "execution_count": 1,
   "metadata": {},
   "outputs": [
    {
     "name": "stdout",
     "output_type": "stream",
     "text": [
      "test\n"
     ]
    }
   ],
   "source": [
    "\n",
    "def slidewindow(arr, max):\n",
    "\n",
    "    left = 0\n",
    "\n",
    "    for right in [1, len(arr) - 1]:\n",
    "        \n",
    "        if sum( [arr[left], arr[right]]) < max:\n",
    "            \n",
    "\n",
    "        \n",
    "\n",
    "    return False\n",
    "\n",
    "\n",
    "\n"
   ]
  },
  {
   "cell_type": "code",
   "execution_count": 18,
   "metadata": {},
   "outputs": [
    {
     "data": {
      "text/plain": [
       "5"
      ]
     },
     "execution_count": 18,
     "metadata": {},
     "output_type": "execute_result"
    }
   ],
   "source": [
    "def find_length(nums):\n",
    "    left = curr = ans = 0\n",
    "    for right in range(len(nums)):\n",
    "\n",
    "        if nums[right] == 0:\n",
    "            curr += 1\n",
    "\n",
    "        while curr > 1:\n",
    "            if nums[left] == 0:\n",
    "                curr -= 1\n",
    "            left += 1\n",
    "\n",
    "        ans = max(ans, right - left + 1)\n",
    "    \n",
    "    return ans\n",
    "\n",
    "find_length([1,1,0,1,1,0,0,1,1,1])"
   ]
  },
  {
   "cell_type": "code",
   "execution_count": null,
   "metadata": {},
   "outputs": [],
   "source": [
    "# finding the number of subarrays whose product is less than k \n",
    "class Solution:\n",
    "    def numSubarrayProductLessThanK(self, nums: List[int], k: int) -> int:\n",
    "        if k <= 1:  # base case that returns 0 if k is negative bc otherwise the algo will run forever \n",
    "            return 0\n",
    "\n",
    "        ans = left = 0\n",
    "        curr = 1  # starts at 1 bc when we multiply we cannot * 0 or it will delete our current count of subarrs\n",
    "\n",
    "        for right in range(len(nums)):\n",
    "            curr *= nums[right]        # calculates the product of the current subarr\n",
    "            while curr >= k:            \n",
    "                curr //= nums[left]    # \"deletes\" the current product. We can undo * by //\n",
    "                left += 1\n",
    "            ans += right - left + 1    # this part was sort of confusing read below\n",
    "            # For each index, the number of subarrays ending at that index is the length of the window after reaching that index\n",
    "            # the length is right - left + 1\n",
    "            # so we want to capture the num of subarrs and for any given right index we can get that by right - left + 1\n",
    "            # also bc of the previous while loop moving the left index as needed we dont have to worry about the left index\n",
    "            # since it is taken care of.\n",
    "\n",
    "        return ans"
   ]
  },
  {
   "cell_type": "code",
   "execution_count": null,
   "metadata": {},
   "outputs": [],
   "source": [
    "# fixed window size\n",
    "\n",
    "def find_best_subarray(nums, k):\n",
    "    curr = 0\n",
    "    for i in range(k):  # creating the first window (we are creating the sum of the first window not the window itself)\n",
    "        curr += nums[i]\n",
    "    \n",
    "    ans = curr # initialize ans as curr since curr is our starting point right now\n",
    "\n",
    "    for i in range(k, len(nums)): # we start at index k bc in the previous for loop we iterated through the first k indexes \n",
    "                                  # we dont want to double count these so we start at k and end at len(nums) the rest of the arr \n",
    "\n",
    "        curr += nums[i] - nums[i - k] # we are adding the next element to the sum and subtracting the left most element from \n",
    "                                      # the sum (sum = curr)\n",
    "        \n",
    "                                      # we add nums[i] since this is simply adding the next element in nums to curr\n",
    "                                      # we subtracted nums[i - k] bc at index i if we move k units back we will be at our \n",
    "                                      # first index of our window. This is because the window is k units long\n",
    "                                      # thus by removing the first index of our window we are \"moving\" the window right\n",
    "                                      # watch the vid in the leetcode class if this makes shit sense. \n",
    "\n",
    "        ans = max(ans, curr) # every time we finish moving the window we get a new sum, the max() compares our previous sum \n",
    "                             # to our current sum. The largest one wins since that is what we are after. \n",
    "    \n",
    "    return ans"
   ]
  },
  {
   "cell_type": "code",
   "execution_count": 32,
   "metadata": {},
   "outputs": [
    {
     "data": {
      "text/plain": [
       "12.75"
      ]
     },
     "execution_count": 32,
     "metadata": {},
     "output_type": "execute_result"
    }
   ],
   "source": [
    "# Maximum Average Subarray I\n",
    "\n",
    "def MaxMeanSubarr(nums, k):\n",
    "    curr = 0\n",
    "    for i in range(k):  # creating the first window (we are creating the sum of the first window not the window itself)\n",
    "        curr += nums[i]\n",
    "    \n",
    "    # curr = (curr) / k # calc initial mean\n",
    "    ans = curr / k\n",
    "\n",
    "    for i in range(k, len(nums)):  \n",
    "\n",
    "        curr += nums[i] - nums[i - k]\n",
    "        ans = float(max(ans, curr / k)) \n",
    "    \n",
    "    return ans\n",
    "\n",
    "nums = [1,12,-5,-6,50,3]\n",
    "k = 4\n",
    "\n",
    "MaxMeanSubarr(nums,k)"
   ]
  },
  {
   "cell_type": "code",
   "execution_count": 42,
   "metadata": {},
   "outputs": [
    {
     "data": {
      "text/plain": [
       "6"
      ]
     },
     "execution_count": 42,
     "metadata": {},
     "output_type": "execute_result"
    }
   ],
   "source": [
    "# Max Consecutive Ones III\n",
    "# Given a binary array nums and an integer k, return the \n",
    "# maximum number of consecutive 1's in the array if you can flip at most k 0's.\n",
    "class Solution:\n",
    "    def longestOnes(self, nums, k) -> int:\n",
    "        left = curr = ans = 0\n",
    "        for right in range(len(nums)):\n",
    "\n",
    "            if nums[right] == 0:\n",
    "                curr += 1\n",
    "\n",
    "            while curr > k:\n",
    "                if nums[left] == 0:\n",
    "                    curr -= 1\n",
    "                left += 1\n",
    "\n",
    "            ans = max(ans, right - left + 1)\n",
    "        \n",
    "        return ans\n",
    "\n",
    "k = 2\n",
    "nums = [1,1,1,0,0,0,1,1,1,1,0]\n",
    "obj = Solution()\n",
    "obj.longestOnes(nums, k)\n",
    "\n",
    "\n"
   ]
  },
  {
   "cell_type": "code",
   "execution_count": 47,
   "metadata": {},
   "outputs": [
    {
     "name": "stdout",
     "output_type": "stream",
     "text": [
      "[5, 7, 8, 14, 17, 25]\n"
     ]
    }
   ],
   "source": [
    "# here is my version of a prefix sum. This is not exactly the way they did it but it technically works the same \n",
    "# AND has the same time and space complexity.\n",
    "nums = [5, 2, 1, 6, 3, 8]\n",
    "prefix = nums\n",
    "curr = 0\n",
    "for i in range(len(prefix)):\n",
    "    curr += prefix[i]\n",
    "    prefix[i] = curr \n",
    "\n",
    "print(prefix)\n"
   ]
  },
  {
   "cell_type": "code",
   "execution_count": 49,
   "metadata": {},
   "outputs": [],
   "source": [
    "# This is the correct way to make a prefix according to leetcode's algo class\n",
    "\n",
    "nums = [5, 2, 1, 6, 3, 8]\n",
    "prefix = [nums[0]] # creating the first element of the prefix\n",
    "for i in range(1, len(nums)): # start at 1 since 0 was used to create prefix\n",
    "    prefix.append(nums[i] + prefix[ len(prefix) - 1]) # nums[i] represents the new element we will add\n",
    "                                                      # len(predix) - 1 represents the previous element in the prefix\n",
    "                                                      # which by def is the sum of itself and all previous elements\n",
    "                                                      # which means we are adding the new element to the sum of all\n",
    "                                                      # previous elements\n",
    "\n",
    "\n",
    "\n"
   ]
  },
  {
   "cell_type": "code",
   "execution_count": 51,
   "metadata": {},
   "outputs": [
    {
     "data": {
      "text/plain": [
       "[True, False, True]"
      ]
     },
     "execution_count": 51,
     "metadata": {},
     "output_type": "execute_result"
    }
   ],
   "source": [
    "# Ex1 my answer \n",
    "nums = [1, 6, 3, 2, 7, 2]\n",
    "queries = [[0, 3], [2, 5], [2, 4]]\n",
    "limit = 13\n",
    "\n",
    "def fn(nums, queries, limit):\n",
    "    # first make the prefix\n",
    "    prefix = [nums[0]] \n",
    "    for i in range(1, len(nums)): \n",
    "        prefix.append(nums[i] + prefix[ len(prefix) - 1]) \n",
    "\n",
    "    ans = []\n",
    "    for x, y in queries:\n",
    "        if prefix[y] - prefix[x] + nums[x] > limit:\n",
    "            ans.append(False)\n",
    "        else:\n",
    "            ans.append(True)\n",
    "\n",
    "    return ans\n",
    "\n",
    "\n",
    "fn(nums, queries, limit)\n",
    "\n",
    "\n",
    "\n"
   ]
  },
  {
   "cell_type": "code",
   "execution_count": 68,
   "metadata": {},
   "outputs": [
    {
     "data": {
      "text/plain": [
       "0"
      ]
     },
     "execution_count": 68,
     "metadata": {},
     "output_type": "execute_result"
    }
   ],
   "source": [
    "# Ex2 my answer time is O(n)\n",
    "nums = [6,-1,9]\n",
    "\n",
    "def fn(nums):\n",
    "\n",
    "    prefix = [nums[0]]\n",
    "    for i in range(1, len(nums)):\n",
    "        prefix.append(nums[i] + prefix[-1]) # prefix[-1] bc -1 is the last element in an arr (recall python has negative indexes)\n",
    "\n",
    "    ans = 0\n",
    "    for i in range(len(nums) - 1):\n",
    "        left_section = prefix[i] # remember the prefix sum is the sum of all elements until the index i. \n",
    "        right_section = prefix[-1] - prefix[i] # final - initial formula used here to get the right section\n",
    "        if left_section >= right_section: # this condition is required by the problem \n",
    "            ans += 1\n",
    "    return ans\n",
    "\n",
    "\n",
    "fn(nums)\n"
   ]
  },
  {
   "cell_type": "code",
   "execution_count": null,
   "metadata": {},
   "outputs": [],
   "source": [
    "# Ex 2 fastest answer by leetcode\n",
    "# they can improve space complexity to O(1) by avoiding making a prefix sum and just calculating the total and subtracting \n",
    "class Solution:\n",
    "    def waysToSplitArray(self, nums: List[int]) -> int:\n",
    "        ans = left_section = 0\n",
    "        total = sum(nums) # here is the total they use to avoid having to make a prefix sum\n",
    "        # this is better since a prefix sum requires a space complexity of O(n) whereas a total is O(1)\n",
    "\n",
    "        for i in range(len(nums) - 1):\n",
    "            left_section += nums[i]\n",
    "            right_section = total - left_section # this is how they use the total to avoid prefix sum \n",
    "            if left_section >= right_section:\n",
    "                ans += 1\n",
    "\n",
    "        return ans"
   ]
  },
  {
   "cell_type": "code",
   "execution_count": 71,
   "metadata": {},
   "outputs": [
    {
     "data": {
      "text/plain": [
       "[1, 3, 6, 10]"
      ]
     },
     "execution_count": 71,
     "metadata": {},
     "output_type": "execute_result"
    }
   ],
   "source": [
    "# Running Sum of 1d ARR first attempt (worked but it is slow try to make it faster)\n",
    "def fn(nums):\n",
    "    prefix = [nums[0]]\n",
    "    for i in range(1, len(nums)):\n",
    "        prefix.append(nums[i] + prefix[-1])\n",
    "    return prefix\n",
    "\n",
    "nums = [1,2,3,4]\n",
    "fn(nums)\n",
    "    "
   ]
  },
  {
   "cell_type": "code",
   "execution_count": 74,
   "metadata": {},
   "outputs": [],
   "source": [
    "# this guy used in place modification to avoid creating a prefix sum which avoids space comp of O(n) \n",
    "# and improves it to O(1) very smart remember to use this\n",
    "def runningSum(nums):\n",
    "    for i in range(1, len(nums)):\n",
    "        nums[i] += nums[i - 1]  # in place modifies the input arr nums \n",
    "    return nums\n",
    "\n",
    "\n"
   ]
  },
  {
   "cell_type": "code",
   "execution_count": 108,
   "metadata": {},
   "outputs": [
    {
     "data": {
      "text/plain": [
       "7"
      ]
     },
     "execution_count": 108,
     "metadata": {},
     "output_type": "execute_result"
    }
   ],
   "source": [
    "# not working at the moment fix later\n",
    "def fn(nums):\n",
    "    SV = 1\n",
    "    i = 0\n",
    "    \n",
    "    while i < len(nums): # len(sumarr) <= len(nums)\n",
    "\n",
    "        curr = \n",
    "        if nums[i] + SV <= 1:\n",
    "            SV += 1\n",
    "            i = 0\n",
    "            \n",
    "\n",
    "        i += 1\n",
    "    return SV\n",
    "\n",
    "nums = [2,3,5,-5,-1]\n",
    "fn(nums)\n"
   ]
  },
  {
   "cell_type": "code",
   "execution_count": 116,
   "metadata": {},
   "outputs": [
    {
     "data": {
      "text/plain": [
       "'elleh ereht woh era uoy ?gniod I ma ,enif woh tuoba uoy ???yddub'"
      ]
     },
     "execution_count": 116,
     "metadata": {},
     "output_type": "execute_result"
    }
   ],
   "source": [
    "# Reverse Words in a String III my attempt (this has O(n**2)) which is not good but I will come back to make it better later\n",
    "def reverseyyy(s):\n",
    "    \n",
    "    temp = []\n",
    "    word = []\n",
    "    for i in range(len(s)):\n",
    "\n",
    "        if i == len(s) - 1:\n",
    "            temp.append(s[i])\n",
    "            #print(temp)\n",
    "\n",
    "        if s[i] == \" \" or i == len(s) - 1:\n",
    "\n",
    "            # reverse happens here\n",
    "            j = len(temp) - 1\n",
    "            while j > -1:\n",
    "                word.append(temp[j])\n",
    "                j -= 1\n",
    "            \n",
    "            if i == len(s) - 1:\n",
    "                break\n",
    "\n",
    "            word.append(\" \")\n",
    "            temp = []\n",
    "\n",
    "            continue # breaks for loop if we have a space to prevent double adding spaces\n",
    "\n",
    "        temp.append(s[i])\n",
    "        \n",
    "\n",
    "    return \"\".join(word)\n",
    "\n",
    "a = 'helle there how are you doing? I am fine, how about you buddy???'\n",
    "reverseyyy(a)\n"
   ]
  }
 ],
 "metadata": {
  "kernelspec": {
   "display_name": "Python 3",
   "language": "python",
   "name": "python3"
  },
  "language_info": {
   "codemirror_mode": {
    "name": "ipython",
    "version": 3
   },
   "file_extension": ".py",
   "mimetype": "text/x-python",
   "name": "python",
   "nbconvert_exporter": "python",
   "pygments_lexer": "ipython3",
   "version": "3.8.3"
  },
  "orig_nbformat": 4,
  "vscode": {
   "interpreter": {
    "hash": "b081a66ee97bd2b6a16f43955f1d810b7ea816d6eaeb65e157ef9e038445f0c6"
   }
  }
 },
 "nbformat": 4,
 "nbformat_minor": 2
}
