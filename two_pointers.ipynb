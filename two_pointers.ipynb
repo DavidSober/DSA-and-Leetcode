{
 "cells": [
  {
   "cell_type": "code",
   "execution_count": 4,
   "metadata": {},
   "outputs": [
    {
     "data": {
      "text/plain": [
       "True"
      ]
     },
     "execution_count": 4,
     "metadata": {},
     "output_type": "execute_result"
    }
   ],
   "source": [
    "# A string is a palindrome if it reads the same forwards as backwards. \n",
    "# That means, after reversing it, it is still the same string. For example: \"abcdcba\", or \"racecar\".\n",
    "# this is an example of two pointers\n",
    "# O(n) time and O(1) space\n",
    "\n",
    "list = 'racecar'\n",
    "\n",
    "def palendrome_test(arr):\n",
    "    left = 0\n",
    "    right = len(arr) - 1\n",
    "\n",
    "    while(left < right):\n",
    "        \n",
    "        if arr[left] != arr[right]:\n",
    "            return False\n",
    "        \n",
    "        left += 1\n",
    "        right -= 1 \n",
    "        \n",
    "    return True\n",
    "\n",
    "\n",
    "palendrome_test(list)"
   ]
  },
  {
   "cell_type": "code",
   "execution_count": 7,
   "metadata": {},
   "outputs": [
    {
     "data": {
      "text/plain": [
       "True"
      ]
     },
     "execution_count": 7,
     "metadata": {},
     "output_type": "execute_result"
    }
   ],
   "source": [
    "# similar to Two Sum BUT we assume the input is already sorted so this is much much simpler \n",
    "\n",
    "nums = [1, 2, 4, 6, 8, 9, 14, 15]\n",
    "\n",
    "def two_sums_sorted(arr, target):\n",
    "    left = 0\n",
    "    right = len(arr) - 1\n",
    "\n",
    "    while(left < right):\n",
    "        \n",
    "        if arr[left] + arr[right] == target:\n",
    "            return True\n",
    "        if arr[left] + arr[right] > target:\n",
    "            right -= 1 # if the sum is less than target then the right value is too big, since this list is sorted, we can \n",
    "                       # decrease the right which will always result in a decreased sum\n",
    "        if arr[left] + arr[right] < target:\n",
    "            left += 1\n",
    "\n",
    "    return False\n",
    "\n",
    "two_sums_sorted(nums, 13)"
   ]
  },
  {
   "cell_type": "code",
   "execution_count": 16,
   "metadata": {},
   "outputs": [
    {
     "data": {
      "text/plain": [
       "[1, 2, 3, 4, 5, 6]"
      ]
     },
     "execution_count": 16,
     "metadata": {},
     "output_type": "execute_result"
    }
   ],
   "source": [
    "def sort(arr1, arr2):\n",
    "    sol = []\n",
    "    i = j = 0\n",
    "    while(i < len(arr1) and j < len(arr2)):\n",
    "\n",
    "        if(arr1[i] < arr2[j]):\n",
    "            sol.append(arr1[i])\n",
    "            i += 1\n",
    "        else:\n",
    "            sol.append(arr2[j])\n",
    "            j += 1\n",
    "\n",
    "    while i < len(arr1):\n",
    "        sol.append(arr1[i])\n",
    "        i += 1\n",
    "\n",
    "    while j < len(arr2):\n",
    "        sol.append(arr2[j])\n",
    "        j += 1\n",
    "\n",
    "    return sol\n",
    "\n",
    "arr1 = [1,2,3]\n",
    "arr2 = [4,5,6]\n",
    "sort(arr1, arr2)"
   ]
  },
  {
   "cell_type": "code",
   "execution_count": 20,
   "metadata": {},
   "outputs": [
    {
     "data": {
      "text/plain": [
       "True"
      ]
     },
     "execution_count": 20,
     "metadata": {},
     "output_type": "execute_result"
    }
   ],
   "source": [
    "# if a sub string is inside of the super string returns true else returns false\n",
    "def subsequence(sub, super):\n",
    "\n",
    "    i = j = 0\n",
    "\n",
    "    while j < len(super):\n",
    "        \n",
    "        if sub[i] == super[j]:\n",
    "            i += 1\n",
    "            j += 1\n",
    "        else:\n",
    "            j += 1\n",
    "        if i == len(sub):\n",
    "            return True\n",
    "    return False\n",
    "\n",
    "super = \"umm, hello world\"\n",
    "sub = \"hello\"\n",
    "\n",
    "subsequence(sub, super)\n",
    "    "
   ]
  },
  {
   "cell_type": "code",
   "execution_count": 30,
   "metadata": {},
   "outputs": [
    {
     "name": "stdout",
     "output_type": "stream",
     "text": [
      "['o', 'l', 'l', 'e', 'h']\n"
     ]
    }
   ],
   "source": [
    "class Solution(object):\n",
    "    def reverseString(self, s):\n",
    "\n",
    "        i = len(s) - 1\n",
    "        out = []\n",
    "        while i > -1:\n",
    "            out.append(s[i])\n",
    "            i -= 1\n",
    "        return out\n",
    "    \n",
    "    a = Solution() # initializing object\n",
    "    b = a.reverseString(\"hello\") # calling function in object\n",
    "    print(b) "
   ]
  },
  {
   "cell_type": "code",
   "execution_count": 2,
   "metadata": {},
   "outputs": [],
   "source": [
    "# this was my attempt to both square and sort for the squares of a sorted array problem in leetcode algos class\n",
    "# finish at a later time the simple solution is one line. \n",
    "# I got close but am missing one element for some reason.\n",
    "\n",
    "class Solution(object):\n",
    "    def sortedSquares(self, nums):\n",
    "        \"\"\"\n",
    "        :type nums: List[int]\n",
    "        :rtype: List[int]\n",
    "        \"\"\"\n",
    "        square = []\n",
    "        for i in nums:\n",
    "            square.append(i ** 2)\n",
    "        \n",
    "        ans = []\n",
    "        i = 0\n",
    "        j = len(square) - 1\n",
    "        while i < j:\n",
    "            \n",
    "            if square[i] > square[j]:\n",
    "                ans.insert(0,square[i])\n",
    "                ans.insert(0,square[j])\n",
    "            else:\n",
    "                ans.insert(0,square[j])\n",
    "                ans.insert(0,square[i])\n",
    "            i += 1\n",
    "            j -= 1\n",
    "                \n",
    "        return ans"
   ]
  },
  {
   "cell_type": "code",
   "execution_count": 1,
   "metadata": {},
   "outputs": [
    {
     "name": "stdout",
     "output_type": "stream",
     "text": [
      "test\n"
     ]
    }
   ],
   "source": [
    "\n",
    "def slidewindow(arr, max):\n",
    "\n",
    "    left = 0\n",
    "\n",
    "    for right in [1, len(arr) - 1]:\n",
    "        \n",
    "        if sum( [arr[left], arr[right]]) < max:\n",
    "            \n",
    "\n",
    "        \n",
    "\n",
    "    return False\n",
    "\n",
    "\n",
    "\n"
   ]
  },
  {
   "cell_type": "code",
   "execution_count": 18,
   "metadata": {},
   "outputs": [
    {
     "data": {
      "text/plain": [
       "5"
      ]
     },
     "execution_count": 18,
     "metadata": {},
     "output_type": "execute_result"
    }
   ],
   "source": [
    "def find_length(nums):\n",
    "    left = curr = ans = 0\n",
    "    for right in range(len(nums)):\n",
    "\n",
    "        if nums[right] == 0:\n",
    "            curr += 1\n",
    "\n",
    "        while curr > 1:\n",
    "            if nums[left] == 0:\n",
    "                curr -= 1\n",
    "            left += 1\n",
    "\n",
    "        ans = max(ans, right - left + 1)\n",
    "    \n",
    "    return ans\n",
    "\n",
    "find_length([1,1,0,1,1,0,0,1,1,1])"
   ]
  }
 ],
 "metadata": {
  "kernelspec": {
   "display_name": "Python 3",
   "language": "python",
   "name": "python3"
  },
  "language_info": {
   "codemirror_mode": {
    "name": "ipython",
    "version": 3
   },
   "file_extension": ".py",
   "mimetype": "text/x-python",
   "name": "python",
   "nbconvert_exporter": "python",
   "pygments_lexer": "ipython3",
   "version": "3.8.3"
  },
  "orig_nbformat": 4,
  "vscode": {
   "interpreter": {
    "hash": "b081a66ee97bd2b6a16f43955f1d810b7ea816d6eaeb65e157ef9e038445f0c6"
   }
  }
 },
 "nbformat": 4,
 "nbformat_minor": 2
}
