{
 "cells": [
  {
   "attachments": {},
   "cell_type": "markdown",
   "metadata": {},
   "source": [
    "# Binary Search"
   ]
  },
  {
   "attachments": {},
   "cell_type": "markdown",
   "metadata": {},
   "source": [
    "This is how binary search is implemented:\n",
    "\n",
    "Declare left = 0 and right = arr.length - \n",
    "1. These variables represent the inclusive bounds of the current search space at any given time. Initially, we consider the entire array.\n",
    "2. While left <= right:\n",
    "Calculate the middle of the current search space, mid = (left + right) // 2 (floor division)\n",
    "Check arr[mid]. There are 3 possibilities:\n",
    "If arr[mid] = x, then the element has been found, return.\n",
    "If arr[mid] > x, then halve the search space by doing right = mid - 1.\n",
    "If arr[mid] < x, then halve the search space by doing left = mid + 1.\n",
    "3. If you get to this point without arr[mid] = x, then the search was unsuccessful. The left pointer will be at the index where x would need to be inserted to maintain arr being sorted."
   ]
  },
  {
   "cell_type": "code",
   "execution_count": 64,
   "metadata": {},
   "outputs": [
    {
     "data": {
      "text/plain": [
       "4"
      ]
     },
     "execution_count": 64,
     "metadata": {},
     "output_type": "execute_result"
    }
   ],
   "source": [
    "def Binary_search_test(nums, target):\n",
    "    left = 0\n",
    "    right = len(nums) - 1\n",
    "\n",
    "    while left <= right:\n",
    "        mid = (left + right) // 2\n",
    "        if nums[mid] == target:\n",
    "            return mid\n",
    "        if nums[mid] < target:\n",
    "            left = mid + 1\n",
    "        else:\n",
    "            right = mid - 1\n",
    "    return left\n",
    "\n",
    "test = [1,2,3,4,5,6]\n",
    "Target = 5\n",
    "Binary_search_test(test, Target)    \n"
   ]
  },
  {
   "attachments": {},
   "cell_type": "markdown",
   "metadata": {},
   "source": [
    "# Finding the min value that fufills a criteria in a list using bin search"
   ]
  },
  {
   "attachments": {},
   "cell_type": "markdown",
   "metadata": {},
   "source": [
    "The bin search method to accomplish this is slightly different than the first approach (you can use a modded version of the first approach as well as we will see below)\n",
    "- Duplicate elements\n",
    "If your input has duplicates, you can modify the binary search template to find either the first or the last position of a given element. If target appears multiple times, then the following template will find the left-most index:"
   ]
  },
  {
   "cell_type": "code",
   "execution_count": 65,
   "metadata": {},
   "outputs": [],
   "source": [
    "def binary_search(arr, target):\n",
    "    left = 0\n",
    "    right = len(arr)\n",
    "    while left < right:\n",
    "        mid = (left + right) // 2\n",
    "        if arr[mid] >= target:\n",
    "            right = mid\n",
    "        else:\n",
    "            left = mid + 1\n",
    "\n",
    "    return left"
   ]
  },
  {
   "attachments": {},
   "cell_type": "markdown",
   "metadata": {},
   "source": [
    "Below is an example where we need to use this approach "
   ]
  },
  {
   "cell_type": "code",
   "execution_count": 66,
   "metadata": {},
   "outputs": [
    {
     "ename": "NameError",
     "evalue": "name 'List' is not defined",
     "output_type": "error",
     "traceback": [
      "\u001b[1;31m---------------------------------------------------------------------------\u001b[0m",
      "\u001b[1;31mNameError\u001b[0m                                 Traceback (most recent call last)",
      "\u001b[1;32mx:\\Portfolio Pics\\Algo-tests-\\Binary Search chapter.ipynb Cell 8\u001b[0m in \u001b[0;36m<module>\u001b[1;34m\u001b[0m\n\u001b[0;32m      <a href='vscode-notebook-cell:/x%3A/Portfolio%20Pics/Algo-tests-/Binary%20Search%20chapter.ipynb#X12sZmlsZQ%3D%3D?line=0'>1</a>\u001b[0m \u001b[39m# 875. Koko Eating Bananas\u001b[39;00m\n\u001b[0;32m      <a href='vscode-notebook-cell:/x%3A/Portfolio%20Pics/Algo-tests-/Binary%20Search%20chapter.ipynb#X12sZmlsZQ%3D%3D?line=2'>3</a>\u001b[0m \u001b[39mimport\u001b[39;00m \u001b[39mmath\u001b[39;00m\n\u001b[1;32m----> <a href='vscode-notebook-cell:/x%3A/Portfolio%20Pics/Algo-tests-/Binary%20Search%20chapter.ipynb#X12sZmlsZQ%3D%3D?line=3'>4</a>\u001b[0m \u001b[39mclass\u001b[39;00m \u001b[39mSolution\u001b[39;00m:\n\u001b[0;32m      <a href='vscode-notebook-cell:/x%3A/Portfolio%20Pics/Algo-tests-/Binary%20Search%20chapter.ipynb#X12sZmlsZQ%3D%3D?line=4'>5</a>\u001b[0m     \u001b[39mdef\u001b[39;00m \u001b[39mminEatingSpeed\u001b[39m(\u001b[39mself\u001b[39m, piles: List[\u001b[39mint\u001b[39m], h: \u001b[39mint\u001b[39m) \u001b[39m-\u001b[39m\u001b[39m>\u001b[39m \u001b[39mint\u001b[39m:\n\u001b[0;32m      <a href='vscode-notebook-cell:/x%3A/Portfolio%20Pics/Algo-tests-/Binary%20Search%20chapter.ipynb#X12sZmlsZQ%3D%3D?line=5'>6</a>\u001b[0m         left \u001b[39m=\u001b[39m \u001b[39m1\u001b[39m\n",
      "\u001b[1;32mx:\\Portfolio Pics\\Algo-tests-\\Binary Search chapter.ipynb Cell 8\u001b[0m in \u001b[0;36mSolution\u001b[1;34m()\u001b[0m\n\u001b[0;32m      <a href='vscode-notebook-cell:/x%3A/Portfolio%20Pics/Algo-tests-/Binary%20Search%20chapter.ipynb#X12sZmlsZQ%3D%3D?line=3'>4</a>\u001b[0m \u001b[39mclass\u001b[39;00m \u001b[39mSolution\u001b[39;00m:\n\u001b[1;32m----> <a href='vscode-notebook-cell:/x%3A/Portfolio%20Pics/Algo-tests-/Binary%20Search%20chapter.ipynb#X12sZmlsZQ%3D%3D?line=4'>5</a>\u001b[0m     \u001b[39mdef\u001b[39;00m \u001b[39mminEatingSpeed\u001b[39m(\u001b[39mself\u001b[39m, piles: List[\u001b[39mint\u001b[39m], h: \u001b[39mint\u001b[39m) \u001b[39m-\u001b[39m\u001b[39m>\u001b[39m \u001b[39mint\u001b[39m:\n\u001b[0;32m      <a href='vscode-notebook-cell:/x%3A/Portfolio%20Pics/Algo-tests-/Binary%20Search%20chapter.ipynb#X12sZmlsZQ%3D%3D?line=5'>6</a>\u001b[0m         left \u001b[39m=\u001b[39m \u001b[39m1\u001b[39m\n\u001b[0;32m      <a href='vscode-notebook-cell:/x%3A/Portfolio%20Pics/Algo-tests-/Binary%20Search%20chapter.ipynb#X12sZmlsZQ%3D%3D?line=6'>7</a>\u001b[0m         right \u001b[39m=\u001b[39m \u001b[39mmax\u001b[39m(piles)\n",
      "\u001b[1;31mNameError\u001b[0m: name 'List' is not defined"
     ]
    }
   ],
   "source": [
    "# 875. Koko Eating Bananas\n",
    "\n",
    "import math\n",
    "class Solution:\n",
    "    def minEatingSpeed(self, piles: List[int], h: int) -> int:\n",
    "        left = 1\n",
    "        right = max(piles)\n",
    "        def testmid(mid):\n",
    "            h = 0\n",
    "            for pile in piles:\n",
    "                h += math.ceil(pile / mid)\n",
    "            return h\n",
    "        while left < right:\n",
    "            mid = (left + right) // 2\n",
    "\n",
    "            if testmid(mid) <= h:  \n",
    "                right = mid \n",
    "            else:\n",
    "                left = mid + 1\n",
    "        return right"
   ]
  },
  {
   "attachments": {},
   "cell_type": "markdown",
   "metadata": {},
   "source": [
    "modded version of the first approach show here"
   ]
  },
  {
   "cell_type": "code",
   "execution_count": null,
   "metadata": {},
   "outputs": [],
   "source": [
    "import math\n",
    "class Solution:\n",
    "    def minEatingSpeed(self, piles: List[int], h: int) -> int:\n",
    "        left = 1\n",
    "        right = max(piles)\n",
    "        def testmid(mid):\n",
    "            h = 0\n",
    "            for pile in piles:\n",
    "                h += math.ceil(pile / mid)\n",
    "            return h\n",
    "        while left <= right:\n",
    "            mid = (left + right) // 2\n",
    "\n",
    "            if testmid(mid) <= h:  \n",
    "                right = mid - 1\n",
    "            else:\n",
    "                left = mid + 1\n",
    "        return left"
   ]
  },
  {
   "attachments": {},
   "cell_type": "markdown",
   "metadata": {},
   "source": [
    "# Max/Min problems with Bin search\n",
    "A note on implementation\n",
    "All 3 examples we looked at in this article asked for a minimum. In all solutions, we return left.\n",
    "\n",
    "If a problem is instead asking for a maximum, then left will not actually be the correct answer at the end. Instead, we should return right."
   ]
  },
  {
   "attachments": {},
   "cell_type": "markdown",
   "metadata": {},
   "source": [
    "Small aside for recursion\n",
    "# fib num with recursion\n",
    "no memoization\n",
    "time comp is 2^n"
   ]
  },
  {
   "cell_type": "code",
   "execution_count": 68,
   "metadata": {},
   "outputs": [
    {
     "name": "stdout",
     "output_type": "stream",
     "text": [
      "13\n"
     ]
    }
   ],
   "source": [
    "def fib(num):\n",
    "    if num == 1 or num == 2:\n",
    "        return 1\n",
    "    return fib(num - 1) + fib(num - 2)\n",
    "\n",
    "print(fib(7))"
   ]
  },
  {
   "attachments": {},
   "cell_type": "markdown",
   "metadata": {},
   "source": [
    "# Memoization\n",
    "- if you do fib(100) above it will take more calculations than atoms in the universe and will never end\n",
    "- if you use memoization such as below then it will be done in less than 0.1 seconds "
   ]
  },
  {
   "cell_type": "code",
   "execution_count": 2,
   "metadata": {},
   "outputs": [
    {
     "name": "stdout",
     "output_type": "stream",
     "text": [
      "13\n",
      "354224848179261915075\n"
     ]
    }
   ],
   "source": [
    "cache = {}\n",
    "def fib(num):\n",
    "    if num == 1 or num == 2:\n",
    "        return 1\n",
    "    if num in cache:\n",
    "        return cache[num]\n",
    "    else:\n",
    "        result = fib(num - 2) + fib(num - 1)\n",
    "    cache[num] = result\n",
    "    return result\n",
    "\n",
    "print(fib(7))\n",
    "print(fib(100))"
   ]
  }
 ],
 "metadata": {
  "kernelspec": {
   "display_name": "Python 3",
   "language": "python",
   "name": "python3"
  },
  "language_info": {
   "codemirror_mode": {
    "name": "ipython",
    "version": 3
   },
   "file_extension": ".py",
   "mimetype": "text/x-python",
   "name": "python",
   "nbconvert_exporter": "python",
   "pygments_lexer": "ipython3",
   "version": "3.11.3"
  },
  "orig_nbformat": 4
 },
 "nbformat": 4,
 "nbformat_minor": 2
}
