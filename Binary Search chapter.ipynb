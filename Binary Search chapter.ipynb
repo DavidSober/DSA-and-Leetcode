{
 "cells": [
  {
   "attachments": {},
   "cell_type": "markdown",
   "metadata": {},
   "source": [
    "# Binary Search"
   ]
  },
  {
   "attachments": {},
   "cell_type": "markdown",
   "metadata": {},
   "source": [
    "This is how binary search is implemented:\n",
    "\n",
    "Declare left = 0 and right = arr.length - \n",
    "1. These variables represent the inclusive bounds of the current search space at any given time. Initially, we consider the entire array.\n",
    "2. While left <= right:\n",
    "Calculate the middle of the current search space, mid = (left + right) // 2 (floor division)\n",
    "Check arr[mid]. There are 3 possibilities:\n",
    "If arr[mid] = x, then the element has been found, return.\n",
    "If arr[mid] > x, then halve the search space by doing right = mid - 1.\n",
    "If arr[mid] < x, then halve the search space by doing left = mid + 1.\n",
    "3. If you get to this point without arr[mid] = x, then the search was unsuccessful. The left pointer will be at the index where x would need to be inserted to maintain arr being sorted."
   ]
  },
  {
   "cell_type": "code",
   "execution_count": 3,
   "metadata": {},
   "outputs": [
    {
     "data": {
      "text/plain": [
       "4"
      ]
     },
     "execution_count": 3,
     "metadata": {},
     "output_type": "execute_result"
    }
   ],
   "source": [
    "def Binary_search_test(nums, target):\n",
    "    left = 0\n",
    "    right = len(nums) - 1\n",
    "\n",
    "    while left <= right:\n",
    "        mid = (left + right) // 2\n",
    "        if nums[mid] == target:\n",
    "            return mid\n",
    "        if nums[mid] < target:\n",
    "            left = mid + 1\n",
    "        else:\n",
    "            right = mid - 1\n",
    "    return left\n",
    "\n",
    "test = [1,2,3,4,5,6]\n",
    "Target = 5\n",
    "Binary_search_test(test, Target)    \n"
   ]
  },
  {
   "attachments": {},
   "cell_type": "markdown",
   "metadata": {},
   "source": [
    "# Finding the min value that fufills a criteria in a list using bin search"
   ]
  },
  {
   "attachments": {},
   "cell_type": "markdown",
   "metadata": {},
   "source": [
    "The bin search method to accomplish this is slightly different than the first approach (you can use a modded version of the first approach as well as we will see below)\n",
    "- Duplicate elements\n",
    "If your input has duplicates, you can modify the binary search template to find either the first or the last position of a given element. If target appears multiple times, then the following template will find the left-most index:"
   ]
  },
  {
   "cell_type": "code",
   "execution_count": null,
   "metadata": {},
   "outputs": [],
   "source": [
    "def binary_search(arr, target):\n",
    "    left = 0\n",
    "    right = len(arr)\n",
    "    while left < right:\n",
    "        mid = (left + right) // 2\n",
    "        if arr[mid] >= target:\n",
    "            right = mid\n",
    "        else:\n",
    "            left = mid + 1\n",
    "\n",
    "    return left"
   ]
  },
  {
   "attachments": {},
   "cell_type": "markdown",
   "metadata": {},
   "source": [
    "Below is an example where we need to use this approach "
   ]
  },
  {
   "cell_type": "code",
   "execution_count": null,
   "metadata": {},
   "outputs": [],
   "source": [
    "# 875. Koko Eating Bananas\n",
    "\n",
    "import math\n",
    "class Solution:\n",
    "    def minEatingSpeed(self, piles: List[int], h: int) -> int:\n",
    "        left = 1\n",
    "        right = max(piles)\n",
    "        def testmid(mid):\n",
    "            h = 0\n",
    "            for pile in piles:\n",
    "                h += math.ceil(pile / mid)\n",
    "            return h\n",
    "        while left < right:\n",
    "            mid = (left + right) // 2\n",
    "\n",
    "            if testmid(mid) <= h:  \n",
    "                right = mid \n",
    "            else:\n",
    "                left = mid + 1\n",
    "        return right"
   ]
  },
  {
   "attachments": {},
   "cell_type": "markdown",
   "metadata": {},
   "source": [
    "modded version of the first approach show here"
   ]
  },
  {
   "cell_type": "code",
   "execution_count": null,
   "metadata": {},
   "outputs": [],
   "source": [
    "import math\n",
    "class Solution:\n",
    "    def minEatingSpeed(self, piles: List[int], h: int) -> int:\n",
    "        left = 1\n",
    "        right = max(piles)\n",
    "        def testmid(mid):\n",
    "            h = 0\n",
    "            for pile in piles:\n",
    "                h += math.ceil(pile / mid)\n",
    "            return h\n",
    "        while left <= right:\n",
    "            mid = (left + right) // 2\n",
    "\n",
    "            if testmid(mid) <= h:  \n",
    "                right = mid - 1\n",
    "            else:\n",
    "                left = mid + 1\n",
    "        return left"
   ]
  },
  {
   "cell_type": "code",
   "execution_count": null,
   "metadata": {},
   "outputs": [],
   "source": []
  }
 ],
 "metadata": {
  "kernelspec": {
   "display_name": "Python 3",
   "language": "python",
   "name": "python3"
  },
  "language_info": {
   "codemirror_mode": {
    "name": "ipython",
    "version": 3
   },
   "file_extension": ".py",
   "mimetype": "text/x-python",
   "name": "python",
   "nbconvert_exporter": "python",
   "pygments_lexer": "ipython3",
   "version": "3.11.3"
  },
  "orig_nbformat": 4
 },
 "nbformat": 4,
 "nbformat_minor": 2
}
