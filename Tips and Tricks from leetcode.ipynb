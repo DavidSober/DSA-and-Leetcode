{
 "cells": [
  {
   "cell_type": "code",
   "execution_count": null,
   "metadata": {},
   "outputs": [],
   "source": [
    "# O(n) --> O(1) string building\n",
    "# python normally takes O(n) to build a string when you concactinate bc it has to do: newstr = str + 1\n",
    "# which means all items have to be copied just to add one new item \n",
    "# here is how you avoid that\n",
    "\n",
    "def build_string(s):\n",
    "    arr = [] \n",
    "    for c in s:\n",
    "        arr.append(c)\n",
    "\n",
    "    return \"\".join(arr) # converts list back to string \n",
    "\n",
    "# this uses arr as a list that will contain all new characters in your string\n",
    "# you do whatever logic you were going to do on a string but you do it to a list arr instead \n",
    "# Then at the end you convert the list back to a string "
   ]
  }
 ],
 "metadata": {
  "kernelspec": {
   "display_name": "Python 3",
   "language": "python",
   "name": "python3"
  },
  "language_info": {
   "name": "python",
   "version": "3.8.3"
  },
  "orig_nbformat": 4
 },
 "nbformat": 4,
 "nbformat_minor": 2
}
