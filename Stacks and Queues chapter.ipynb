{
 "cells": [
  {
   "attachments": {},
   "cell_type": "markdown",
   "metadata": {},
   "source": [
    "# Stacks and Queues "
   ]
  },
  {
   "attachments": {},
   "cell_type": "markdown",
   "metadata": {},
   "source": [
    "Another term used to describe stacks is LIFO, which stands for last in, first out. The last element placed inside is the first element to come out."
   ]
  },
  {
   "cell_type": "code",
   "execution_count": 38,
   "metadata": {},
   "outputs": [
    {
     "data": {
      "text/plain": [
       "False"
      ]
     },
     "execution_count": 38,
     "metadata": {},
     "output_type": "execute_result"
    }
   ],
   "source": [
    "# DOES NOT WORK\n",
    "# Example 1: 20. Valid Parentheses\n",
    "# my attempt\n",
    "# seems like stacks are a variation of a list... so i think this should be sort of ez IT WAS NOT\n",
    "# so this code does not work very well. it is sort of a brute force approach \n",
    "\n",
    "def validparenthesis(s):\n",
    "    stack = [s[0]]\n",
    "    for c in s:\n",
    "        if len(s) < 2: # throw out obvious false case\n",
    "            return False\n",
    "        \n",
    "        #if len(stack) < 2:\n",
    "        #    stack.append(c)\n",
    "        #    continue\n",
    "\n",
    "        #if c == ']' and stack[-1] == '[' or c == '}' and stack[-1] == '{' or c == ')' and stack[-1] == '(':\n",
    "        #    return True\n",
    "        if c == ']' and stack[-1] != '[' or c == '}' and stack[-1] != '{' or c == ')' and stack[-1] != '(':\n",
    "            return False\n",
    "        stack.append(c)\n",
    "\n",
    "    return True\n",
    "\n",
    "string = '{[]}'\n",
    "validparenthesis(string)\n"
   ]
  },
  {
   "cell_type": "code",
   "execution_count": 40,
   "metadata": {},
   "outputs": [
    {
     "data": {
      "text/plain": [
       "True"
      ]
     },
     "execution_count": 40,
     "metadata": {},
     "output_type": "execute_result"
    }
   ],
   "source": [
    "# Example 1: 20. Valid Parentheses\n",
    "# official answer\n",
    "\n",
    "def isValid(s):\n",
    "    stack = []\n",
    "    matching = {\"(\": \")\", \"[\": \"]\", \"{\": \"}\"} # creates a matching hash map.. this is smart \n",
    "    \n",
    "    for c in s:\n",
    "        if c in matching: # if c is an opening bracket. recall c is the key for matching\n",
    "            stack.append(c)\n",
    "        else:             # note that if c (key) is not in matching, it is a closing bracket\n",
    "            if not stack: # if stack is empty then obvious result is false\n",
    "                return False\n",
    "            \n",
    "            previous_opening = stack.pop() # grabs previous char\n",
    "            if matching[previous_opening] != c: # if none of the values (aka closing brackets) in matching are equal to c, \n",
    "                return False                    # then c is not a closing bracket. thus false. \n",
    "\n",
    "# watch vid if what Im about to say makes no sense: Each time we are popping values we remove them from the stack\n",
    "# if the stack has no values at the end of the algo then we had an even match for all opening and closing brackets\n",
    "# thus if stack is empty at the end we return True. If stack is not emppty then some backets were left unmatched\n",
    "# so 'not stack' means we return True if stack is empty and False if it contains something\n",
    "    return not stack  \n",
    "\n",
    "string = '([])'\n",
    "isValid(string)"
   ]
  },
  {
   "cell_type": "code",
   "execution_count": null,
   "metadata": {},
   "outputs": [],
   "source": []
  }
 ],
 "metadata": {
  "kernelspec": {
   "display_name": "Python 3",
   "language": "python",
   "name": "python3"
  },
  "language_info": {
   "codemirror_mode": {
    "name": "ipython",
    "version": 3
   },
   "file_extension": ".py",
   "mimetype": "text/x-python",
   "name": "python",
   "nbconvert_exporter": "python",
   "pygments_lexer": "ipython3",
   "version": "3.8.3"
  },
  "orig_nbformat": 4
 },
 "nbformat": 4,
 "nbformat_minor": 2
}
