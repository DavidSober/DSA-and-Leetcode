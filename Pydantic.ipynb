{
 "cells": [
  {
   "cell_type": "markdown",
   "metadata": {},
   "source": [
    "# Pydantic"
   ]
  },
  {
   "cell_type": "markdown",
   "metadata": {},
   "source": [
    "- Pydantic is a Python library used for data validation and settings management using Python type annotations. It is commonly used to validate data structures, parse data from various formats, and ensure that data adheres to specified constraints. Pydantic helps enforce type safety and provides detailed error messages when data does not meet the expected schema.\n",
    "\n",
    "- BaseModel is the core class in Pydantic that you extend to define your data models. When you create a model by inheriting from BaseModel"
   ]
  },
  {
   "cell_type": "code",
   "execution_count": 1,
   "metadata": {},
   "outputs": [],
   "source": [
    "from pydantic import BaseModel, Field "
   ]
  },
  {
   "cell_type": "code",
   "execution_count": 2,
   "metadata": {},
   "outputs": [
    {
     "name": "stdout",
     "output_type": "stream",
     "text": [
      "Alice\n",
      "30\n",
      "alice@example.com\n"
     ]
    }
   ],
   "source": [
    "from pydantic import BaseModel, Field\n",
    "\n",
    "# NOTE: this class inherits from BaseModel\n",
    "class User(BaseModel):  \n",
    "    # the suntax of thing1 : thing2 \n",
    "    # is type hinting which is part of python since 3.5\n",
    "    # I never use type hinting so this looks alien to me. \n",
    "    name: str \n",
    "    age: int  # the var age is hinted to be an int (could still be anything)\n",
    "\n",
    "\n",
    "    # While type hints (email: str) specify the expected \n",
    "    # type of the field, Field allows you to add more information and validation rules.\n",
    "    email: str = Field(..., example=\"user@example.com\")  \n",
    "    # ... means the field is required \n",
    "\n",
    "\n",
    "# Create an instance\n",
    "user = User(name=\"Alice\", age=30, email=\"alice@example.com\")\n",
    "\n",
    "# Access attributes\n",
    "print(user.name)  # Alice\n",
    "print(user.age)   # 30\n",
    "print(user.email) # alice@example.com\n"
   ]
  },
  {
   "cell_type": "markdown",
   "metadata": {},
   "source": [
    "Json Schema and Pydantic schema generation\n",
    "\n",
    "What is a JSON Schema?\n",
    "- JSON Schema is a specification for describing the structure and format of JSON data. It allows you to define what properties exist in your data, what type each property should have, any constraints (e.g., required fields), and can also include example values for documentation purposes.\n",
    "\n",
    "Pydantic and Schema Generation\n",
    "- When you define a Pydantic model, it can automatically generate a JSON schema that describes the expected structure of data for that model. This is especially useful in web APIs (like FastAPI) or when validating incoming/outgoing JSON data."
   ]
  },
  {
   "cell_type": "code",
   "execution_count": 13,
   "metadata": {},
   "outputs": [
    {
     "name": "stdout",
     "output_type": "stream",
     "text": [
      "{\n",
      "  \"properties\": {\n",
      "    \"name\": {\n",
      "      \"example\": \"Leo\",\n",
      "      \"title\": \"Name\",\n",
      "      \"type\": \"string\"\n",
      "    },\n",
      "    \"age\": {\n",
      "      \"example\": 15,\n",
      "      \"title\": \"Age\",\n",
      "      \"type\": \"integer\"\n",
      "    },\n",
      "    \"eye_color\": {\n",
      "      \"example\": \"brown\",\n",
      "      \"title\": \"Eye Color\",\n",
      "      \"type\": \"string\"\n",
      "    },\n",
      "    \"dog_type\": {\n",
      "      \"example\": \"chihuahua\",\n",
      "      \"title\": \"Dog Type\",\n",
      "      \"type\": \"string\"\n",
      "    }\n",
      "  },\n",
      "  \"required\": [\n",
      "    \"name\",\n",
      "    \"age\",\n",
      "    \"eye_color\",\n",
      "    \"dog_type\"\n",
      "  ],\n",
      "  \"title\": \"DogPet\",\n",
      "  \"type\": \"object\"\n",
      "}\n"
     ]
    }
   ],
   "source": [
    "import json\n",
    "\n",
    "# example of creating a pydantic schema \n",
    "# first make a dog class aka a pydantic data model \n",
    "class DogPet(BaseModel):\n",
    "    name: str = Field(..., example=\"Leo\")\n",
    "    age: int = Field(..., example= 15)\n",
    "    eye_color : str = Field(..., example=\"brown\")\n",
    "    dog_type : str = Field(..., example=\"chihuahua\")\n",
    "\n",
    "# now we make the json schema\n",
    "schema = DogPet.model_json_schema()\n",
    "\n",
    "print(json.dumps(schema, indent=2))"
   ]
  },
  {
   "cell_type": "code",
   "execution_count": 7,
   "metadata": {},
   "outputs": [
    {
     "ename": "ValidationError",
     "evalue": "1 validation error for TestField\nname\n  Field required [type=missing, input_value={}, input_type=dict]\n    For further information visit https://errors.pydantic.dev/2.9/v/missing",
     "output_type": "error",
     "traceback": [
      "\u001b[1;31m---------------------------------------------------------------------------\u001b[0m",
      "\u001b[1;31mValidationError\u001b[0m                           Traceback (most recent call last)",
      "Cell \u001b[1;32mIn[7], line 5\u001b[0m\n\u001b[0;32m      2\u001b[0m \u001b[38;5;28;01mclass\u001b[39;00m \u001b[38;5;21;01mTestField\u001b[39;00m(BaseModel):\n\u001b[0;32m      3\u001b[0m     name : \u001b[38;5;28mstr\u001b[39m \u001b[38;5;241m=\u001b[39m Field(\u001b[38;5;241m.\u001b[39m\u001b[38;5;241m.\u001b[39m\u001b[38;5;241m.\u001b[39m, examples\u001b[38;5;241m=\u001b[39m\u001b[38;5;124m\"\u001b[39m\u001b[38;5;124mlolbobross\u001b[39m\u001b[38;5;124m\"\u001b[39m)\n\u001b[1;32m----> 5\u001b[0m obj1 \u001b[38;5;241m=\u001b[39m \u001b[43mTestField\u001b[49m\u001b[43m(\u001b[49m\u001b[43m)\u001b[49m \n\u001b[0;32m      6\u001b[0m \u001b[38;5;28mprint\u001b[39m(obj1\u001b[38;5;241m.\u001b[39mname)\n",
      "File \u001b[1;32mc:\\Users\\David Sober\\OneDrive\\Documents\\GitHub\\Data-Structures-and-Algorithms-\\myenv\\Lib\\site-packages\\pydantic\\main.py:209\u001b[0m, in \u001b[0;36mBaseModel.__init__\u001b[1;34m(self, **data)\u001b[0m\n\u001b[0;32m    207\u001b[0m \u001b[38;5;66;03m# `__tracebackhide__` tells pytest and some other tools to omit this function from tracebacks\u001b[39;00m\n\u001b[0;32m    208\u001b[0m __tracebackhide__ \u001b[38;5;241m=\u001b[39m \u001b[38;5;28;01mTrue\u001b[39;00m\n\u001b[1;32m--> 209\u001b[0m validated_self \u001b[38;5;241m=\u001b[39m \u001b[38;5;28;43mself\u001b[39;49m\u001b[38;5;241;43m.\u001b[39;49m\u001b[43m__pydantic_validator__\u001b[49m\u001b[38;5;241;43m.\u001b[39;49m\u001b[43mvalidate_python\u001b[49m\u001b[43m(\u001b[49m\u001b[43mdata\u001b[49m\u001b[43m,\u001b[49m\u001b[43m \u001b[49m\u001b[43mself_instance\u001b[49m\u001b[38;5;241;43m=\u001b[39;49m\u001b[38;5;28;43mself\u001b[39;49m\u001b[43m)\u001b[49m\n\u001b[0;32m    210\u001b[0m \u001b[38;5;28;01mif\u001b[39;00m \u001b[38;5;28mself\u001b[39m \u001b[38;5;129;01mis\u001b[39;00m \u001b[38;5;129;01mnot\u001b[39;00m validated_self:\n\u001b[0;32m    211\u001b[0m     warnings\u001b[38;5;241m.\u001b[39mwarn(\n\u001b[0;32m    212\u001b[0m         \u001b[38;5;124m'\u001b[39m\u001b[38;5;124mA custom validator is returning a value other than `self`.\u001b[39m\u001b[38;5;130;01m\\n\u001b[39;00m\u001b[38;5;124m'\u001b[39m\n\u001b[0;32m    213\u001b[0m         \u001b[38;5;124m\"\u001b[39m\u001b[38;5;124mReturning anything other than `self` from a top level model validator isn\u001b[39m\u001b[38;5;124m'\u001b[39m\u001b[38;5;124mt supported when validating via `__init__`.\u001b[39m\u001b[38;5;130;01m\\n\u001b[39;00m\u001b[38;5;124m\"\u001b[39m\n\u001b[0;32m    214\u001b[0m         \u001b[38;5;124m'\u001b[39m\u001b[38;5;124mSee the `model_validator` docs (https://docs.pydantic.dev/latest/concepts/validators/#model-validators) for more details.\u001b[39m\u001b[38;5;124m'\u001b[39m,\n\u001b[0;32m    215\u001b[0m         category\u001b[38;5;241m=\u001b[39m\u001b[38;5;28;01mNone\u001b[39;00m,\n\u001b[0;32m    216\u001b[0m     )\n",
      "\u001b[1;31mValidationError\u001b[0m: 1 validation error for TestField\nname\n  Field required [type=missing, input_value={}, input_type=dict]\n    For further information visit https://errors.pydantic.dev/2.9/v/missing"
     ]
    }
   ],
   "source": [
    "# test of field in pydantic \n",
    "class TestField(BaseModel):\n",
    "    name : str = Field(..., examples=\"lolbobross\")\n",
    "\n",
    "obj1 = TestField() \n",
    "print(obj1.name)"
   ]
  },
  {
   "cell_type": "code",
   "execution_count": 6,
   "metadata": {},
   "outputs": [
    {
     "name": "stdout",
     "output_type": "stream",
     "text": [
      "bobross\n"
     ]
    }
   ],
   "source": [
    "# test of field in pydantic \n",
    "class TestField(BaseModel):\n",
    "    name : str = Field(...)\n",
    "\n",
    "# obj1 = TestField() # this will fail since the ellipsis ... requires an input for the field\n",
    "obj1 = TestField(name=\"bobross\")\n",
    "print(obj1.name)"
   ]
  },
  {
   "cell_type": "code",
   "execution_count": 3,
   "metadata": {},
   "outputs": [
    {
     "name": "stdout",
     "output_type": "stream",
     "text": [
      "lol not an int\n"
     ]
    }
   ],
   "source": [
    "# test not follownig type hint\n",
    "testvar : int\n",
    "testvar = \"lol not an int\"\n",
    "print(testvar)"
   ]
  }
 ],
 "metadata": {
  "kernelspec": {
   "display_name": "Python 3",
   "language": "python",
   "name": "python3"
  },
  "language_info": {
   "codemirror_mode": {
    "name": "ipython",
    "version": 3
   },
   "file_extension": ".py",
   "mimetype": "text/x-python",
   "name": "python",
   "nbconvert_exporter": "python",
   "pygments_lexer": "ipython3",
   "version": "3.11.7"
  }
 },
 "nbformat": 4,
 "nbformat_minor": 2
}
