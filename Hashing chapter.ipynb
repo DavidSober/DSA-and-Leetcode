{
 "cells": [
  {
   "cell_type": "code",
   "execution_count": null,
   "metadata": {},
   "outputs": [],
   "source": [
    "# playground for basics of hash maps\n",
    "# btw hash map are hash tables are dictionaries... they are all the same thing lol\n",
    "my_hash_map = {}\n",
    "\n",
    "my_hash_map[4] = 83\n",
    "print(my_hash_map[4]) # Prints 83\n",
    "\n",
    "print(4 in my_hash_map) # Prints True\n",
    "print(854 in my_hash_map) # Prints False\n",
    "\n",
    "my_hash_map[8] = 327\n",
    "my_hash_map[45] = 82523\n",
    "\n",
    "for key, val in my_hash_map.items():\n",
    "    print(f\"{key}: {val}\")"
   ]
  },
  {
   "cell_type": "code",
   "execution_count": null,
   "metadata": {},
   "outputs": [],
   "source": [
    "# Brute force twosum this will be improved with hashes\n",
    "\n",
    "def fn(nums, target):\n",
    "\n",
    "    for i in range(len(nums)):\n",
    "        for j in range(len(nums)):\n",
    "            if nums[i] + nums[j] == target and i != j:\n",
    "                return [i, j]\n",
    "\n",
    "a = [1,2,3,4,5]\n",
    "target = 3\n",
    "\n",
    "fn(a, target)"
   ]
  },
  {
   "cell_type": "code",
   "execution_count": null,
   "metadata": {},
   "outputs": [],
   "source": [
    "# twoSum with hash map\n",
    "# essentially if a given element has a compliment in the hashmap, we know that the two sum was found\n",
    "# watch the vid on hashing chapter if this makes no sense. compliment is the same idea as in stats/prob \n",
    "class Solution:\n",
    "    def twoSum(self, nums: List[int], target: int) -> List[int]:\n",
    "        dic = {} # declare hashmap\n",
    "        for i in range(len(nums)):\n",
    "            num = nums[i]\n",
    "            complement = target - num\n",
    "            if complement in dic: # This operation is O(1)!\n",
    "                return [i, dic[complement]] \n",
    "            \n",
    "            dic[num] = i # adds the current element from input arr nums to the dict\n",
    "        \n",
    "        return [-1, -1] # no idea why this is here... it does not need to be for the submission so idk lol"
   ]
  },
  {
   "cell_type": "code",
   "execution_count": null,
   "metadata": {},
   "outputs": [],
   "source": [
    "# my recall of how to implement a hash map for twosums\n",
    "def twoSumez(nums, target):\n",
    "\n",
    "    dic = {}\n",
    "\n",
    "    for i in range(len(nums)):\n",
    "        complement = target - nums[i]\n",
    "        if complement in dic:\n",
    "            return [i, dic[complement]]\n",
    "        \n",
    "        dic[nums[i]] = i\n",
    "\n",
    "\n",
    "a = twoSumez([1,2,3,45,5], 3)\n",
    "\n",
    "print(a)"
   ]
  },
  {
   "cell_type": "code",
   "execution_count": null,
   "metadata": {},
   "outputs": [],
   "source": [
    "# HASHmap approach not the best but not bad\n",
    "# (my attempt) First Letter to Appear Twice (this worked and beat 43% of other code so its almost average)\n",
    "def FLtAT(s):\n",
    "    dic ={} # make hash map\n",
    "\n",
    "    for i in s:\n",
    "        if i in dic: # check if element is already in hash map\n",
    "            return i\n",
    "        dic[i] = i # add new element to hashmap for later check\n",
    "\n",
    "FLtAT(\"abccbaacz\")\n"
   ]
  },
  {
   "cell_type": "code",
   "execution_count": null,
   "metadata": {},
   "outputs": [],
   "source": [
    "# HASH SET approach much better than before \n",
    "def hashset(s):\n",
    "    hashset = set() # this is how you make a hash set\n",
    "    for i in s:\n",
    "        if i in hashset: # checks if element from string/list s is in hashset\n",
    "            return i\n",
    "        hashset.add(i) # if the if statement above does not end the function we add the string/list element to the hashset \n",
    "                       # for later checks\n",
    "\n",
    "hashset(\"abccbaacz\")"
   ]
  },
  {
   "cell_type": "code",
   "execution_count": null,
   "metadata": {},
   "outputs": [],
   "source": [
    "# Example 3: Given an integer array nums, find all the numbers x that satisfy the \n",
    "# following: x + 1 is not in nums, and x - 1 is not in nums.\n",
    "# (my attempt) I think this works\n",
    "\n",
    "def fn(nums):\n",
    "    out = []\n",
    "    hset = set(nums) # we put list into hashset since sets are faster to look through\n",
    "    for i in nums:\n",
    "        if not(i + 1 in hset) and not(i - 1 in hset):\n",
    "            out.append(i) # add to list of answers since problem statement conditinon was met\n",
    "    return out\n",
    "\n",
    "x = [1,2,3,4,5]\n",
    "fn(x)"
   ]
  },
  {
   "cell_type": "code",
   "execution_count": null,
   "metadata": {},
   "outputs": [],
   "source": [
    "# Example 3: correct answer. it is the same as mine. it was simple enough\n",
    "def find_numbers(nums):\n",
    "    ans = []\n",
    "    nums = set(nums)\n",
    "\n",
    "    for num in nums:\n",
    "        if (num + 1 not in nums) and (num - 1 not in nums):\n",
    "            ans.append(num)\n",
    "    return ans\n",
    "\n",
    "x = [1,2,3,4,5]\n",
    "find_numbers(x)"
   ]
  },
  {
   "cell_type": "code",
   "execution_count": null,
   "metadata": {},
   "outputs": [],
   "source": [
    "# Check if the Sentence Is Pangram\n",
    "# A pangram is a sentence where every letter of the English alphabet appears at least once.\n",
    "# Given a string sentence containing only lowercase English letters, return true if sentence is a pangram, or false otherwise.\n",
    "# (my attempt) worked and beats 96% of attempts\n",
    "\n",
    "def checkpangram(s):\n",
    "    hset = set(s) \n",
    "    if len(hset) == 26: # this works bc hashsets can only store unique values, thus only unique letters are stored\n",
    "                        # if you dump a million char (assumption in q is they are from alphabet) then we would have at most\n",
    "                        # 26 since there are only that many unique letters in the alphabet. thus len == 26 is the only \n",
    "                        # condition that works. gg ez?\n",
    "        return True\n",
    "    \n",
    "checkpangram(\"thequickbrownfoxjumpsoverthelazydog\")\n"
   ]
  },
  {
   "cell_type": "code",
   "execution_count": null,
   "metadata": {},
   "outputs": [],
   "source": [
    "# Missing Number\n",
    "# Given an array nums containing n distinct numbers in the range [0, n], \n",
    "# return the only number in the range that is missing from the array.\n",
    "# (my attempt) this works and beats 66% of code\n",
    "\n",
    "def missingNo(nums):\n",
    "    hset = set(nums) # use a hashset since it is O(1) to search through as opposed to O(n) for a normal arr\n",
    "    \n",
    "    temp = [] # create a temp array that will have values [0, n] where n = len(input arr)\n",
    "    for i in range(len(nums) + 1): # we do + 1 bc we are captureing 0 in addition to max len \n",
    "        temp.append(i)\n",
    "\n",
    "    for i in temp:\n",
    "        if i not in hset: # checks if the ordered temp list (which has all possible values [0, n]) against hashset of input\n",
    "            return i\n",
    "        \n",
    "test = [0,2,3,4]\n",
    "yo = missingNo(test)\n",
    "print(yo)"
   ]
  },
  {
   "cell_type": "code",
   "execution_count": null,
   "metadata": {},
   "outputs": [],
   "source": [
    "# Counting Elements\n",
    "# Given an integer array arr, count how many elements x there are, \n",
    "# such that x + 1 is also in arr. If there are duplicates in arr, count them separately.\n",
    "# (my attempt) this works and also beats 80% of code. I did this in 30 secs holyy\n",
    "\n",
    "def countElements(arr):\n",
    "    hset = set(arr)\n",
    "    count = 0\n",
    "    for i in arr:\n",
    "        if i + 1 in hset:\n",
    "            count += 1\n",
    "\n",
    "    return count\n",
    "\n",
    "countElements([1,2,3])"
   ]
  },
  {
   "cell_type": "code",
   "execution_count": null,
   "metadata": {},
   "outputs": [],
   "source": [
    "# example of how to use a hashmap to keep counts of stuff in a window\n",
    "# rewatch vid to understand if this makes no sense \n",
    "\n",
    "from collections import defaultdict\n",
    "\n",
    "def find_longest_substring(s, k):\n",
    "    counts = defaultdict(int)\n",
    "    left = ans = 0\n",
    "    for right in range(len(s)): # this and the line above is how you make a window\n",
    "        counts[s[right]] += 1\n",
    "        while len(counts) > k:\n",
    "            counts[s[left]] -= 1\n",
    "            if counts[s[left]] == 0:\n",
    "                del counts[s[left]]  # this deletes an element if the count of it is zero.\n",
    "            left += 1\n",
    "        \n",
    "        ans = max(ans, right - left + 1) # we do this since we want the max len of a window that fits the conditions\n",
    "    \n",
    "    return ans"
   ]
  },
  {
   "cell_type": "code",
   "execution_count": null,
   "metadata": {},
   "outputs": [],
   "source": [
    "# my recall\n",
    "from collections import defaultdict\n",
    "\n",
    "def test(s, k):\n",
    "    counts = defaultdict(int) # the value is 0 for all keys unless specified. \n",
    "    left = ans = 0\n",
    "    for right in range(len(s)):\n",
    "        counts[s[right]] += 1 # adding counts to the values in hashmap\n",
    "        while len(counts) > k: # k is the limit of the number of distinct characters in the window\n",
    "            counts[s[left]] -= 1\n",
    "            if counts[s[left]] == 0:\n",
    "                del counts[s[left]]\n",
    "                \n",
    "            left += 1 # we move on to the next char every time. that is intended \n",
    "\n",
    "        ans = max(ans, right - left + 1)\n",
    "    \n",
    "    return ans\n",
    "            \n",
    "s = \"eeec\"\n",
    "k = 2\n",
    "test(s,k)"
   ]
  },
  {
   "cell_type": "code",
   "execution_count": null,
   "metadata": {},
   "outputs": [],
   "source": [
    "s = \"eceb\"\n",
    "counts = defaultdict(int)\n",
    "\n",
    "counts[s[0]] += 10 # e\n",
    "counts[s[1]] += 1 # c\n",
    "counts[s[2]] += 1 # e\n",
    "counts[s[3]] += 1 # b\n",
    "\n",
    "print(counts)\n",
    "print(len(counts)) # number of unique elements in the dict. has nothing to do with the count\n",
    "\n"
   ]
  },
  {
   "cell_type": "code",
   "execution_count": null,
   "metadata": {},
   "outputs": [],
   "source": [
    "arr = [1,2,3,4,5,6]\n",
    "dic = {}\n",
    "for i in arr:\n",
    "    dic[i] = i\n",
    "\n",
    "print(dic)"
   ]
  },
  {
   "cell_type": "code",
   "execution_count": null,
   "metadata": {},
   "outputs": [],
   "source": [
    "nums = [[3,1,2,4,5],[1,2,3,4],[3,4,5,6]]\n",
    "# below is how to basically iterate through a multidimensional list\n",
    "for i in range(len(nums)):\n",
    "    for j in range(len(nums[i])):\n",
    "        print(nums[i][j])\n",
    "\n",
    "#nums[0][0]\n",
    "\n"
   ]
  },
  {
   "cell_type": "code",
   "execution_count": null,
   "metadata": {},
   "outputs": [],
   "source": [
    "def fn(nums):\n",
    "    out = []\n",
    "    hset = set(nums) # we put list into hashset since sets are faster to look through\n",
    "    for i in nums:\n",
    "        if not(i + 1 in hset) and not(i - 1 in hset):\n",
    "            out.append(i) # add to list of answers since problem statement conditinon was met\n",
    "    return out\n",
    "\n",
    "x = [1,2,3,4,5]\n",
    "fn(x)"
   ]
  },
  {
   "cell_type": "code",
   "execution_count": null,
   "metadata": {},
   "outputs": [],
   "source": [
    "from typing import List\n",
    "from collections import defaultdict\n",
    "\n",
    "class Solution:\n",
    "    def intersection(self, nums: List[List[int]]) -> List[int]:\n",
    "        counts = defaultdict(int)\n",
    "        for arr in nums:\n",
    "            for x in arr:\n",
    "                counts[x] += 1\n",
    "\n",
    "        n = len(nums)\n",
    "        ans = []\n",
    "        for key in counts:\n",
    "            if counts[key] == n:\n",
    "                ans.append(key)\n",
    "        \n",
    "        return sorted(ans)\n",
    "\n",
    "# Create an instance of the Solution class\n",
    "s = Solution()\n",
    "\n",
    "# Call the intersection method on the instance with a list of lists as input\n",
    "result = s.intersection([[3,1,2,4,5],[1,2,3,4],[3,4,5,6]])\n",
    "print(result)\n",
    "\n",
    "\n"
   ]
  },
  {
   "cell_type": "code",
   "execution_count": null,
   "metadata": {},
   "outputs": [],
   "source": [
    "s = \"dfgg\"\n",
    "test = set(s)\n",
    "print(len(test))"
   ]
  },
  {
   "cell_type": "code",
   "execution_count": null,
   "metadata": {},
   "outputs": [],
   "source": [
    "# Example 3: 1941. Check if All Characters Have Equal Number of Occurrences\n",
    "# (my solution) this did work and beat 97.5% of code in speed and only 20% in memory 13.8 MB only 0.3 diff than official sol\n",
    "from collections import defaultdict\n",
    "\n",
    "def omg(s):\n",
    "    counts = defaultdict(int)\n",
    "\n",
    "    for i in s: # adding the frequency of each element into counts hashmap\n",
    "        counts[i] += 1\n",
    "\n",
    "    for key in counts:\n",
    "        if counts[s[0]] == counts[key]: # comparing the freq of first key with all others, if even one key does not match the\n",
    "                                        # the first, the condition is broken\n",
    "            continue\n",
    "        else:\n",
    "            return False\n",
    "    return True # if we got through the previous for loop then we know all the freq of the values are equal, thus true\n",
    "\n",
    "omg(\"abacbc\")\n"
   ]
  },
  {
   "cell_type": "code",
   "execution_count": null,
   "metadata": {},
   "outputs": [],
   "source": [
    "# Example 3: 1941. Leetcode solution\n",
    "# beats 67% in speed and 76% in memory 13.5MB\n",
    "\n",
    "from collections import defaultdict\n",
    "\n",
    "\n",
    "def areOccurrencesEqual(s):\n",
    "    counts = defaultdict(int)\n",
    "    for c in s:\n",
    "        counts[c] += 1\n",
    "        \n",
    "    frequencies = counts.values() # shows the freq of the elements ex: if 'sscc' freq = {2, 2} if 'sscd' freq = {2, 1, 1}\n",
    "    return len(set(frequencies)) == 1 # set(freq) contains only unique values so if all are equal 'sscc' would be {2}\n",
    "                                      # len() of this will always be 1 if the freq of each unique element is equal\n",
    "     \n",
    "areOccurrencesEqual('abacbc')\n",
    "\n"
   ]
  },
  {
   "cell_type": "code",
   "execution_count": null,
   "metadata": {},
   "outputs": [],
   "source": [
    "# how does .values() work? it is just like the name would imply\n",
    "from collections import defaultdict\n",
    "\n",
    "d = defaultdict(int)\n",
    "d['apple'] = 1\n",
    "d['banana'] = 2\n",
    "\n",
    "values = d.values()\n",
    "print(values)  # prints dict_values([1, 2])"
   ]
  },
  {
   "cell_type": "code",
   "execution_count": null,
   "metadata": {},
   "outputs": [],
   "source": [
    "# Example 3: 1941. Leetcode solution one liner (this feels like cheating lol) (it runs like shit and is slow tho so fuck it)\n",
    "# beats 67% in speed and 54% in memory 13.6MB\n",
    "\n",
    "from collections import Counter\n",
    "\n",
    "class Solution:\n",
    "    def areOccurrencesEqual(self, s: str) -> bool:\n",
    "        return len(set(Counter(s).values())) == 1"
   ]
  },
  {
   "cell_type": "code",
   "execution_count": null,
   "metadata": {},
   "outputs": [],
   "source": [
    "# prefix sum recall\n",
    "# recall was correct nice\n",
    "def prefixsumtestlol(s):\n",
    "    prefix = [s[0]]\n",
    "    for i in range(1, len(s)):\n",
    "        prefix.append(s[i] + prefix[-1])\n",
    "    return prefix\n",
    "\n",
    "nums = [1,2,3,4,5,6]\n",
    "prefixSum = prefixsumtestlol(nums)\n",
    "print(prefixSum)\n",
    "# recall using prefix sum to calc sum of subarr\n",
    "# i want sum of subarr s[1] to s[4]\n",
    "#sum = prefixSum[4] - prefixSum[1] + nums[1] # right minus left + first index of window of nums arr\n",
    "#print(sum)\n",
    "\n",
    "# ANOTHER MAYBE BETTER WAY TO CALC SUM OF SUB ARR IS LIKE THE FOLLOWING \n",
    "sum = prefixSum[4] - prefixSum[0] # final - initial - 1 ... we go one step before initial\n",
    "print(sum)"
   ]
  },
  {
   "cell_type": "code",
   "execution_count": null,
   "metadata": {},
   "outputs": [],
   "source": [
    "# Example 4: 560. Subarray Sum Equals K\n",
    "# Given an integer array nums and an integer k, find the number of subarrays whose sum is equal to k.\n",
    "\n",
    "from collections import defaultdict\n",
    "\n",
    "def godIhopeThisWorks(nums, k):\n",
    "\n",
    "    counts = defaultdict(int)\n",
    "    counts[0] = 1\n",
    "    curr = ans = 0\n",
    "\n",
    "    for num in nums:\n",
    "        curr += num # creaiing current prefix sum\n",
    "        ans += counts[curr - k]\n",
    "        counts[curr] += 1 # updating the current prefix to the freq counter hash map\n",
    "\n",
    "    return ans\n",
    "\n"
   ]
  },
  {
   "cell_type": "code",
   "execution_count": null,
   "metadata": {},
   "outputs": [],
   "source": [
    "# Example 5: 1248. Count Number of Nice Subarrays\n",
    "# Given an array of positive integers nums and an integer k. Find the number of subarrays with exactly k odd numbers in them.\n",
    "\n",
    "from collections import defaultdict\n",
    "\n",
    "class Solution:\n",
    "    def numberOfSubarrays(self, nums: List[int], k: int) -> int:\n",
    "        counts = defaultdict(int)\n",
    "        counts[0] = 1\n",
    "        ans = curr = 0\n",
    "        \n",
    "        for num in nums:\n",
    "            curr += num % 2\n",
    "            ans += counts[curr - k]\n",
    "            counts[curr] += 1\n",
    "\n",
    "        return ans"
   ]
  },
  {
   "cell_type": "code",
   "execution_count": null,
   "metadata": {},
   "outputs": [],
   "source": [
    "# Find Players With Zero or One Losses (my attempt)\n",
    "# my attempt worked but it was VERY inefficient so using the above solution is better and not that different\n",
    "# hint: Count the number of times a player loses while iterating through the matches.\n",
    "from collections import defaultdict\n",
    "\n",
    "def test(matches):\n",
    "\n",
    "    counts = defaultdict(int) # will count the player loss freq by player num\n",
    "    lostonce = []\n",
    "    neverlost = []\n",
    "    for match in range(len(matches)):\n",
    "        counts[ matches[match][1] ] += 1\n",
    "\n",
    "    # counts players who lost once\n",
    "    for loss in counts:\n",
    "        if counts[loss] == 1:\n",
    "            lostonce.append(loss)\n",
    "\n",
    "    # count players that have not lost any matches\n",
    "    for match in range(len(matches)):\n",
    "        if matches[match][0] not in counts and matches[match][0] not in neverlost: \n",
    "            neverlost.append( matches[match][0] )\n",
    "\n",
    "    \n",
    "\n",
    "    return [sorted(neverlost), sorted(lostonce)]"
   ]
  },
  {
   "cell_type": "code",
   "execution_count": null,
   "metadata": {},
   "outputs": [],
   "source": [
    "# Find Players With Zero or One Losses\n",
    "# official solution by leetcode\n",
    "class Solution:\n",
    "    def findWinners(self, matches: List[List[int]]) -> List[List[int]]:\n",
    "        zero_loss = set()\n",
    "        one_loss = set()\n",
    "        more_losses = set()\n",
    "        \n",
    "        for winner, loser in matches:\n",
    "            # Add winner\n",
    "            if (winner not in one_loss) and (winner not in more_losses):\n",
    "                zero_loss.add(winner)\n",
    "            # Add or move loser.\n",
    "            if loser in zero_loss:\n",
    "                zero_loss.remove(loser)\n",
    "                one_loss.add(loser)\n",
    "            elif loser in one_loss:\n",
    "                one_loss.remove(loser)\n",
    "                more_losses.add(loser)\n",
    "            elif loser in more_losses:\n",
    "                continue\n",
    "            else:\n",
    "                one_loss.add(loser)          \n",
    "            \n",
    "        return [sorted(list(zero_loss)), sorted(list(one_loss))]"
   ]
  },
  {
   "cell_type": "code",
   "execution_count": null,
   "metadata": {},
   "outputs": [],
   "source": [
    "arr1 = [1,2,3]\n",
    "arr2 = [4,5,6]\n",
    "arr3 = [arr1, arr2]\n",
    "print(arr3)"
   ]
  },
  {
   "cell_type": "code",
   "execution_count": null,
   "metadata": {},
   "outputs": [],
   "source": [
    "# accessing value from dictionary\n",
    "dic = {3: 2, 4: 2}\n",
    "\n",
    "for key in dic:\n",
    "    print(dic[key])"
   ]
  },
  {
   "cell_type": "code",
   "execution_count": 209,
   "metadata": {},
   "outputs": [
    {
     "data": {
      "text/plain": [
       "-1"
      ]
     },
     "execution_count": 209,
     "metadata": {},
     "output_type": "execute_result"
    }
   ],
   "source": [
    "# Largest Unique Numbe: Given an integer array nums,\n",
    "# return the largest integer that only occurs once. If no integer occurs once, return -1.\n",
    "# my attempt beats 80% in time and is average in space complexity \n",
    "\n",
    "from collections import defaultdict\n",
    "\n",
    "def LargestUniqueNo(nums):\n",
    "\n",
    "    counts = defaultdict(int) # tracks freq of all nums\n",
    "    once = set() # tracks numbers that occured only one time\n",
    "\n",
    "    for num in nums:\n",
    "        counts[num] += 1 # add to freq counter\n",
    "        if counts[num] == 1: # if the freq is 1 we add it to the once hash set\n",
    "            once.add(num)\n",
    "        elif num in once:  # checks first to see if num has already been removed. so as to prevent removing it twice (makes error)\n",
    "            once.remove(num)\n",
    "    if len(once) == 0: # if this is true all number occured more than once\n",
    "        return -1\n",
    "    \n",
    "    return max(once)\n",
    "        \n",
    "nums = [669,669,434,434,615,615,133,133,849,849,372,372,101,101,203,203,209,209,380,380,712,712,362,362,84,84,401,401,664,664,362,362,663,663,128,128,131,131,851,851,344,344,88,88,120,120,179,179,791,791,300,300,901,901,980,980,622,622,873,873,194,194,600,600,42,42,923,923,645,645,572,572,216,216,123,123,47,47,687,687]\n",
    "LargestUniqueNo(nums)"
   ]
  },
  {
   "cell_type": "code",
   "execution_count": 199,
   "metadata": {},
   "outputs": [
    {
     "name": "stdout",
     "output_type": "stream",
     "text": [
      "{9, 3, 5, 7}\n",
      "defaultdict(<class 'int'>, {5: 1, 7: 1, 3: 1, 9: 2})\n",
      "9\n"
     ]
    }
   ],
   "source": [
    "# showing the diff between a counter hashmap and a hash set \n",
    "nums = [5,7,3,9,9]\n",
    "test = set()\n",
    "dic = defaultdict(int)\n",
    "\n",
    "for num in nums:\n",
    "    test.add(num)\n",
    "    dic[num] += 1\n",
    "\n",
    "print(test)\n",
    "print(dic)"
   ]
  },
  {
   "cell_type": "code",
   "execution_count": 250,
   "metadata": {},
   "outputs": [
    {
     "data": {
      "text/plain": [
       "0"
      ]
     },
     "execution_count": 250,
     "metadata": {},
     "output_type": "execute_result"
    }
   ],
   "source": [
    "# Maximum Number of Balloons\n",
    "# (my attempt) (failed the last 10% of cases not too bad but still could be better)\n",
    "# text is a string \n",
    "\n",
    "from collections import defaultdict\n",
    "\n",
    "def MaxNoBalloons(text):\n",
    "    counts = defaultdict(int)\n",
    "    counts['b']\n",
    "    counts['a']\n",
    "    counts['l']\n",
    "    counts['o']\n",
    "    counts['n']\n",
    "\n",
    "    for char in text:\n",
    "        if char in counts:\n",
    "            counts[char] += 1\n",
    "        \n",
    "    once = 0 \n",
    "    minimum = min(counts)\n",
    "    occurances = 0\n",
    "    \n",
    "\n",
    "    if minimum == 'b' or minimum == 'a' or minimum == 'n':\n",
    "        once = counts[minimum] # once is the lowest freq of the chars the occur once\n",
    "\n",
    "    if counts['l'] and counts['o'] >= 2*once:\n",
    "        occurances = once\n",
    "    \n",
    "    for key in counts:\n",
    "        if counts[key] == 0:\n",
    "            return 0\n",
    "\n",
    "\n",
    "    return occurances\n",
    "\n",
    "\n",
    "text = \"krhizmmgmcrecekgyljqkldocicziihtgpqwbticmvuyznragqoyrukzopfmjhjjxemsxmrsxuqmnkrzhgvtgdgtykhcglurvppvcwhrhrjoislonvvglhdciilduvuiebmffaagxerjeewmtcwmhmtwlxtvlbocczlrppmpjbpnifqtlninyzjtmazxdbzwxthpvrfulvrspycqcghuopjirzoeuqhetnbrcdakilzmklxwudxxhwilasbjjhhfgghogqoofsufysmcqeilaivtmfziumjloewbkjvaahsaaggteppqyuoylgpbdwqubaalfwcqrjeycjbbpifjbpigjdnnswocusuprydgrtxuaojeriigwumlovafxnpibjopjfqzrwemoinmptxddgcszmfprdrichjeqcvikynzigleaajcysusqasqadjemgnyvmzmbcfrttrzonwafrnedglhpudovigwvpimttiketopkvqw\"\n",
    "MaxNoBalloons(text)"
   ]
  },
  {
   "cell_type": "code",
   "execution_count": 258,
   "metadata": {},
   "outputs": [
    {
     "name": "stdout",
     "output_type": "stream",
     "text": [
      "2\n"
     ]
    }
   ],
   "source": [
    "# Maximum Number of Balloons\n",
    "# leetcode forum solution. I think this one is the most intuitive and it beats 90% time and 42% of space\n",
    "\n",
    "from collections import Counter\n",
    "\n",
    "class Solution:\n",
    "    def maxNumberOfBalloons(self, text: str) -> int:\n",
    "        \n",
    "        balloon_set = set('balloon')\n",
    "        counter = Counter(text)\n",
    "        \n",
    "        if len(balloon_set & counter.keys()) != 5:\n",
    "            return 0\n",
    "        \n",
    "        counter['l'] //= 2\n",
    "        counter['o'] //= 2\n",
    "        \n",
    "        return min(counter['b'], \n",
    "                   counter['a'], \n",
    "                   counter['l'], \n",
    "                   counter['o'],\n",
    "                   counter['n'])\n",
    "    \n",
    "text = \"loonbalxballpoon\"\n",
    "a = Solution()\n",
    "b = a.maxNumberOfBalloons(text)\n",
    "print(b)"
   ]
  },
  {
   "cell_type": "code",
   "execution_count": 260,
   "metadata": {},
   "outputs": [
    {
     "name": "stdout",
     "output_type": "stream",
     "text": [
      "2\n"
     ]
    }
   ],
   "source": [
    "from collections import Counter\n",
    "\n",
    "class Solution:\n",
    "    def maxNumberOfBalloons(self, text: str) -> int:\n",
    "        \n",
    "        balloon_set = set('balloon')\n",
    "        counter = Counter(text)\n",
    "        \n",
    "        if len(balloon_set & counter.keys()) != 5: # the & sybmol is used to get the intersection between the sets (rarely possible)\n",
    "            return 0\n",
    "        \n",
    "        counter['l'] //= 2\n",
    "        counter['o'] //= 2\n",
    "        \n",
    "        return min(counter['b'], \n",
    "                   counter['a'], \n",
    "                   counter['l'], \n",
    "                   counter['o'],\n",
    "                   counter['n'])\n",
    "    \n",
    "text = \"loonbalxballpoon\"\n",
    "a = Solution()\n",
    "b = a.maxNumberOfBalloons(text)\n",
    "print(b)"
   ]
  },
  {
   "cell_type": "code",
   "execution_count": 264,
   "metadata": {},
   "outputs": [
    {
     "ename": "TypeError",
     "evalue": "unhashable type: 'list'",
     "output_type": "error",
     "traceback": [
      "\u001b[1;31m---------------------------------------------------------------------------\u001b[0m",
      "\u001b[1;31mTypeError\u001b[0m                                 Traceback (most recent call last)",
      "\u001b[1;32mx:\\Portfolio Pics\\Algo-tests-\\Hashing chapter.ipynb Cell 36\u001b[0m in \u001b[0;36m<module>\u001b[1;34m\u001b[0m\n\u001b[1;32m----> <a href='vscode-notebook-cell:/x%3A/Portfolio%20Pics/Algo-tests-/Hashing%20chapter.ipynb#Y104sZmlsZQ%3D%3D?line=0'>1</a>\u001b[0m a \u001b[39m=\u001b[39m {a:\u001b[39m1\u001b[39m, b:\u001b[39m1\u001b[39m}\n\u001b[0;32m      <a href='vscode-notebook-cell:/x%3A/Portfolio%20Pics/Algo-tests-/Hashing%20chapter.ipynb#Y104sZmlsZQ%3D%3D?line=1'>2</a>\u001b[0m b \u001b[39m=\u001b[39m {a:\u001b[39m1\u001b[39m, c:\u001b[39m1\u001b[39m}\n\u001b[0;32m      <a href='vscode-notebook-cell:/x%3A/Portfolio%20Pics/Algo-tests-/Hashing%20chapter.ipynb#Y104sZmlsZQ%3D%3D?line=3'>4</a>\u001b[0m c \u001b[39m=\u001b[39m \u001b[39mlen\u001b[39m(a \u001b[39m&\u001b[39m b)\n",
      "\u001b[1;31mTypeError\u001b[0m: unhashable type: 'list'"
     ]
    }
   ],
   "source": [
    "a = {a:1, b:1}\n",
    "b = {a:1, c:1}\n",
    "\n",
    "c = len(a & b)\n",
    "print(c)"
   ]
  },
  {
   "cell_type": "code",
   "execution_count": 261,
   "metadata": {},
   "outputs": [
    {
     "name": "stdout",
     "output_type": "stream",
     "text": [
      "dict_keys(['l', 'o', 'n', 'b', 'a', 'x', 'p'])\n",
      "{'a', 'n', 'b', 'o', 'l'}\n"
     ]
    }
   ],
   "source": [
    "# shows that counters and default dictionaries can both be used to do the same thing: count freq\n",
    "\n",
    "from collections import Counter\n",
    "from collections import defaultdict\n",
    "\n",
    "a = \"loonbalxballpoon\"\n",
    "\n",
    "counter = Counter(a)\n",
    "#print(counter)\n",
    "print(counter.keys()) # how to get keys of counter\n",
    "\n",
    "dic = defaultdict(int)\n",
    "for i in a:\n",
    "    dic[i] += 1\n",
    "\n",
    "balloon_set = set('balloon')\n",
    "print(balloon_set)\n",
    "# print(dic)\n",
    "\n",
    "\n"
   ]
  },
  {
   "cell_type": "code",
   "execution_count": 2,
   "metadata": {},
   "outputs": [
    {
     "data": {
      "text/plain": [
       "dict_values([['eat', 'tea', 'ate'], ['tan', 'nat'], ['bat']])"
      ]
     },
     "execution_count": 2,
     "metadata": {},
     "output_type": "execute_result"
    }
   ],
   "source": [
    "# Example 1: 49. Group Anagrams\n",
    "# official answer\n",
    "# Note for Python: dictionary.values() doesn't actually return a list, \n",
    "# but actually a view object. However, the LeetCode judge accepts it as a valid format.\n",
    "\n",
    "from collections import defaultdict\n",
    "\n",
    "def GroupAnagrams(strs):\n",
    "\n",
    "    groups = defaultdict(list) # default value in this is an empty list []\n",
    "    for s in strs:\n",
    "        key = \"\".join(sorted(s)) # converting string and sorting string and putting it in key\n",
    "        groups[key].append(s) # appending string to value of key. if new string is anagram it will ahve the same key \n",
    "                              # as the first anagram since sorting an anagram will always result in the same string\n",
    "                              # thus we are able to get all version of the anagrams in this way\n",
    "        \n",
    "    return groups.values() # returns the grouped anagrams as the problem wanted\n",
    "\n",
    "strs = [\"eat\",\"tea\",\"tan\",\"ate\",\"nat\",\"bat\"]\n",
    "GroupAnagrams(strs)\n"
   ]
  },
  {
   "cell_type": "code",
   "execution_count": 8,
   "metadata": {},
   "outputs": [
    {
     "ename": "UnboundLocalError",
     "evalue": "local variable 'initial' referenced before assignment",
     "output_type": "error",
     "traceback": [
      "\u001b[1;31m---------------------------------------------------------------------------\u001b[0m",
      "\u001b[1;31mUnboundLocalError\u001b[0m                         Traceback (most recent call last)",
      "\u001b[1;32mx:\\Portfolio Pics\\Algo-tests-\\Hashing chapter.ipynb Cell 39\u001b[0m in \u001b[0;36m<module>\u001b[1;34m\u001b[0m\n\u001b[0;32m     <a href='vscode-notebook-cell:/x%3A/Portfolio%20Pics/Algo-tests-/Hashing%20chapter.ipynb#X53sZmlsZQ%3D%3D?line=23'>24</a>\u001b[0m             distance[card] \u001b[39m=\u001b[39m \u001b[39mmin\u001b[39m(distance[card], )\n\u001b[0;32m     <a href='vscode-notebook-cell:/x%3A/Portfolio%20Pics/Algo-tests-/Hashing%20chapter.ipynb#X53sZmlsZQ%3D%3D?line=27'>28</a>\u001b[0m array \u001b[39m=\u001b[39m [\u001b[39m3\u001b[39m,\u001b[39m4\u001b[39m,\u001b[39m2\u001b[39m,\u001b[39m3\u001b[39m,\u001b[39m4\u001b[39m,\u001b[39m7\u001b[39m]\n\u001b[1;32m---> <a href='vscode-notebook-cell:/x%3A/Portfolio%20Pics/Algo-tests-/Hashing%20chapter.ipynb#X53sZmlsZQ%3D%3D?line=28'>29</a>\u001b[0m mindistcards(array)\n",
      "\u001b[1;32mx:\\Portfolio Pics\\Algo-tests-\\Hashing chapter.ipynb Cell 39\u001b[0m in \u001b[0;36mmindistcards\u001b[1;34m(cards)\u001b[0m\n\u001b[0;32m     <a href='vscode-notebook-cell:/x%3A/Portfolio%20Pics/Algo-tests-/Hashing%20chapter.ipynb#X53sZmlsZQ%3D%3D?line=12'>13</a>\u001b[0m distance \u001b[39m=\u001b[39m {}\n\u001b[0;32m     <a href='vscode-notebook-cell:/x%3A/Portfolio%20Pics/Algo-tests-/Hashing%20chapter.ipynb#X53sZmlsZQ%3D%3D?line=14'>15</a>\u001b[0m \u001b[39mfor\u001b[39;00m i, v \u001b[39min\u001b[39;00m \u001b[39menumerate\u001b[39m(cards):\n\u001b[1;32m---> <a href='vscode-notebook-cell:/x%3A/Portfolio%20Pics/Algo-tests-/Hashing%20chapter.ipynb#X53sZmlsZQ%3D%3D?line=16'>17</a>\u001b[0m     \u001b[39mif\u001b[39;00m initial \u001b[39m>\u001b[39m \u001b[39m-\u001b[39m\u001b[39m1\u001b[39m \u001b[39mand\u001b[39;00m v \u001b[39m==\u001b[39m cards[initial]:\n\u001b[0;32m     <a href='vscode-notebook-cell:/x%3A/Portfolio%20Pics/Algo-tests-/Hashing%20chapter.ipynb#X53sZmlsZQ%3D%3D?line=17'>18</a>\u001b[0m         final \u001b[39m=\u001b[39m i\n\u001b[0;32m     <a href='vscode-notebook-cell:/x%3A/Portfolio%20Pics/Algo-tests-/Hashing%20chapter.ipynb#X53sZmlsZQ%3D%3D?line=19'>20</a>\u001b[0m     \u001b[39mif\u001b[39;00m dupes[v] \u001b[39m>\u001b[39m \u001b[39m1\u001b[39m: \u001b[39m# we know card is a dupe\u001b[39;00m\n",
      "\u001b[1;31mUnboundLocalError\u001b[0m: local variable 'initial' referenced before assignment"
     ]
    }
   ],
   "source": [
    "# 2260. Minimum Consecutive Cards to Pick Up\n",
    "# my attempt: did not work\n",
    "\n",
    "# find dupes, then distance, return min\n",
    "\n",
    "from collections import defaultdict\n",
    "\n",
    "def mindistcards(cards):\n",
    "    dupes = defaultdict(int)\n",
    "    for card in cards:\n",
    "        dupes[card] += 1\n",
    "\n",
    "    distance = {}\n",
    "\n",
    "    for i, v in enumerate(cards):\n",
    "\n",
    "        if initial > -1 and v == cards[initial]:\n",
    "            final = i\n",
    "\n",
    "        if dupes[v] > 1: # we know card is a dupe\n",
    "            initial = i\n",
    "\n",
    "        elif card in distance: # we have a previous dupe\n",
    "            distance[card] = min(distance[card], )\n",
    "\n",
    "\n",
    "\n",
    "array = [3,4,2,3,4,7]\n",
    "mindistcards(array)"
   ]
  },
  {
   "cell_type": "code",
   "execution_count": 26,
   "metadata": {},
   "outputs": [
    {
     "data": {
      "text/plain": [
       "3"
      ]
     },
     "execution_count": 26,
     "metadata": {},
     "output_type": "execute_result"
    }
   ],
   "source": [
    "# 2260. Minimum Consecutive Cards to Pick Up\n",
    "# my recall: works \n",
    "\n",
    "from collections import defaultdict\n",
    "\n",
    "def test(cards):\n",
    "    dic = defaultdict(list)\n",
    "\n",
    "    for i, v in enumerate(cards): # here we are creating a dic whose vals are lists with indexes of values in cards\n",
    "        dic[v].append(i)\n",
    "\n",
    "    ans = float('inf') # we are trying to find a min. comparing anything to infinity, that thing will always be less.\n",
    "\n",
    "    for key in dic:\n",
    "        arr = dic[key] # this is the list in the values of the dic. makes it easier to read i did not do this tho \n",
    "        \n",
    "        for i in range(len(arr) - 1): # len - 1 bc we will be out of range otherwise due to dic[i+1]\n",
    "\n",
    "            ans = min(ans, arr[i + 1] - arr[i] + 1) # +1 bc you must add +1 for distance between two indexes \n",
    "                                                    # you have to count the current element for ex:\n",
    "            # [1,2,1] if i want index distance between both 1's. at 1 count is 1, then 2 count is 2, then 3 tound is 3\n",
    "            # and if i delta the indexes of 1 i get 2 - 1 = 0 which is not 3 thus we add 1. I know it is odd.\n",
    "\n",
    "            # ans = min(ans, dic[key][i + 1] - dic[key][i] + 1) # if you do not use arr = dic[key] this line is what you need\n",
    "                                                               # however it is harder to read. use arr instead\n",
    "\n",
    "    if ans < float('inf'):\n",
    "        return ans\n",
    "    else:\n",
    "        return -1\n",
    "    \n",
    "\n",
    "\n",
    "array = [3,4,2,3,4,7]\n",
    "test(array)"
   ]
  },
  {
   "cell_type": "code",
   "execution_count": null,
   "metadata": {},
   "outputs": [],
   "source": [
    "# 2260. Minimum Consecutive Cards to Pick Up\n",
    "# more efficent method \n",
    "\n",
    "from collections import defaultdict\n",
    "\n",
    "class Solution:\n",
    "    def minimumCardPickup(self, cards: List[int]) -> int:\n",
    "        dic = defaultdict(int)\n",
    "        ans = float(\"inf\")\n",
    "        for i in range(len(cards)):\n",
    "            if cards[i] in dic:\n",
    "                ans = min(ans, i - dic[cards[i]] + 1)\n",
    "            \n",
    "            dic[cards[i]] = i\n",
    "\n",
    "        return ans if ans < float(\"inf\") else -1"
   ]
  },
  {
   "cell_type": "code",
   "execution_count": 74,
   "metadata": {},
   "outputs": [
    {
     "name": "stdout",
     "output_type": "stream",
     "text": [
      "[9]\n",
      "[2, 2]\n",
      "[5]\n"
     ]
    },
    {
     "data": {
      "text/plain": [
       "4"
      ]
     },
     "execution_count": 74,
     "metadata": {},
     "output_type": "execute_result"
    }
   ],
   "source": [
    "# Example 3: 2342. Max Sum of a Pair With Equal Sum of Digits\n",
    "# (my attempt) passed most tests but did not complete read comments at the end to see why\n",
    "\n",
    "from collections import defaultdict\n",
    "\n",
    "def maxsum(nums):\n",
    "\n",
    "    dic = defaultdict(list)\n",
    "\n",
    "    def getSum(n):\n",
    "        \n",
    "        sum = 0\n",
    "        for digit in str(n): \n",
    "            sum += int(digit)      \n",
    "        return sum\n",
    "\n",
    "    # get a list with sum of digits, add elements to list whose sum of digits is equal \n",
    "    # sum all digits then group them by equalaity, then return largest sum\n",
    "    \n",
    "    \n",
    "    for i, v in enumerate(nums):\n",
    "        dic[getSum(v)].append(v) # created the key which is the sum of its digits and append the element to the list \n",
    "        # ans = max(ans, sum(dic[getSum(v)]))\n",
    "\n",
    "    \n",
    "    for key in dic:         # if the condition is not met we return -1 \n",
    "        arr = dic[key]\n",
    "        print(arr)\n",
    "        if not(len(arr) > 1): # if any of the arrays have a len of 2 or more there was at least 1 pair that completed condition\n",
    "            dic[key] = []\n",
    "                \n",
    "    \n",
    "    ans = -1 # removes the need to check if the condition is NOT true. that is what stumped me \n",
    "    for key in dic:\n",
    "        curr = dic[key]\n",
    "        if len(curr) > 1:\n",
    "            # the two lines below are what I could not get.. understand them and what they do\n",
    "            # we sort from greatest to least bc in the next line we sum the top two numbers that fill the cond\n",
    "            # ans is initially -1 so that if our if cond is never true that means there are no pairs and thus cond is not\n",
    "            # true for the answer so we return -1 \n",
    "            curr.sort(reverse=True)\n",
    "            ans = max(ans, curr[0] + curr[1])\n",
    "\n",
    "    return ans\n",
    "    \n",
    "    \n",
    "\n",
    "nums = [10,12,19,14]\n",
    "nums = [9,2,2,5]\n",
    "maxsum(nums)"
   ]
  },
  {
   "cell_type": "code",
   "execution_count": null,
   "metadata": {},
   "outputs": [],
   "source": [
    "# Example 3: 2342. Max Sum of a Pair With Equal Sum of Digits\n",
    "# faster official method removes the need for sort (which is nlogn which is dogshit)\n",
    "\n",
    "\n",
    "from collections import defaultdict\n",
    "\n",
    "class Solution:\n",
    "    def maximumSum(self, nums: List[int]) -> int:\n",
    "        def get_digit_sum(num):\n",
    "            digit_sum = 0\n",
    "            while num:\n",
    "                digit_sum += num % 10\n",
    "                num //= 10\n",
    "            \n",
    "            return digit_sum\n",
    "        \n",
    "        dic = defaultdict(int)\n",
    "        ans = -1\n",
    "        for num in nums:\n",
    "            digit_sum = get_digit_sum(num)\n",
    "            if digit_sum in dic:\n",
    "                ans = max(ans, num + dic[digit_sum])\n",
    "            dic[digit_sum] = max(dic[digit_sum], num)\n",
    "\n",
    "        return ans"
   ]
  },
  {
   "cell_type": "code",
   "execution_count": 4,
   "metadata": {},
   "outputs": [
    {
     "data": {
      "text/plain": [
       "1"
      ]
     },
     "execution_count": 4,
     "metadata": {},
     "output_type": "execute_result"
    }
   ],
   "source": [
    "# \"easy\" problem: 121. Best Time to Buy and Sell Stock\n",
    "#  my attempt DOES NOT WORK FINISH LATER FOR SANITY \n",
    "\n",
    "def wsb(prices):\n",
    "\n",
    "    right = len(prices) - 1\n",
    "\n",
    "    left = ans = 0\n",
    "    \n",
    "\n",
    "    while left < right:\n",
    "\n",
    "        ans = max(ans, prices[right] - prices[left])\n",
    "        left += 1\n",
    "        #ans = max(ans, prices[right] - prices[left])\n",
    "        right -= 1\n",
    "        ans = max(ans, prices[right] - prices[left])\n",
    "        \n",
    "    if ans < 0:\n",
    "        return 0\n",
    "    else:\n",
    "        return ans\n",
    "\n",
    " \n",
    "prices = [1,4,2]\n",
    "\n",
    "wsb(prices)"
   ]
  },
  {
   "cell_type": "code",
   "execution_count": 30,
   "metadata": {},
   "outputs": [
    {
     "data": {
      "text/plain": [
       "3"
      ]
     },
     "execution_count": 30,
     "metadata": {},
     "output_type": "execute_result"
    }
   ],
   "source": [
    "# 2352. Equal Row and Column Pairs\n",
    "# hint: involves 1 method and 3 for loops.\n",
    "# screw the hint my sol works and beats 33% of answers in time and 91% in space. not the fastest BUT IT WORKS\n",
    "\n",
    "from collections import defaultdict\n",
    "\n",
    "def equalrow(grid):\n",
    "\n",
    "    rows = grid\n",
    "    col = [] \n",
    "\n",
    "    # gets columns from grid \n",
    "    def getcols(arr):    \n",
    "        for i in range(len(arr)):\n",
    "            col.append([])\n",
    "            for row in grid:\n",
    "                col[i].append(row[i])\n",
    "        \n",
    "    getcols(grid[0])\n",
    "\n",
    "    # compare rows to cols then return number of matches\n",
    "    count = 0\n",
    "    for row in grid:\n",
    "        for column in col:\n",
    "            if row == column:\n",
    "                count += 1\n",
    "\n",
    "\n",
    "    return count\n",
    "\n",
    "\n",
    "\n",
    "grid = [[3,1,2,2],[1,4,4,5],[2,4,2,2],[2,4,2,2]]\n",
    "equalrow(grid)"
   ]
  },
  {
   "cell_type": "code",
   "execution_count": 26,
   "metadata": {},
   "outputs": [
    {
     "name": "stdout",
     "output_type": "stream",
     "text": [
      "[[3, 2, 1, 69], [1, 7, 6], [2, 7, 7]]\n"
     ]
    }
   ],
   "source": [
    "grid = [[3,2,1],[1,7,6],[2,7,7]]\n",
    "\n",
    "grid[0].append(69)\n",
    "print(grid)"
   ]
  },
  {
   "cell_type": "code",
   "execution_count": 7,
   "metadata": {},
   "outputs": [
    {
     "name": "stdout",
     "output_type": "stream",
     "text": [
      "True\n"
     ]
    }
   ],
   "source": [
    "# test to see if you can check equality between lists like so, you can\n",
    "arr1 = [1,2,3]\n",
    "arr2 = [1,2,3]\n",
    "\n",
    "if arr1 == arr2: print(True)"
   ]
  },
  {
   "cell_type": "code",
   "execution_count": 41,
   "metadata": {},
   "outputs": [
    {
     "name": "stdout",
     "output_type": "stream",
     "text": [
      "3\n"
     ]
    }
   ],
   "source": [
    "# 2352. Equal Row and Column Pairs\n",
    "# official solution beats 70% in time and 50% in space\n",
    "from collections import defaultdict\n",
    "\n",
    "class Solution:\n",
    "    def equalPairs(grid):\n",
    "        def convert_to_key(arr):\n",
    "            # Python is quite a nice language for coding interviews!\n",
    "            return tuple(arr)\n",
    "        \n",
    "        dic = defaultdict(int)\n",
    "        for row in grid:\n",
    "            dic[convert_to_key(row)] += 1\n",
    "        \n",
    "        dic2 = defaultdict(int)\n",
    "        for col in range(len(grid[0])):\n",
    "            current_col = []\n",
    "            for row in range(len(grid)):\n",
    "                current_col.append(grid[row][col])\n",
    "            \n",
    "            dic2[convert_to_key(current_col)] += 1\n",
    "\n",
    "        ans = 0\n",
    "        for arr in dic:\n",
    "            ans += dic[arr] * dic2[arr]\n",
    "        \n",
    "        return ans\n",
    "    \n",
    "a = Solution\n",
    "grid = [[3,1,2,2],[1,4,4,5],[2,4,2,2],[2,4,2,2]]\n",
    "print(a.equalPairs(grid))"
   ]
  },
  {
   "cell_type": "code",
   "execution_count": null,
   "metadata": {},
   "outputs": [],
   "source": [
    "# try to recall the above later and review the video before "
   ]
  }
 ],
 "metadata": {
  "kernelspec": {
   "display_name": "Python 3",
   "language": "python",
   "name": "python3"
  },
  "language_info": {
   "codemirror_mode": {
    "name": "ipython",
    "version": 3
   },
   "file_extension": ".py",
   "mimetype": "text/x-python",
   "name": "python",
   "nbconvert_exporter": "python",
   "pygments_lexer": "ipython3",
   "version": "3.8.3"
  },
  "orig_nbformat": 4
 },
 "nbformat": 4,
 "nbformat_minor": 2
}
