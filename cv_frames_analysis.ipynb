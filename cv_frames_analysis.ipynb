{
 "cells": [
  {
   "cell_type": "markdown",
   "metadata": {},
   "source": [
    "# Hole Handler"
   ]
  },
  {
   "cell_type": "code",
   "execution_count": 1,
   "metadata": {},
   "outputs": [
    {
     "ename": "ModuleNotFoundError",
     "evalue": "No module named 'sliced_frame_processor'",
     "output_type": "error",
     "traceback": [
      "\u001b[1;31m---------------------------------------------------------------------------\u001b[0m",
      "\u001b[1;31mModuleNotFoundError\u001b[0m                       Traceback (most recent call last)",
      "Cell \u001b[1;32mIn[1], line 3\u001b[0m\n\u001b[0;32m      1\u001b[0m \u001b[38;5;28;01mfrom\u001b[39;00m \u001b[38;5;21;01mtyping\u001b[39;00m \u001b[38;5;28;01mimport\u001b[39;00m List, Dict, Any\n\u001b[0;32m      2\u001b[0m \u001b[38;5;28;01mfrom\u001b[39;00m \u001b[38;5;21;01mpydantic\u001b[39;00m \u001b[38;5;28;01mimport\u001b[39;00m BaseModel\n\u001b[1;32m----> 3\u001b[0m \u001b[38;5;28;01mfrom\u001b[39;00m \u001b[38;5;21;01msliced_frame_processor\u001b[39;00m \u001b[38;5;28;01mimport\u001b[39;00m SlicedFrameProcessor\n\u001b[0;32m      4\u001b[0m \u001b[38;5;28;01mfrom\u001b[39;00m \u001b[38;5;21;01mdata_classes\u001b[39;00m \u001b[38;5;28;01mimport\u001b[39;00m BoundingBox, PoseKeypoint, DetectionResult\n\u001b[0;32m      5\u001b[0m \u001b[38;5;28;01mfrom\u001b[39;00m \u001b[38;5;21;01mutils\u001b[39;00m \u001b[38;5;28;01mimport\u001b[39;00m Config\n",
      "\u001b[1;31mModuleNotFoundError\u001b[0m: No module named 'sliced_frame_processor'"
     ]
    }
   ],
   "source": [
    "from typing import List, Dict, Any\n",
    "from pydantic import BaseModel\n",
    "from sliced_frame_processor import SlicedFrameProcessor\n",
    "from data_classes import BoundingBox, PoseKeypoint, DetectionResult\n",
    "from utils import Config\n",
    "\n",
    "\n",
    "def convert_to_hole_result(data: List[Dict[str, Any]], image_width: int) -> DetectionResult:\n",
    "    bboxes = []\n",
    "    poses = []\n",
    "\n",
    "    for item in data:\n",
    "        # Convert bbox\n",
    "        bbox = item['bbox']\n",
    "        class_id = item['class_id']\n",
    "        x_center, y_center = bbox['x_center'], bbox['y_center']\n",
    "        width, height = bbox['width'], bbox['height']\n",
    "        \n",
    "        bboxes.append(BoundingBox(\n",
    "            x_min=x_center - width / 2,\n",
    "            y_min=y_center - height / 2,\n",
    "            x_max=x_center + width / 2,\n",
    "            y_max=y_center + height / 2,\n",
    "            class_name=str(class_id)\n",
    "        ))\n",
    "\n",
    "        # Convert keypoints\n",
    "        keypoints = item['keypoints']\n",
    "        pose = [\n",
    "            PoseKeypoint(x=keypoints[0], y=keypoints[1], class_name=str(class_id)),\n",
    "        ]\n",
    "        poses.append(pose)\n",
    "\n",
    "    return DetectionResult(image_width=image_width, bboxes=bboxes, poses=poses)\n",
    "\n",
    "\n",
    "class HoleHandler:\n",
    "    def __init__(self, config: Config):\n",
    "        self.processor = SlicedFrameProcessor(config, \"hole\")\n",
    "\n",
    "\n",
    "    def process_frame(self, frame):\n",
    "        # Process the frame\n",
    "        try:\n",
    "            processed_image, transformed_labels = self.processor.process_frame(frame)\n",
    "            serialized_labels = [label.serialize() for label in transformed_labels]\n",
    "            result = convert_to_hole_result(serialized_labels, frame.shape[1])\n",
    "            return result\n",
    "        except Exception as e:\n",
    "            print(f\"Error processing frame HoleHandler: {e}\")\n",
    "            return DetectionResult(image_width=frame.shape[1], bboxes=[], poses=[])\n"
   ]
  },
  {
   "cell_type": "markdown",
   "metadata": {},
   "source": [
    "convert to hole result "
   ]
  },
  {
   "cell_type": "code",
   "execution_count": null,
   "metadata": {},
   "outputs": [],
   "source": [
    "from typing import List, Dict, Any\n",
    "\n",
    "# pydantic is used for data validation \n",
    "from pydantic import BaseModel  # BaseModel defines you data models..\n",
    "\n",
    "\n",
    "from sliced_frame_processor import SlicedFrameProcessor\n",
    "from data_classes import BoundingBox, PoseKeypoint, DetectionResult\n",
    "from utils import Config\n",
    "\n",
    "\n",
    "def convert_to_hole_result(data: List[Dict[str, Any]], image_width: int) -> DetectionResult:\n",
    "    bboxes = []\n",
    "    poses = []\n",
    "\n",
    "    for item in data:\n",
    "        # Convert bbox\n",
    "        bbox = item['bbox']\n",
    "        class_id = item['class_id']\n",
    "        x_center, y_center = bbox['x_center'], bbox['y_center']\n",
    "        width, height = bbox['width'], bbox['height']\n",
    "        \n",
    "        bboxes.append(BoundingBox(\n",
    "            x_min=x_center - width / 2,\n",
    "            y_min=y_center - height / 2,\n",
    "            x_max=x_center + width / 2,\n",
    "            y_max=y_center + height / 2,\n",
    "            class_name=str(class_id)\n",
    "        ))\n",
    "\n",
    "        # Convert keypoints\n",
    "        keypoints = item['keypoints']\n",
    "        pose = [\n",
    "            PoseKeypoint(x=keypoints[0], y=keypoints[1], class_name=str(class_id)),\n",
    "        ]\n",
    "        poses.append(pose)\n",
    "\n",
    "    return DetectionResult(image_width=image_width, bboxes=bboxes, poses=poses)\n"
   ]
  },
  {
   "cell_type": "markdown",
   "metadata": {},
   "source": [
    "#"
   ]
  }
 ],
 "metadata": {
  "kernelspec": {
   "display_name": "myenv",
   "language": "python",
   "name": "python3"
  },
  "language_info": {
   "codemirror_mode": {
    "name": "ipython",
    "version": 3
   },
   "file_extension": ".py",
   "mimetype": "text/x-python",
   "name": "python",
   "nbconvert_exporter": "python",
   "pygments_lexer": "ipython3",
   "version": "3.11.7"
  }
 },
 "nbformat": 4,
 "nbformat_minor": 2
}
