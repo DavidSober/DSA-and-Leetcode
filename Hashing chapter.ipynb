{
 "cells": [
  {
   "cell_type": "code",
   "execution_count": 6,
   "metadata": {},
   "outputs": [
    {
     "name": "stdout",
     "output_type": "stream",
     "text": [
      "83\n",
      "True\n",
      "False\n",
      "4: 83\n",
      "8: 327\n",
      "45: 82523\n"
     ]
    }
   ],
   "source": [
    "# playground for basics of hash maps\n",
    "# btw hash map are hash tables are dictionaries... they are all the same thing lol\n",
    "my_hash_map = {}\n",
    "\n",
    "my_hash_map[4] = 83\n",
    "print(my_hash_map[4]) # Prints 83\n",
    "\n",
    "print(4 in my_hash_map) # Prints True\n",
    "print(854 in my_hash_map) # Prints False\n",
    "\n",
    "my_hash_map[8] = 327\n",
    "my_hash_map[45] = 82523\n",
    "\n",
    "for key, val in my_hash_map.items():\n",
    "    print(f\"{key}: {val}\")"
   ]
  },
  {
   "cell_type": "code",
   "execution_count": 13,
   "metadata": {},
   "outputs": [
    {
     "data": {
      "text/plain": [
       "[0, 1]"
      ]
     },
     "execution_count": 13,
     "metadata": {},
     "output_type": "execute_result"
    }
   ],
   "source": [
    "# Brute force twosum this will be improved with hashes\n",
    "\n",
    "def fn(nums, target):\n",
    "\n",
    "    for i in range(len(nums)):\n",
    "        for j in range(len(nums)):\n",
    "            if nums[i] + nums[j] == target and i != j:\n",
    "                return [i, j]\n",
    "\n",
    "a = [1,2,3,4,5]\n",
    "target = 3\n",
    "\n",
    "fn(a, target)"
   ]
  },
  {
   "cell_type": "code",
   "execution_count": null,
   "metadata": {},
   "outputs": [],
   "source": [
    "# twoSum with hash map\n",
    "# essentially if a given element has a compliment in the hashmap, we know that the two sum was found\n",
    "# watch the vid on hashing chapter if this makes no sense. compliment is the same idea as in stats/prob \n",
    "class Solution:\n",
    "    def twoSum(self, nums: List[int], target: int) -> List[int]:\n",
    "        dic = {} # declare hashmap\n",
    "        for i in range(len(nums)):\n",
    "            num = nums[i]\n",
    "            complement = target - num\n",
    "            if complement in dic: # This operation is O(1)!\n",
    "                return [i, dic[complement]] \n",
    "            \n",
    "            dic[num] = i # adds the current element from input arr nums to the dict\n",
    "        \n",
    "        return [-1, -1] # no idea why this is here... it does not need to be for the submission so idk lol"
   ]
  },
  {
   "cell_type": "code",
   "execution_count": 19,
   "metadata": {},
   "outputs": [
    {
     "name": "stdout",
     "output_type": "stream",
     "text": [
      "[1, 0]\n"
     ]
    }
   ],
   "source": [
    "# my recall of how to implement a hash map for twosums\n",
    "def twoSumez(nums, target):\n",
    "\n",
    "    dic = {}\n",
    "\n",
    "    for i in range(len(nums)):\n",
    "        complement = target - nums[i]\n",
    "        if complement in dic:\n",
    "            return [i, dic[complement]]\n",
    "        \n",
    "        dic[nums[i]] = i\n",
    "\n",
    "\n",
    "a = twoSumez([1,2,3,45,5], 3)\n",
    "\n",
    "print(a)"
   ]
  },
  {
   "cell_type": "code",
   "execution_count": 99,
   "metadata": {},
   "outputs": [
    {
     "data": {
      "text/plain": [
       "'c'"
      ]
     },
     "execution_count": 99,
     "metadata": {},
     "output_type": "execute_result"
    }
   ],
   "source": [
    "# HASHmap approach not the best but not bad\n",
    "# (my attempt) First Letter to Appear Twice (this worked and beat 43% of other code so its almost average)\n",
    "def FLtAT(s):\n",
    "    dic ={} # make hash map\n",
    "\n",
    "    for i in s:\n",
    "        if i in dic: # check if element is already in hash map\n",
    "            return i\n",
    "        dic[i] = i # add new element to hashmap for later check\n",
    "\n",
    "FLtAT(\"abccbaacz\")\n"
   ]
  },
  {
   "cell_type": "code",
   "execution_count": 28,
   "metadata": {},
   "outputs": [
    {
     "data": {
      "text/plain": [
       "'c'"
      ]
     },
     "execution_count": 28,
     "metadata": {},
     "output_type": "execute_result"
    }
   ],
   "source": [
    "# HASH SET approach much better than before \n",
    "def hashset(s):\n",
    "    hashset = set() # this is how you make a hash set\n",
    "    for i in s:\n",
    "        if i in hashset: # checks if element from string/list s is in hashset\n",
    "            return i\n",
    "        hashset.add(i) # if the if statement above does not end the function we add the string/list element to the hashset \n",
    "                       # for later checks\n",
    "\n",
    "hashset(\"abccbaacz\")"
   ]
  },
  {
   "cell_type": "code",
   "execution_count": 42,
   "metadata": {},
   "outputs": [
    {
     "data": {
      "text/plain": [
       "[]"
      ]
     },
     "execution_count": 42,
     "metadata": {},
     "output_type": "execute_result"
    }
   ],
   "source": [
    "# Example 3: Given an integer array nums, find all the numbers x that satisfy the \n",
    "# following: x + 1 is not in nums, and x - 1 is not in nums.\n",
    "# (my attempt) I think this works\n",
    "\n",
    "def fn(nums):\n",
    "    out = []\n",
    "    hset = set(nums) # we put list into hashset since sets are faster to look through\n",
    "    for i in nums:\n",
    "        if not(i + 1 in hset) and not(i - 1 in hset):\n",
    "            out.append(i) # add to list of answers since problem statement conditinon was met\n",
    "    return out\n",
    "\n",
    "x = [1,2,3,4,5]\n",
    "fn(x)"
   ]
  },
  {
   "cell_type": "code",
   "execution_count": 38,
   "metadata": {},
   "outputs": [
    {
     "data": {
      "text/plain": [
       "[]"
      ]
     },
     "execution_count": 38,
     "metadata": {},
     "output_type": "execute_result"
    }
   ],
   "source": [
    "# Example 3: correct answer. it is the same as mine. it was simple enough\n",
    "def find_numbers(nums):\n",
    "    ans = []\n",
    "    nums = set(nums)\n",
    "\n",
    "    for num in nums:\n",
    "        if (num + 1 not in nums) and (num - 1 not in nums):\n",
    "            ans.append(num)\n",
    "    return ans\n",
    "\n",
    "x = [1,2,3,4,5]\n",
    "find_numbers(x)"
   ]
  },
  {
   "cell_type": "code",
   "execution_count": 52,
   "metadata": {},
   "outputs": [
    {
     "data": {
      "text/plain": [
       "True"
      ]
     },
     "execution_count": 52,
     "metadata": {},
     "output_type": "execute_result"
    }
   ],
   "source": [
    "# Check if the Sentence Is Pangram\n",
    "# A pangram is a sentence where every letter of the English alphabet appears at least once.\n",
    "# Given a string sentence containing only lowercase English letters, return true if sentence is a pangram, or false otherwise.\n",
    "# (my attempt) worked and beats 96% of attempts\n",
    "\n",
    "def checkpangram(s):\n",
    "    hset = set(s) \n",
    "    if len(hset) == 26: # this works bc hashsets can only store unique values, thus only unique letters are stored\n",
    "                        # if you dump a million char (assumption in q is they are from alphabet) then we would have at most\n",
    "                        # 26 since there are only that many unique letters in the alphabet. thus len == 26 is the only \n",
    "                        # condition that works. gg ez?\n",
    "        return True\n",
    "    \n",
    "checkpangram(\"thequickbrownfoxjumpsoverthelazydog\")\n"
   ]
  },
  {
   "cell_type": "code",
   "execution_count": 62,
   "metadata": {},
   "outputs": [
    {
     "name": "stdout",
     "output_type": "stream",
     "text": [
      "1\n"
     ]
    }
   ],
   "source": [
    "# Missing Number\n",
    "# Given an array nums containing n distinct numbers in the range [0, n], \n",
    "# return the only number in the range that is missing from the array.\n",
    "# (my attempt) this works and beats 66% of code\n",
    "\n",
    "def missingNo(nums):\n",
    "    hset = set(nums) # use a hashset since it is O(1) to search through as opposed to O(n) for a normal arr\n",
    "    \n",
    "    temp = [] # create a temp array that will have values [0, n] where n = len(input arr)\n",
    "    for i in range(len(nums) + 1): # we do + 1 bc we are captureing 0 in addition to max len \n",
    "        temp.append(i)\n",
    "\n",
    "    for i in temp:\n",
    "        if i not in hset: # checks if the ordered temp list (which has all possible values [0, n]) against hashset of input\n",
    "            return i\n",
    "        \n",
    "test = [0,2,3,4]\n",
    "yo = missingNo(test)\n",
    "print(yo)"
   ]
  },
  {
   "cell_type": "code",
   "execution_count": 66,
   "metadata": {},
   "outputs": [
    {
     "data": {
      "text/plain": [
       "2"
      ]
     },
     "execution_count": 66,
     "metadata": {},
     "output_type": "execute_result"
    }
   ],
   "source": [
    "# Counting Elements\n",
    "# Given an integer array arr, count how many elements x there are, \n",
    "# such that x + 1 is also in arr. If there are duplicates in arr, count them separately.\n",
    "# (my attempt) this works and also beats 80% of code. I did this in 30 secs holyy\n",
    "\n",
    "def countElements(arr):\n",
    "    hset = set(arr)\n",
    "    count = 0\n",
    "    for i in arr:\n",
    "        if i + 1 in hset:\n",
    "            count += 1\n",
    "\n",
    "    return count\n",
    "\n",
    "countElements([1,2,3])"
   ]
  },
  {
   "cell_type": "code",
   "execution_count": null,
   "metadata": {},
   "outputs": [],
   "source": [
    "# example of how to use a hashmap to keep counts of stuff in a window\n",
    "# rewatch vid to understand if this makes no sense \n",
    "\n",
    "from collections import defaultdict\n",
    "\n",
    "def find_longest_substring(s, k):\n",
    "    counts = defaultdict(int)\n",
    "    left = ans = 0\n",
    "    for right in range(len(s)): # this and the line above is how you make a window\n",
    "        counts[s[right]] += 1\n",
    "        while len(counts) > k:\n",
    "            counts[s[left]] -= 1\n",
    "            if counts[s[left]] == 0:\n",
    "                del counts[s[left]]  # this deletes an element if the count of it is zero.\n",
    "            left += 1\n",
    "        \n",
    "        ans = max(ans, right - left + 1) # we do this since we want the max len of a window that fits the conditions\n",
    "    \n",
    "    return ans"
   ]
  },
  {
   "cell_type": "code",
   "execution_count": 90,
   "metadata": {},
   "outputs": [
    {
     "data": {
      "text/plain": [
       "4"
      ]
     },
     "execution_count": 90,
     "metadata": {},
     "output_type": "execute_result"
    }
   ],
   "source": [
    "# my recall\n",
    "from collections import defaultdict\n",
    "\n",
    "def test(s, k):\n",
    "    counts = defaultdict(int) # the value is 0 for all keys unless specified. \n",
    "    left = ans = 0\n",
    "    for right in range(len(s)):\n",
    "        counts[s[right]] += 1 # adding counts to the values in hashmap\n",
    "        while len(counts) > k: # k is the limit of the number of distinct characters in the window\n",
    "            counts[s[left]] -= 1\n",
    "            if counts[s[left]] == 0:\n",
    "                del counts[s[left]]\n",
    "                \n",
    "            left += 1 # we move on to the next char every time. that is intended \n",
    "\n",
    "        ans = max(ans, right - left + 1)\n",
    "    \n",
    "    return ans\n",
    "            \n",
    "s = \"eeec\"\n",
    "k = 2\n",
    "test(s,k)"
   ]
  },
  {
   "cell_type": "code",
   "execution_count": 84,
   "metadata": {},
   "outputs": [
    {
     "name": "stdout",
     "output_type": "stream",
     "text": [
      "defaultdict(<class 'int'>, {'e': 11, 'c': 1, 'b': 1})\n",
      "3\n"
     ]
    }
   ],
   "source": [
    "s = \"eceb\"\n",
    "counts = defaultdict(int)\n",
    "\n",
    "counts[s[0]] += 10 # e\n",
    "counts[s[1]] += 1 # c\n",
    "counts[s[2]] += 1 # e\n",
    "counts[s[3]] += 1 # b\n",
    "\n",
    "print(counts)\n",
    "print(len(counts)) # number of unique elements in the dict. has nothing to do with the count\n",
    "\n"
   ]
  },
  {
   "cell_type": "code",
   "execution_count": 98,
   "metadata": {},
   "outputs": [
    {
     "name": "stdout",
     "output_type": "stream",
     "text": [
      "{1: 1, 2: 2, 3: 3, 4: 4, 5: 5, 6: 6}\n"
     ]
    }
   ],
   "source": [
    "arr = [1,2,3,4,5,6]\n",
    "dic = {}\n",
    "for i in arr:\n",
    "    dic[i] = i\n",
    "\n",
    "print(dic)"
   ]
  },
  {
   "cell_type": "code",
   "execution_count": 129,
   "metadata": {},
   "outputs": [
    {
     "name": "stdout",
     "output_type": "stream",
     "text": [
      "3\n",
      "1\n",
      "2\n",
      "4\n",
      "5\n",
      "1\n",
      "2\n",
      "3\n",
      "4\n",
      "3\n",
      "4\n",
      "5\n",
      "6\n"
     ]
    }
   ],
   "source": [
    "nums = [[3,1,2,4,5],[1,2,3,4],[3,4,5,6]]\n",
    "# below is how to basically iterate through a multidimensional list\n",
    "for i in range(len(nums)):\n",
    "    for j in range(len(nums[i])):\n",
    "        print(nums[i][j])\n",
    "\n",
    "#nums[0][0]\n",
    "\n"
   ]
  },
  {
   "cell_type": "code",
   "execution_count": null,
   "metadata": {},
   "outputs": [],
   "source": [
    "def fn(nums):\n",
    "    out = []\n",
    "    hset = set(nums) # we put list into hashset since sets are faster to look through\n",
    "    for i in nums:\n",
    "        if not(i + 1 in hset) and not(i - 1 in hset):\n",
    "            out.append(i) # add to list of answers since problem statement conditinon was met\n",
    "    return out\n",
    "\n",
    "x = [1,2,3,4,5]\n",
    "fn(x)"
   ]
  },
  {
   "cell_type": "code",
   "execution_count": 139,
   "metadata": {},
   "outputs": [
    {
     "name": "stdout",
     "output_type": "stream",
     "text": [
      "[3, 4]\n"
     ]
    }
   ],
   "source": [
    "from typing import List\n",
    "from collections import defaultdict\n",
    "\n",
    "class Solution:\n",
    "    def intersection(self, nums: List[List[int]]) -> List[int]:\n",
    "        counts = defaultdict(int)\n",
    "        for arr in nums:\n",
    "            for x in arr:\n",
    "                counts[x] += 1\n",
    "\n",
    "        n = len(nums)\n",
    "        ans = []\n",
    "        for key in counts:\n",
    "            if counts[key] == n:\n",
    "                ans.append(key)\n",
    "        \n",
    "        return sorted(ans)\n",
    "\n",
    "# Create an instance of the Solution class\n",
    "s = Solution()\n",
    "\n",
    "# Call the intersection method on the instance with a list of lists as input\n",
    "result = s.intersection([[3,1,2,4,5],[1,2,3,4],[3,4,5,6]])\n",
    "print(result)\n",
    "\n",
    "\n"
   ]
  },
  {
   "cell_type": "code",
   "execution_count": 142,
   "metadata": {},
   "outputs": [
    {
     "name": "stdout",
     "output_type": "stream",
     "text": [
      "3\n"
     ]
    }
   ],
   "source": [
    "s = \"dfgg\"\n",
    "test = set(s)\n",
    "print(len(test))"
   ]
  },
  {
   "cell_type": "code",
   "execution_count": 147,
   "metadata": {},
   "outputs": [
    {
     "data": {
      "text/plain": [
       "True"
      ]
     },
     "execution_count": 147,
     "metadata": {},
     "output_type": "execute_result"
    }
   ],
   "source": [
    "# Example 3: 1941. Check if All Characters Have Equal Number of Occurrences\n",
    "\n",
    "from collections import defaultdict\n",
    "\n",
    "def omg(s):\n",
    "    counts = defaultdict(int)\n",
    "\n",
    "    for i in s: # adding the frequency of each element into counts hashmap\n",
    "        counts[i] += 1\n",
    "\n",
    "    for key in counts:\n",
    "        if counts[s[0]] == counts[key]: # comparing the freq of first key with all others, if even one key does not match the\n",
    "                                        # the first, the condition is broken\n",
    "            continue\n",
    "        else:\n",
    "            return False\n",
    "    return True # if we got through the previous for loop then we know all the freq of the values are equal, thus true\n",
    "\n",
    "omg(\"abacbc\")\n"
   ]
  },
  {
   "cell_type": "code",
   "execution_count": null,
   "metadata": {},
   "outputs": [],
   "source": []
  }
 ],
 "metadata": {
  "kernelspec": {
   "display_name": "Python 3",
   "language": "python",
   "name": "python3"
  },
  "language_info": {
   "codemirror_mode": {
    "name": "ipython",
    "version": 3
   },
   "file_extension": ".py",
   "mimetype": "text/x-python",
   "name": "python",
   "nbconvert_exporter": "python",
   "pygments_lexer": "ipython3",
   "version": "3.8.3"
  },
  "orig_nbformat": 4
 },
 "nbformat": 4,
 "nbformat_minor": 2
}
