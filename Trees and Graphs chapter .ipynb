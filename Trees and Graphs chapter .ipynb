{
 "cells": [
  {
   "attachments": {},
   "cell_type": "markdown",
   "metadata": {},
   "source": [
    "# Trees and Graphs "
   ]
  },
  {
   "attachments": {},
   "cell_type": "markdown",
   "metadata": {},
   "source": [
    "Binary Trees "
   ]
  },
  {
   "cell_type": "code",
   "execution_count": 82,
   "metadata": {},
   "outputs": [],
   "source": [
    "# The nodes of a graph (and by extension, trees) are also called vertices, and the pointers that connect them are called edges. \n",
    "# In graphical representations, nodes/vertices are usually represented with circles and the edges are lines or arrows that\n",
    "# connect the circles (just like in linked lists).\n",
    "\n",
    "\n",
    "# This is the most fundamental idea for solving tree problems - you can take any given node and treat it as its own tree, \n",
    "# which allows you to solve problems in a recursive manner.\n",
    "\n"
   ]
  },
  {
   "cell_type": "code",
   "execution_count": 83,
   "metadata": {},
   "outputs": [],
   "source": [
    "# Creating a Tree Node\n",
    "\n",
    "class TreeNode:\n",
    "    def __init__(self, val, left, right):\n",
    "        self.val = val\n",
    "        self.left = left\n",
    "        self.right = right"
   ]
  },
  {
   "attachments": {},
   "cell_type": "markdown",
   "metadata": {},
   "source": [
    "Binary trees - DFS: Depth-first search (DFS)"
   ]
  },
  {
   "attachments": {},
   "cell_type": "markdown",
   "metadata": {},
   "source": [
    "DFS shown below with recursion idk how else one could do this. But it is suprisingly intuitive "
   ]
  },
  {
   "cell_type": "code",
   "execution_count": 84,
   "metadata": {},
   "outputs": [],
   "source": [
    "# DFS of Binary tree\n",
    "\n",
    "def dfs(node):\n",
    "    if node == None:\n",
    "        return\n",
    "\n",
    "    dfs(node.left)\n",
    "    dfs(node.right)"
   ]
  },
  {
   "attachments": {},
   "cell_type": "markdown",
   "metadata": {},
   "source": [
    "The good news is that the structure for performing a DFS is very similar across all problems. It goes as follows:\n",
    "\n",
    "- 1 Handle the base case(s), usually an empty tree (node = null) is a base case.\n",
    "- 2 Do some logic for the current node\n",
    "- 3 Recursively call on the current node's children\n",
    "- 4 Return the answer\n",
    "\n",
    "Steps 2 and 3 may happen in different orders as we will see."
   ]
  },
  {
   "attachments": {},
   "cell_type": "markdown",
   "metadata": {},
   "source": [
    "Preorder traversal\n",
    "\n",
    "In preorder traversal, logic is done on the current node before moving to the children. Let's say that we wanted to just print the value of each node in the tree to the console. In that case, at any given node, we would print the current node's value, then recursively call the left child, then recursively call the right child (or right then left, it doesn't matter, but left before right is more common)."
   ]
  },
  {
   "cell_type": "code",
   "execution_count": 85,
   "metadata": {},
   "outputs": [],
   "source": [
    "# does logic on curr node all the way down \n",
    "\n",
    "def preorder_dfs(node):\n",
    "    if not node:\n",
    "        return\n",
    "\n",
    "    print(node.val)\n",
    "    preorder_dfs(node.left)\n",
    "    preorder_dfs(node.right)\n"
   ]
  },
  {
   "attachments": {},
   "cell_type": "markdown",
   "metadata": {},
   "source": [
    "Inorder traversal\n",
    "\n",
    "For inorder traversal, we first recursively call the left child, then perform logic (print in thise case) on the current node, then recursively call the right child. This means no logic will be done until we reach a node without a left child since calling on the left child takes priority over performing logic.\n",
    "\n"
   ]
  },
  {
   "cell_type": "code",
   "execution_count": 86,
   "metadata": {},
   "outputs": [],
   "source": [
    "# does logic after travling down left side first(all the way down) \n",
    "\n",
    "def inorder_dfs(node):\n",
    "    if not node:\n",
    "        return\n",
    "\n",
    "    inorder_dfs(node.left)\n",
    "    print(node.val)\n",
    "    inorder_dfs(node.right)"
   ]
  },
  {
   "attachments": {},
   "cell_type": "markdown",
   "metadata": {},
   "source": [
    "Postorder traversal\n",
    "\n",
    "In postorder traversal, we recursively call on the children first and then perform logic on the current node. This means no logic will be done until we reach a leaf node since calling on the children takes priority over performing logic. In a postorder traversal, the root is the last node where logic is done."
   ]
  },
  {
   "cell_type": "code",
   "execution_count": 87,
   "metadata": {},
   "outputs": [],
   "source": [
    "# does logic from the leaves up\n",
    "\n",
    "def postorder_dfs(node):\n",
    "    if not node:\n",
    "        return\n",
    "\n",
    "    postorder_dfs(node.left)\n",
    "    postorder_dfs(node.right)\n",
    "    print(node.val)"
   ]
  },
  {
   "attachments": {},
   "cell_type": "markdown",
   "metadata": {},
   "source": [
    "Notice how the name of the traversal is describing when the current node's logic is performed.\n",
    "\n",
    "Pre -> before children\n",
    "\n",
    "In -> in the middle of children\n",
    "\n",
    "Post -> after children"
   ]
  },
  {
   "cell_type": "code",
   "execution_count": 88,
   "metadata": {},
   "outputs": [
    {
     "name": "stdout",
     "output_type": "stream",
     "text": [
      "3\n",
      "4\n",
      "1\n",
      "5\n",
      "6\n",
      "2\n",
      "0\n"
     ]
    }
   ],
   "source": [
    "# test out stuff here\n",
    "\n",
    "class TreeNode:\n",
    "    def __init__(self, val):\n",
    "        self.val = val\n",
    "        self.left = None\n",
    "        self.right = None\n",
    "\n",
    "\"\"\"\n",
    "The following code builds a tree that looks like:\n",
    "        0\n",
    "     /     \\\n",
    "    1       2\n",
    "  /   \\   /   \\\n",
    " 3    4   5    6\n",
    "\"\"\"\n",
    "\n",
    "root = TreeNode(0) # making verticies \n",
    "one = TreeNode(1)\n",
    "two = TreeNode(2)\n",
    "three = TreeNode(3)\n",
    "four = TreeNode(4)\n",
    "five = TreeNode(5)\n",
    "six = TreeNode(6)\n",
    "\n",
    "root.left = one     # making edges\n",
    "root.right = two\n",
    "root.left.left = three\n",
    "root.left.right = four\n",
    "root.right.left = five\n",
    "root.right.right = six\n",
    "\n",
    "# print(root.left.val)\n",
    "# print(root.right.val)\n",
    "\n",
    "# shows all the different DFS methods \n",
    "# preorder_dfs(root)\n",
    "# inorder_dfs(root)\n",
    "postorder_dfs(root)"
   ]
  },
  {
   "cell_type": "code",
   "execution_count": 89,
   "metadata": {},
   "outputs": [
    {
     "name": "stdout",
     "output_type": "stream",
     "text": [
      "3\n"
     ]
    }
   ],
   "source": [
    "# 104. Maximum Depth of Binary Tree\n",
    "# my attempt did not work I needed more foundation \n",
    "# if this does not make senes rewatch vid it makes all of it clear \n",
    "# beats 57% in time and 50% in space\n",
    "\n",
    "# Definition for a binary tree node.\n",
    "# class TreeNode:\n",
    "#     def __init__(self, val=0, left=None, right=None):\n",
    "#         self.val = val\n",
    "#         self.left = left\n",
    "#         self.right = right\n",
    "class Solution:\n",
    "    def maxDepth(self, root):\n",
    "        if not root:\n",
    "            return 0 \n",
    "        \n",
    "        left = self.maxDepth(root.left)\n",
    "        right = self.maxDepth(root.right)\n",
    "        return max(left, right) + 1\n",
    "\n",
    "A = Solution()\n",
    "B = A.maxDepth(root)\n",
    "print(B)"
   ]
  },
  {
   "attachments": {},
   "cell_type": "markdown",
   "metadata": {},
   "source": [
    "In the example you provided, the self keyword is necessary in the maxDepth() method because it allows you to create instances of the Solution class and access the instance variables and methods of those instances. This is essential for the recursion to work correctly, as each recursive call needs its own instance of the Solution class with its own set of instance variables."
   ]
  },
  {
   "cell_type": "code",
   "execution_count": 90,
   "metadata": {},
   "outputs": [
    {
     "name": "stdout",
     "output_type": "stream",
     "text": [
      "3\n"
     ]
    }
   ],
   "source": [
    "# you can also do it iterativly.\n",
    "\n",
    "# Definition for a binary tree node.\n",
    "# class TreeNode:\n",
    "#     def __init__(self, val=0, left=None, right=None):\n",
    "#         self.val = val\n",
    "#         self.left = left\n",
    "#         self.right = right\n",
    "class Solution:\n",
    "    def maxDepth(self, root):\n",
    "        if not root:\n",
    "            return 0\n",
    "        \n",
    "        stack = [(root, 1)]\n",
    "        ans = 0\n",
    "        \n",
    "        while stack:\n",
    "            node, depth = stack.pop()\n",
    "            ans = max(ans, depth)\n",
    "            if node.left:\n",
    "                stack.append((node.left, depth + 1))\n",
    "            if node.right:\n",
    "                stack.append((node.right, depth + 1))\n",
    "        \n",
    "        return ans\n",
    "    \n",
    "A = Solution()\n",
    "B = A.maxDepth(root)\n",
    "print(B)"
   ]
  },
  {
   "cell_type": "code",
   "execution_count": 91,
   "metadata": {},
   "outputs": [
    {
     "name": "stdout",
     "output_type": "stream",
     "text": [
      "3\n"
     ]
    }
   ],
   "source": [
    "# here is the max depth function from ealier COMPARE to below\n",
    "class Solution:\n",
    "    def maxDepth(self, root):\n",
    "        if not root:\n",
    "            return 0 \n",
    "        \n",
    "        left = self.maxDepth(root.left)\n",
    "        right = self.maxDepth(root.right)\n",
    "        return max(left, right) + 1\n",
    "\n",
    "A = Solution()\n",
    "B = A.maxDepth(root)\n",
    "print(B)"
   ]
  },
  {
   "cell_type": "code",
   "execution_count": 92,
   "metadata": {},
   "outputs": [
    {
     "name": "stdout",
     "output_type": "stream",
     "text": [
      "3\n"
     ]
    }
   ],
   "source": [
    "# here is how to do it without the self keyword and only using a helper method \n",
    "# this is the same style as the next problem. Chatbot says that it is preference to use a helper method or not.. idk about that \n",
    "# but lets run with that for now\n",
    "class Solution:\n",
    "    def maxDepth(self, root):\n",
    "        def dfs(node):\n",
    "            if not node:\n",
    "                return 0 \n",
    "        \n",
    "            left = dfs(node.left)\n",
    "            right = dfs(node.right)\n",
    "            return max(left, right) + 1\n",
    "        \n",
    "        return dfs(root)\n",
    "\n",
    "A = Solution()\n",
    "B = A.maxDepth(root)\n",
    "print(B)"
   ]
  },
  {
   "attachments": {},
   "cell_type": "markdown",
   "metadata": {},
   "source": [
    "# Note\n",
    "Leetcode themselves say that you should treat some of these functions as a black box and assume they work\n",
    "so i suppose that means just know them and use them as tools and dont worry too much if it does not make\n",
    "100% sense. I hate this tho so I will still try to understand them anyway..."
   ]
  },
  {
   "cell_type": "code",
   "execution_count": 93,
   "metadata": {},
   "outputs": [
    {
     "name": "stdout",
     "output_type": "stream",
     "text": [
      "True\n"
     ]
    }
   ],
   "source": [
    "# Example 2: 112. Path Sum\n",
    "# Given the root of a binary tree and an integer targetSum, return true if there is a path from the root to a leaf such that \n",
    "# the sum of the nodes on the path is equal to targetSum, and return false otherwise.\n",
    "\n",
    "class Solution:\n",
    "    def hasPathSum(self, root, targetSum):\n",
    "        def dfs(node, curr):\n",
    "            if not node: # checks obv bad case where tree is empty\n",
    "                return False\n",
    "            \n",
    "            # if both children are null, then the node is a leaf\n",
    "            if node.left == None and node.right == None:\n",
    "                return (curr + node.val) == targetSum # at the leaf we check if the path sum is the target\n",
    "            \n",
    "            curr += node.val\n",
    "            left = dfs(node.left, curr)         \n",
    "            right = dfs(node.right, curr)\n",
    "            return left or right\n",
    "        \n",
    "        return dfs(root, 0) # start with a sum of 0 since initially the root cannot be summed without a path\n",
    "                            # basically we start with 0 and count increases as we descend the tree\n",
    "A = Solution()\n",
    "B = A.hasPathSum(root, 4)\n",
    "print(B)"
   ]
  },
  {
   "attachments": {},
   "cell_type": "markdown",
   "metadata": {},
   "source": [
    "best one above"
   ]
  },
  {
   "cell_type": "code",
   "execution_count": 94,
   "metadata": {},
   "outputs": [
    {
     "name": "stdout",
     "output_type": "stream",
     "text": [
      "True\n"
     ]
    }
   ],
   "source": [
    "# Example 2: 112. Path Sum\n",
    "# chatbot made this to show you do not need a helper method and instead could use the self keyword\n",
    "\n",
    "class Solution:\n",
    "    def hasPathSum(self, root, targetSum):\n",
    "        if not root:\n",
    "            return False\n",
    "        \n",
    "        # if both children are null, then the node is a leaf\n",
    "        if not root.left and not root.right:\n",
    "            return root.val == targetSum\n",
    "        \n",
    "        targetSum -= root.val\n",
    "        left = self.hasPathSum(root.left, targetSum)\n",
    "        right = self.hasPathSum(root.right, targetSum)\n",
    "        return left or right\n",
    "A = Solution()\n",
    "B = A.hasPathSum(root, 4)\n",
    "print(B)"
   ]
  },
  {
   "cell_type": "code",
   "execution_count": 95,
   "metadata": {},
   "outputs": [],
   "source": [
    "# Iterative approach to the same problem (dont bother really recursive is better)\n",
    "class Solution:\n",
    "    def hasPathSum(self, root, targetSum):\n",
    "        if not root:\n",
    "            return False\n",
    "\n",
    "        stack = [(root, 0)]\n",
    "        while stack:\n",
    "            node, curr = stack.pop()\n",
    "            # if both children are null, then the node is a leaf\n",
    "            if node.left == None and node.right == None:\n",
    "                if (curr + node.val) == targetSum:\n",
    "                    return True\n",
    "\n",
    "            curr += node.val\n",
    "            if node.left:\n",
    "                stack.append((node.left, curr))\n",
    "            if node.right:\n",
    "                stack.append((node.right, curr))\n",
    "\n",
    "        return False"
   ]
  },
  {
   "cell_type": "code",
   "execution_count": 96,
   "metadata": {},
   "outputs": [
    {
     "name": "stdout",
     "output_type": "stream",
     "text": [
      "8\n"
     ]
    }
   ],
   "source": [
    "# NOT CORRECT BUT RIGHT TRACK LOOK BELOW THIS FOR OFFICIAL ANS\n",
    "# Example 3: 1448. Count Good Nodes in Binary Tree\n",
    "# Given the root of a binary tree, find the number of nodes that are good. A node is good if the path between the \n",
    "# root and the node has no nodes with a greater value.\n",
    "# my attempt (seems like i have the foundation for this)\n",
    "\n",
    "# add plus 1 to the end since root node is always good\n",
    "# have counter for num of good nodes\n",
    "# keep track of the prev node value use that to compare to curr node for determing \"good\" or \"bad\"\n",
    "class Solution:\n",
    "    def goodNodes(self, root):\n",
    "\n",
    "\n",
    "\n",
    "        if root.left == None and root.right == None: # case where tree is one node\n",
    "            return 1\n",
    "\n",
    "        def dfs(node, good, prev_node_val):\n",
    "\n",
    "            if not node:\n",
    "                return good\n",
    "\n",
    "            if node.left == None and node.right == None: # base case for leaves\n",
    "                return good\n",
    "            \n",
    "            if prev_node_val < node.val:\n",
    "                good += 1\n",
    "            \n",
    "            left = dfs(node.left, good, node.val)\n",
    "            right = dfs(node.right, good, node.val)\n",
    "            return left + right\n",
    "        return dfs(root, 0, float('-inf'))\n",
    "    \n",
    "A = Solution()\n",
    "B = A.goodNodes(root)\n",
    "print(B)"
   ]
  },
  {
   "cell_type": "code",
   "execution_count": 97,
   "metadata": {},
   "outputs": [
    {
     "name": "stdout",
     "output_type": "stream",
     "text": [
      "7\n"
     ]
    }
   ],
   "source": [
    "# Example 3: 1448. Count Good Nodes in Binary Tree\n",
    "# Given the root of a binary tree, find the number of nodes that are good. A node is good if the path between the \n",
    "# root and the node has no nodes with a greater value.\n",
    "# beats 34% in time and 80% in space\n",
    "\n",
    "class Solution:\n",
    "    def goodNodes(self, root: TreeNode) -> int:\n",
    "        def dfs(node, max_so_far): # we keep track of maxsofar to compare curr node.val to due to problem\n",
    "            if not node: # if we reach past a leaf return 0 since non leaves add nothing\n",
    "                return 0\n",
    "            \n",
    "            left = dfs(node.left, max(max_so_far, node.val))\n",
    "            right = dfs(node.right, max(max_so_far, node.val))\n",
    "            ans = left + right # ensures we get num of good nodes in left and right sub tree AND later get +1 for curr node if good\n",
    "            if node.val >= max_so_far: # problem defines good as when curr node val is greater than max so far in path\n",
    "                ans += 1\n",
    "\n",
    "            return ans\n",
    "\n",
    "        return dfs(root, float(\"-inf\")) # neg inf ensures first node is always good as required by problem\n",
    "A = Solution()\n",
    "B = A.goodNodes(root)\n",
    "print(B)"
   ]
  },
  {
   "cell_type": "code",
   "execution_count": 98,
   "metadata": {},
   "outputs": [],
   "source": [
    "# Iterative approach\n",
    "class Solution:\n",
    "    def goodNodes(self, root: TreeNode) -> int:\n",
    "        if not root:\n",
    "            return 0\n",
    "        \n",
    "        stack = [(root, float(\"-inf\"))]\n",
    "        ans = 0\n",
    "        \n",
    "        while stack:\n",
    "            node, max_so_far = stack.pop()\n",
    "            if node.val >= max_so_far:\n",
    "                ans += 1\n",
    "            \n",
    "            if node.left:\n",
    "                stack.append((node.left, max(max_so_far, node.val)))\n",
    "            if node.right:\n",
    "                stack.append((node.right, max(max_so_far, node.val)))\n",
    "        \n",
    "        return ans"
   ]
  },
  {
   "cell_type": "code",
   "execution_count": 99,
   "metadata": {},
   "outputs": [],
   "source": [
    "# 236. Lowest Common Ancestor of a Binary Tree\n",
    "# Given a binary tree, find the lowest common ancestor (LCA) of two given nodes in the tree.\n",
    "# According to the definition of LCA on Wikipedia: “The lowest common ancestor is defined between two nodes p and q as \n",
    "# the lowest node in T that has both p and q as descendants (where we allow a node to be a descendant of itself).”\n",
    "# below is my answer after geting help from the solution\n",
    "# beats 82% in time and 55% in space\n",
    "\n",
    "# Definition for a binary tree node.\n",
    "# class TreeNode:\n",
    "#     def __init__(self, x):\n",
    "#         self.val = x\n",
    "#         self.left = None\n",
    "#         self.right = None\n",
    "\n",
    "class Solution:\n",
    "    def lowestCommonAncestor(self, root: 'TreeNode', p: 'TreeNode', q: 'TreeNode') -> 'TreeNode':\n",
    "\n",
    "        if not root:    # edge case where we are given an empty tree\n",
    "            return None\n",
    "\n",
    "        if root == p or root == q: # if we find either p or q then we go back up tree\n",
    "            return root\n",
    "\n",
    "        left = self.lowestCommonAncestor(root.left, p, q)\n",
    "        right = self.lowestCommonAncestor(root.right, p, q)\n",
    "\n",
    "        if left and right: # if left and right subtree have found p and q then root is the LCA\n",
    "            return root\n",
    "\n",
    "        if left:            # if left has p and q it returns something whereas right is null thus LCA is left\n",
    "            return left\n",
    "\n",
    "        return right        # same as comment above but vice versa if only right returns non null then right is LCA "
   ]
  },
  {
   "attachments": {},
   "cell_type": "markdown",
   "metadata": {},
   "source": [
    "practice problems from course"
   ]
  },
  {
   "attachments": {},
   "cell_type": "markdown",
   "metadata": {},
   "source": [
    "# Note regarding helper functions and self keyword\n",
    "I figured out that we use a helper function dfs when we need to do recursion and want to add a new parameter that the \n",
    "to help solve the problem as we recurse. Sometimes a new parameter can help solve a problem and the given function in the \n",
    "question does not have that param.\n",
    "So if you think you need more params than the problem gives you: use a helper function. else: use OOP with self keyword\n",
    "\n",
    "ex in below problem I added the curr parameter to keep track of the curr depth for a node. the question does not give me this\n",
    "by default so a helper function with this param makes sense"
   ]
  },
  {
   "cell_type": "code",
   "execution_count": 110,
   "metadata": {},
   "outputs": [
    {
     "name": "stdout",
     "output_type": "stream",
     "text": [
      "3\n"
     ]
    }
   ],
   "source": [
    "# Minimum Depth of Binary Tree\n",
    "# Given a binary tree, find its minimum depth.\n",
    "# The minimum depth is the number of nodes along the shortest path from the root node down to the nearest leaf node.\n",
    "# Note: A leaf is a node with no children.\n",
    "# my attempt WORKS damn feels good man \n",
    "# beats 61% in time and 30% in space\n",
    "\n",
    "class Solution:\n",
    "    def minDepth(self, root):\n",
    "        if not root:    # case where we are given empty tree\n",
    "            return 0\n",
    "        \n",
    "        def dfs(node, curr):    \n",
    "            if not node: # if we are past a leaf return 0 which effectivly makes it not count\n",
    "                return 0\n",
    "            \n",
    "            if node.left == None and node.right == None: # when at a leaf return the curr depth count to find min later\n",
    "                return curr\n",
    "            \n",
    "            curr += 1   # increase curr depth count as we descend the tree\n",
    "            left = dfs(node.left, curr)\n",
    "            right = dfs(node.right, curr)\n",
    "\n",
    "            if not left:     # if left path is null then return whatever right had and keep looking\n",
    "                return right\n",
    "            if not right:\n",
    "                return left\n",
    "            return min(left, right) # once we finsih looking through left and right subtrees we want the min depth between both\n",
    "\n",
    "        return dfs(root, 1) # start curr depth count at 1 since root counts as depth 1\n",
    "\n",
    "A = Solution()\n",
    "B = A.minDepth(root)\n",
    "print(B)"
   ]
  },
  {
   "cell_type": "code",
   "execution_count": null,
   "metadata": {},
   "outputs": [],
   "source": [
    "# Example 3: 1448. Count Good Nodes in Binary Tree\n",
    "# Given the root of a binary tree, find the number of nodes that are good. A node is good if the path between the \n",
    "# root and the node has no nodes with a greater value.\n",
    "# beats 34% in time and 80% in space\n",
    "\n",
    "class Solution:\n",
    "    def goodNodes(self, root: TreeNode) -> int:\n",
    "        def dfs(node, max_so_far): # we keep track of maxsofar to compare curr node.val to due to problem\n",
    "            if not node: # if we reach past a leaf return 0 since non leaves add nothing\n",
    "                return 0\n",
    "            \n",
    "            left = dfs(node.left, max(max_so_far, node.val))\n",
    "            right = dfs(node.right, max(max_so_far, node.val))\n",
    "            ans = left + right # ensures we get num of good nodes in left and right sub tree AND later get +1 for curr node if good\n",
    "            if node.val >= max_so_far: # problem defines good as when curr node val is greater than max so far in path\n",
    "                ans += 1\n",
    "\n",
    "            return ans\n",
    "\n",
    "        return dfs(root, float(\"-inf\")) # neg inf ensures first node is always good as required by problem\n",
    "A = Solution()\n",
    "B = A.goodNodes(root)\n",
    "print(B)"
   ]
  },
  {
   "cell_type": "code",
   "execution_count": 125,
   "metadata": {},
   "outputs": [
    {
     "name": "stdout",
     "output_type": "stream",
     "text": [
      "inf\n"
     ]
    }
   ],
   "source": [
    "# Maximum Difference Between Node and Ancestor\n",
    "# Given the root of a binary tree, find the maximum value v for which there exist different nodes a and b where \n",
    "# v = |a.val - b.val| and a is an ancestor of b.\n",
    "# A node a is an ancestor of b if either: any child of a is equal to b or any child of a is an ancestor of b.\n",
    "# my attempt\n",
    "\n",
    "class Solution:\n",
    "    def maxAncestorDiff(self, root):\n",
    "\n",
    "        def dfs(node, max_so_far):\n",
    "            if not node:\n",
    "                return 0\n",
    "            \n",
    "            left = dfs(node.left, max(max_so_far, node.val))\n",
    "            right = dfs(node.right, max(max_so_far, node.val))\n",
    "\n",
    "            return max(abs(max_so_far - left), abs(max_so_far - right))\n",
    "        return dfs(root, float(\"-inf\"))\n",
    "\n",
    "A = Solution()\n",
    "B = A.maxAncestorDiff(root)\n",
    "print(B)\n",
    "        \n"
   ]
  }
 ],
 "metadata": {
  "kernelspec": {
   "display_name": "Python 3",
   "language": "python",
   "name": "python3"
  },
  "language_info": {
   "codemirror_mode": {
    "name": "ipython",
    "version": 3
   },
   "file_extension": ".py",
   "mimetype": "text/x-python",
   "name": "python",
   "nbconvert_exporter": "python",
   "pygments_lexer": "ipython3",
   "version": "3.8.3"
  },
  "orig_nbformat": 4
 },
 "nbformat": 4,
 "nbformat_minor": 2
}
