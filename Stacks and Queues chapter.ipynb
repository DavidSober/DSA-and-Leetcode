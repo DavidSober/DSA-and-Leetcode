{
 "cells": [
  {
   "attachments": {},
   "cell_type": "markdown",
   "metadata": {},
   "source": [
    "# Stacks and Queues "
   ]
  },
  {
   "attachments": {},
   "cell_type": "markdown",
   "metadata": {},
   "source": [
    "Another term used to describe stacks is LIFO, which stands for last in, first out. The last element placed inside is the first element to come out."
   ]
  },
  {
   "cell_type": "code",
   "execution_count": 51,
   "metadata": {},
   "outputs": [
    {
     "data": {
      "text/plain": [
       "False"
      ]
     },
     "execution_count": 51,
     "metadata": {},
     "output_type": "execute_result"
    }
   ],
   "source": [
    "# DOES NOT WORK\n",
    "# Example 1: 20. Valid Parentheses\n",
    "# my attempt\n",
    "# seems like stacks are a variation of a list... so i think this should be sort of ez IT WAS NOT\n",
    "# so this code does not work very well. it is sort of a brute force approach \n",
    "\n",
    "def validparenthesis(s):\n",
    "    stack = [s[0]]\n",
    "    for c in s:\n",
    "        if len(s) < 2: # throw out obvious false case\n",
    "            return False\n",
    "        \n",
    "        #if len(stack) < 2:\n",
    "        #    stack.append(c)\n",
    "        #    continue\n",
    "\n",
    "        #if c == ']' and stack[-1] == '[' or c == '}' and stack[-1] == '{' or c == ')' and stack[-1] == '(':\n",
    "        #    return True\n",
    "        if c == ']' and stack[-1] != '[' or c == '}' and stack[-1] != '{' or c == ')' and stack[-1] != '(':\n",
    "            return False\n",
    "        stack.append(c)\n",
    "\n",
    "    return True\n",
    "\n",
    "string = '{[]}'\n",
    "validparenthesis(string)\n"
   ]
  },
  {
   "cell_type": "code",
   "execution_count": 52,
   "metadata": {},
   "outputs": [
    {
     "data": {
      "text/plain": [
       "True"
      ]
     },
     "execution_count": 52,
     "metadata": {},
     "output_type": "execute_result"
    }
   ],
   "source": [
    "# Example 1: 20. Valid Parentheses\n",
    "# official answer\n",
    "\n",
    "def isValid(s):\n",
    "    stack = []\n",
    "    matching = {\"(\": \")\", \"[\": \"]\", \"{\": \"}\"} # creates a matching hash map.. this is smart \n",
    "    \n",
    "    for c in s:\n",
    "        if c in matching: # if c is an opening bracket. recall c is the key for matching\n",
    "            stack.append(c)\n",
    "        else:             # note that if c (key) is not in matching, it is a closing bracket\n",
    "            if not stack: # if stack is empty then obvious result is false\n",
    "                return False\n",
    "            \n",
    "            previous_opening = stack.pop() # grabs previous char\n",
    "            if matching[previous_opening] != c: # if none of the values (aka closing brackets) in matching are equal to c, \n",
    "                return False                    # then c is not a closing bracket. thus false. \n",
    "\n",
    "# watch vid if what Im about to say makes no sense: Each time we are popping values we remove them from the stack\n",
    "# if the stack has no values at the end of the algo then we had an even match for all opening and closing brackets\n",
    "# thus if stack is empty at the end we return True. If stack is not emppty then some backets were left unmatched\n",
    "# so 'not stack' means we return True if stack is empty and False if it contains something\n",
    "    return not stack  \n",
    "\n",
    "string = '([])'\n",
    "isValid(string)"
   ]
  },
  {
   "cell_type": "code",
   "execution_count": 53,
   "metadata": {},
   "outputs": [
    {
     "data": {
      "text/plain": [
       "False"
      ]
     },
     "execution_count": 53,
     "metadata": {},
     "output_type": "execute_result"
    }
   ],
   "source": [
    "# 20. Valid Parentheses\n",
    "# my recall beats 91% in time and 60% in space\n",
    "\n",
    "def isValid(s):\n",
    "\n",
    "    matching = {'(': ')', '[': ']', '{': '}'}\n",
    "    stack = []\n",
    "\n",
    "    if len(s) < 2:\n",
    "        return False\n",
    "\n",
    "    for c in s:\n",
    "\n",
    "        if c in matching: # if c in keys, c is an open bracket\n",
    "            stack.append(c)\n",
    "        else:\n",
    "            if not stack: # gets rid of obvious false case\n",
    "                return False\n",
    "            elif matching[stack.pop()] != c:\n",
    "                return False\n",
    "            \n",
    "    if not stack: # if the stack is empty we know we have a 1 to 1 match for all open and closed brackets\n",
    "        return True     # thus we retrun true since that is the success condition\n",
    "    else: \n",
    "        return False    # if there was a mismatch we return false\n",
    "\n",
    "\n",
    "s = \"((\"\n",
    "\n",
    "isValid(s)\n"
   ]
  },
  {
   "cell_type": "code",
   "execution_count": 54,
   "metadata": {},
   "outputs": [
    {
     "data": {
      "text/plain": [
       "'ay'"
      ]
     },
     "execution_count": 54,
     "metadata": {},
     "output_type": "execute_result"
    }
   ],
   "source": [
    "# 1047. Remove All Adjacent Duplicates In String\n",
    "# my attempt WORKS beats 34% in time and 75% in space before converting string into list \n",
    "\n",
    "def removeDuplicates(s):\n",
    "\n",
    "    stack = [s[0]] # to prevent out of range error\n",
    "\n",
    "    if len(s) < 2: # if len is too small there will be no dupes so return s\n",
    "        return s\n",
    "    \n",
    "    for i in range(1, len(s)):\n",
    "        \n",
    "        if not stack:           # if stack becomes empty we add another element to prevent out of range error with stack[-1]\n",
    "            stack.append(s[i])\n",
    "            continue\n",
    "\n",
    "        if stack[-1] == s[i]: # check top of stack and compare to current char if they equal pop and continue \n",
    "            stack.pop()\n",
    "            continue\n",
    "        \n",
    "        stack.append(s[i])\n",
    "\n",
    "    return \"\".join(stack) # answer needs to be in string format \n",
    "\n",
    "s = \"azxxzy\"\n",
    "removeDuplicates(s)"
   ]
  },
  {
   "cell_type": "code",
   "execution_count": 55,
   "metadata": {},
   "outputs": [
    {
     "data": {
      "text/plain": [
       "'ay'"
      ]
     },
     "execution_count": 55,
     "metadata": {},
     "output_type": "execute_result"
    }
   ],
   "source": [
    "# 1047. Remove All Adjacent Duplicates In String# \n",
    "# official solution beats 75% in time and 70-90% in space (lot of vairance for some reason)\n",
    "# Same as my solution except they got rid of one if statement by checking 'if stack'\n",
    "\n",
    "def removeDuplicates(s):\n",
    "    stack = []\n",
    "    for c in s:\n",
    "        if stack and stack[-1] == c: # if stack checks that stack is not empty. if it is we append this removes one if statement I had above\n",
    "            stack.pop()\n",
    "        else:\n",
    "            stack.append(c)\n",
    "    \n",
    "    return \"\".join(stack)\n",
    "    \n",
    "s = \"azxxzy\"\n",
    "removeDuplicates(s)"
   ]
  },
  {
   "cell_type": "code",
   "execution_count": 56,
   "metadata": {},
   "outputs": [
    {
     "data": {
      "text/plain": [
       "True"
      ]
     },
     "execution_count": 56,
     "metadata": {},
     "output_type": "execute_result"
    }
   ],
   "source": [
    "# Example 3: 844. Backspace String Compare\n",
    "# Given two strings s and t, return true if they are equal when both are typed into empty text editors. \n",
    "# '#' means a backspace character.\n",
    "# Note that after backspacing an empty text, the text will continue empty.\n",
    "# my attempt 45% time and 60% in space O(1) for both space and time since we are using stacks\n",
    "\n",
    "def backspaceCompare(s, t):\n",
    "\n",
    "    stack = []\n",
    "    for c in s:\n",
    "        if stack and c == '#': # if stack is not empty and char is # then we remove the top of stack\n",
    "            stack.pop()\n",
    "        elif c != '#':      # we never want to add '#' to stack since it represents a backspace. so all else but that is game\n",
    "            stack.append(c)\n",
    "    # we repeat the above code since O(n) + O(n) = O(n) \n",
    "    stacktwo = []\n",
    "    for c in t:\n",
    "        if stacktwo and c == '#':\n",
    "            stacktwo.pop()\n",
    "        elif c != '#':\n",
    "            stacktwo.append(c)\n",
    "\n",
    "            \n",
    "    # print(stack, stacktwo) # for debugging\n",
    "    if stack == stacktwo: # if they equal at the end we have a True since the question asks if s and t are ==\n",
    "        return True\n",
    "    else:\n",
    "        return False\n",
    "    \n",
    "s = \"y#fo##f\"\n",
    "t = \"y#f#o##f\"\n",
    "backspaceCompare(s, t)\n"
   ]
  },
  {
   "cell_type": "code",
   "execution_count": 57,
   "metadata": {},
   "outputs": [
    {
     "data": {
      "text/plain": [
       "True"
      ]
     },
     "execution_count": 57,
     "metadata": {},
     "output_type": "execute_result"
    }
   ],
   "source": [
    "# Example 3: 844. Backspace String Compare\n",
    "# official solution beats 60% in time and space so not much better than my solution tbh\n",
    "\n",
    "def backspaceCompare(s,t): # this more or less is what I wrote above but in a more elegant way with the method\n",
    "    def build(s):          # the method saves like 6 lines but whatever tbh\n",
    "        stack = []\n",
    "        for c in s:\n",
    "            if c != \"#\":\n",
    "                stack.append(c)\n",
    "            elif stack:\n",
    "                stack.pop()\n",
    "\n",
    "        return \"\".join(stack)\n",
    "\n",
    "    return build(s) == build(t)\n",
    "\n",
    "s = \"y#fo##f\"\n",
    "t = \"y#f#o##f\"\n",
    "backspaceCompare(s, t)"
   ]
  },
  {
   "cell_type": "code",
   "execution_count": 58,
   "metadata": {},
   "outputs": [
    {
     "data": {
      "text/plain": [
       "'/a./b../..c'"
      ]
     },
     "execution_count": 58,
     "metadata": {},
     "output_type": "execute_result"
    }
   ],
   "source": [
    "# Simplify Path\n",
    "# this looks extremely hard... i will try. the code did not work on all test cases. it did on about a quarter of them..\n",
    "\n",
    "def simplify_path(path):\n",
    "\n",
    "    stack = []\n",
    "    counter = 0\n",
    "    slashcount = 0\n",
    "    for c in path:\n",
    "        if c == '.':\n",
    "            counter += 1\n",
    "        elif c == '/': \n",
    "            slashcount += 1 \n",
    "\n",
    "\n",
    "        if c != '.' and counter == 2 and stack: #  and len(stack) > 1\n",
    "            counter = 0 # reset counter for later\n",
    "            stack.pop()\n",
    "            stack.pop()\n",
    "            stack.pop()\n",
    "            \n",
    "            if not stack:\n",
    "                stack.append('/')\n",
    "                #continue\n",
    "            \n",
    "            while stack[-1] != '/':\n",
    "                stack.pop()\n",
    "            continue\n",
    "\n",
    "            #print(slashcount)\n",
    "        elif slashcount > 1 and stack:\n",
    "                #print(';d')\n",
    "                slashcount = 0\n",
    "                continue\n",
    "        else: \n",
    "            stack.append(c)\n",
    "\n",
    "\n",
    "    if stack is None: # if stack gets deleted entirely just return home dir /\n",
    "        stack.append('/')\n",
    "    elif stack[-1] == '/' and stack and len(stack) > 1: # gets rid of trailing '/'\n",
    "        stack.pop()\n",
    "\n",
    "    return \"\".join(stack)\n",
    "\n",
    "path = \"/a/./b/../../c/\"\n",
    "simplify_path(path)\n"
   ]
  },
  {
   "cell_type": "code",
   "execution_count": 59,
   "metadata": {},
   "outputs": [
    {
     "name": "stdout",
     "output_type": "stream",
     "text": [
      "a/b/c/d\n"
     ]
    }
   ],
   "source": [
    "# apparently you can join lists with a delimiter as shown below\n",
    "stack = ['a','b','c','d']\n",
    "\n",
    "c = \"/\".join(stack)\n",
    "print(c)"
   ]
  },
  {
   "cell_type": "code",
   "execution_count": 60,
   "metadata": {},
   "outputs": [
    {
     "data": {
      "text/plain": [
       "'/..'"
      ]
     },
     "execution_count": 60,
     "metadata": {},
     "output_type": "execute_result"
    }
   ],
   "source": [
    "# Simplify Path\n",
    "# 2nd attempt with knowledge of the split() function\n",
    "\n",
    "def simplify_path(path):\n",
    "\n",
    "    stack = []\n",
    "    for name in path.split('/'): \n",
    "        \n",
    "        if name == '..' and stack: # this is my line which is different than official sol why does this break the code?\n",
    "            stack.pop()\n",
    "        elif name == '.' or not name: \n",
    "            continue\n",
    "        else:\n",
    "            stack.append(name)\n",
    "    \n",
    "    ans = \"/\".join(stack) \n",
    "\n",
    "    return '/' + ans\n",
    "\n",
    "path = \"/../\"\n",
    "simplify_path(path)"
   ]
  },
  {
   "cell_type": "code",
   "execution_count": 61,
   "metadata": {},
   "outputs": [
    {
     "data": {
      "text/plain": [
       "'/'"
      ]
     },
     "execution_count": 61,
     "metadata": {},
     "output_type": "execute_result"
    }
   ],
   "source": [
    "# Simplify Path\n",
    "# ALL I DID WAS CHANGE THE IF STATEMENT TO A NESTED IF STATEMENT WHY IS THAT NEEDED????\n",
    "# AND WHY DOES THE '..' STATEMENT COME BEFORE THE OTHER STATEMENTS WHY WHY \n",
    "# beats 77% in time and 30% in space\n",
    "\n",
    "def simplify_path(path):\n",
    "\n",
    "    stack = []\n",
    "    for name in path.split('/'): \n",
    "        \n",
    "        if name == '..': \n",
    "            if stack:       # WHY DO I NEED THIS FORMAT??????\n",
    "                stack.pop()\n",
    "        elif name == '.' or not name: \n",
    "            continue\n",
    "        else:\n",
    "            stack.append(name)\n",
    "    \n",
    "    ans = \"/\".join(stack) \n",
    "\n",
    "    return '/' + ans\n",
    "\n",
    "path = \"/../\"\n",
    "simplify_path(path)"
   ]
  },
  {
   "cell_type": "code",
   "execution_count": 62,
   "metadata": {},
   "outputs": [],
   "source": [
    "# Simplify Path\n",
    "# offical solution (same as mine above but diff names for stuff. i still dont know why i needed a nested if statement)\n",
    "class Solution:\n",
    "    def simplifyPath(self, path: str) -> str:\n",
    "\n",
    "        # Initialize a stack\n",
    "        stack = []\n",
    "\n",
    "        # Split the input string on \"/\" as the delimiter\n",
    "        # and process each portion one by one\n",
    "        for portion in path.split(\"/\"):\n",
    "\n",
    "            # If the current component is a \"..\", then\n",
    "            # we pop an entry from the stack if it's non-empty\n",
    "            if portion == \"..\":\n",
    "                if stack:\n",
    "                    stack.pop()\n",
    "            elif portion == \".\" or not portion:\n",
    "                # A no-op for a \".\" or an empty string\n",
    "                continue\n",
    "            else:\n",
    "                # Finally, a legitimate directory name, so we add it\n",
    "                # to our stack\n",
    "                stack.append(portion)\n",
    "\n",
    "        # Stich together all the directory names together\n",
    "        final_str = \"/\" + \"/\".join(stack)\n",
    "        return final_str"
   ]
  },
  {
   "cell_type": "code",
   "execution_count": 63,
   "metadata": {},
   "outputs": [
    {
     "name": "stdout",
     "output_type": "stream",
     "text": [
      "True\n",
      "True\n"
     ]
    }
   ],
   "source": [
    "# how to detect if a char is upper or lower case\n",
    "char = 'b'\n",
    "if char.islower():\n",
    "    print(True)\n",
    "\n",
    "char = 'B'\n",
    "if char.isupper():\n",
    "    print(True)"
   ]
  },
  {
   "cell_type": "code",
   "execution_count": 64,
   "metadata": {},
   "outputs": [
    {
     "data": {
      "text/plain": [
       "'leetcode'"
      ]
     },
     "execution_count": 64,
     "metadata": {},
     "output_type": "execute_result"
    }
   ],
   "source": [
    "# Make The String Great\n",
    "# my attempt WORKS  it beats 81% in time and 48% in space\n",
    "\n",
    "def making_great_string(s):\n",
    "\n",
    "    stack = []\n",
    "\n",
    "    for i in range(len(s)):\n",
    "        # if current char is lower and top of stack is the same char but upper we pop and move on. vice versa\n",
    "        if stack and s[i].islower() and stack[-1].isupper() and s[i] == stack[-1].lower():\n",
    "            stack.pop()\n",
    "            continue\n",
    "        elif stack and s[i].isupper() and stack[-1].islower() and s[i] == stack[-1].upper():\n",
    "            stack.pop()\n",
    "            continue\n",
    "        else:\n",
    "            stack.append(s[i])\n",
    "    return \"\".join(stack)\n",
    "\n",
    "s = \"leEeetcode\"\n",
    "making_great_string(s)"
   ]
  },
  {
   "cell_type": "code",
   "execution_count": 65,
   "metadata": {},
   "outputs": [],
   "source": [
    "# Make The String Great\n",
    "# official solution (it is kind of weird looking but same idea)\n",
    "class Solution:\n",
    "    def makeGood(self, s: str) -> str:\n",
    "        # Use stack to store the visited characters.\n",
    "        stack = []\n",
    "        \n",
    "        # Iterate over 's'.\n",
    "        for curr_char in list(s):\n",
    "            # If the current character make a pair with the last character in the stack,\n",
    "            # remove both of them. Otherwise, we add the current character to stack.\n",
    "            if stack and abs(ord(curr_char) - ord(stack[-1])) == 32:\n",
    "                stack.pop()\n",
    "            else:\n",
    "                stack.append(curr_char)\n",
    "        \n",
    "        # Returns the string concatenated by all characters left in the stack.\n",
    "        return \"\".join(stack)"
   ]
  },
  {
   "attachments": {},
   "cell_type": "markdown",
   "metadata": {},
   "source": [
    "# Queues"
   ]
  },
  {
   "cell_type": "code",
   "execution_count": 66,
   "metadata": {},
   "outputs": [],
   "source": [
    "# Adding to a queue (at the back) is called enqueue and deletions (at the front) are called dequeue.\n",
    "# One way to implement an efficient queue is using a doubly linked list. Recall that with a doubly linked list, \n",
    "# if you have the pointer to a node, you can add or delete at that location in \n",
    "# O(1). A doubly linked list that maintains pointers to the head and tail (both ends) can implement an efficient queue.\n",
    "\n",
    "# For algorithm problems, queues are less common than stacks, and the problems are generally more difficult\n",
    "# keep in mind that a queue is mostly used to implement BFS. breadth-first search (BFS) (will be in later chapter)"
   ]
  },
  {
   "cell_type": "code",
   "execution_count": 67,
   "metadata": {},
   "outputs": [
    {
     "name": "stdout",
     "output_type": "stream",
     "text": [
      "1\n",
      "2\n",
      "3\n",
      "Queue is empty!\n"
     ]
    }
   ],
   "source": [
    "# using a deque: double ended queue\n",
    "\n",
    "from collections import deque\n",
    "\n",
    "queue = deque()\n",
    "\n",
    "queue.append(1)\n",
    "queue.append(2)\n",
    "queue.append(3)\n",
    "\n",
    "while queue:\n",
    "    print(queue.popleft())\n",
    "    \n",
    "if not queue:\n",
    "    print(\"Queue is empty!\")"
   ]
  },
  {
   "cell_type": "code",
   "execution_count": 68,
   "metadata": {},
   "outputs": [],
   "source": [
    "# Example: 933. Number of Recent Calls\n",
    "# my attempt I opted not to since they did not teach me how to use the queue at all so the example did that\n",
    "# beats 84% in time and 16% in space \n",
    "\n",
    "\n",
    "# more info from problem des:\n",
    "# int ping(int t) Adds a new request at time t, where t represents some time in milliseconds, and returns the number \n",
    "# of requests that has happened in the past 3000 milliseconds (including the new request). Specifically, return the \n",
    "# number of requests that have happened in the inclusive range [t - 3000, t].\n",
    "\n",
    "from collections import deque\n",
    "\n",
    "class RecentCounter:\n",
    "    def __init__(self):\n",
    "        self.queue = deque() # initializes the queue\n",
    "\n",
    "    def ping(self, t: int) -> int:\n",
    "        while self.queue and self.queue[0] < t - 3000: # t - 3000 has to be greater than the oldest element in the queue\n",
    "            self.queue.popleft()                       # that ensures the condition [t - 3000, t]\n",
    "        \n",
    "        self.queue.append(t)\n",
    "        return len(self.queue)\n",
    "\n",
    "\n",
    "# Your RecentCounter object will be instantiated and called as such:\n",
    "# obj = RecentCounter()\n",
    "# param_1 = obj.ping(t)"
   ]
  },
  {
   "cell_type": "code",
   "execution_count": 69,
   "metadata": {},
   "outputs": [],
   "source": [
    "# Moving Average from Data Stream\n",
    "# Given a stream of integers and a window size, calculate the moving average of all integers in the sliding window.\n",
    "# my attempt WORKS beats 32% in time and 67% in space\n",
    "\n",
    "from collections import deque\n",
    "\n",
    "class MovingAverage:\n",
    "\n",
    "    def __init__(self, size: int):\n",
    "        self.queue = deque()\n",
    "        self.size = size \n",
    "\n",
    "    def next(self, val: int) -> float:\n",
    "        \n",
    "        self.queue.append(val)\n",
    "        while len(self.queue) > self.size: # if queue is bigger than size we pop oldest element from queue\n",
    "            self.queue.popleft()\n",
    "\n",
    "        # print((sum(self.queue) / len(self.queue)))\n",
    "        return (sum(self.queue) / len(self.queue)) # return average \n",
    "        \n",
    "\n",
    "\n",
    "# Your MovingAverage object will be instantiated and called as such:\n",
    "# obj = MovingAverage(size)\n",
    "# param_1 = obj.next(val)\n",
    "\n",
    "obj = MovingAverage(3)\n",
    "param_1 = obj.next(1)\n",
    "param_1 = obj.next(2)\n",
    "param_1 = obj.next(3)\n",
    "param_1 = obj.next(4) # seems to work"
   ]
  },
  {
   "cell_type": "code",
   "execution_count": 70,
   "metadata": {},
   "outputs": [],
   "source": [
    "# Moving Average from Data Stream\n",
    "# Offiical solution beats 90% in time and 98% in space\n",
    "# it is similar to mine but does not have a while loop \n",
    "\n",
    "from collections import deque\n",
    "class MovingAverage:\n",
    "    def __init__(self, size: int):\n",
    "        self.size = size\n",
    "        self.queue = deque()\n",
    "        # number of elements seen so far\n",
    "        self.window_sum = 0\n",
    "        self.count = 0\n",
    "\n",
    "    def next(self, val: int) -> float:\n",
    "        self.count += 1\n",
    "        # calculate the new sum by shifting the window\n",
    "        self.queue.append(val)\n",
    "        tail = self.queue.popleft() if self.count > self.size else 0\n",
    "\n",
    "        self.window_sum = self.window_sum - tail + val\n",
    "\n",
    "        return self.window_sum / min(self.size, self.count)"
   ]
  },
  {
   "attachments": {},
   "cell_type": "markdown",
   "metadata": {},
   "source": [
    "Monotonic"
   ]
  },
  {
   "cell_type": "code",
   "execution_count": 71,
   "metadata": {},
   "outputs": [],
   "source": [
    "# Note: if you're a beginner and struggle to grasp this article, don't be discouraged! \n",
    "# This is one of the most difficult concepts taught in this course. Good news is, the concept \n",
    "# is not super common in interviews, but still a good one to know.\n",
    "\n",
    "# Monotonic: (of a function or quantity) varying in such a way that it either never decreases or never increases.\n",
    "# A monotonic stack or queue is one whose elements are always sorted. "
   ]
  },
  {
   "cell_type": "code",
   "execution_count": 72,
   "metadata": {},
   "outputs": [],
   "source": [
    "# 739. Daily Temperatures\n",
    "# my attempt DNF: I realized that I did not have the right pattern to do this so I saw the vod\n",
    "\n",
    "def dailyTemperatures(temps):\n",
    "\n",
    "    stack = []\n",
    "    counter = 0\n",
    "    ans = []\n",
    "    for new in temps:\n",
    "        while stack and stack[-1] < new:\n",
    "            stack.pop()\n",
    "            counter += 1\n",
    "\n",
    "        ans.append(counter)\n",
    "        counter = 0\n"
   ]
  },
  {
   "cell_type": "code",
   "execution_count": 73,
   "metadata": {},
   "outputs": [
    {
     "data": {
      "text/plain": [
       "[1, 1, 4, 2, 1, 1, 0, 0]"
      ]
     },
     "execution_count": 73,
     "metadata": {},
     "output_type": "execute_result"
    }
   ],
   "source": [
    "# 739. Daily Temperatures\n",
    "# official solution \n",
    "\n",
    "\n",
    "def dailyTemperatures(temperatures):\n",
    "    stack = [] # we will store indexes here not elements \n",
    "    answer = [0] * len(temperatures) # see test below for more info \n",
    "    \n",
    "    for i in range(len(temperatures)):\n",
    "        while stack and temperatures[stack[-1]] < temperatures[i]: # while element from top of stack is less than curr element\n",
    "            j = stack.pop()     # if curr temp is smaller than \n",
    "            answer[j] = i - j # ans is the distance between the curr index i, and the last\n",
    "        stack.append(i)\n",
    "    \n",
    "    return answer\n",
    "\n",
    "\n",
    "\n",
    "\n",
    "temperatures = [73,74,75,71,69,72,76,73]\n",
    "dailyTemperatures(temperatures)"
   ]
  },
  {
   "cell_type": "code",
   "execution_count": 74,
   "metadata": {},
   "outputs": [
    {
     "name": "stdout",
     "output_type": "stream",
     "text": [
      "[0, 0, 0]\n",
      "[2, 2, 2]\n",
      "['anything', 'anything', 'anything', 'anything', 'anything']\n"
     ]
    }
   ],
   "source": [
    "# test to see why we multiply the following two as shown above\n",
    "# TLDR: the operation is getting the list [0] to dimensionally increase by a scalar of len(temperatures)\n",
    "# we do this do that the answer list is the ocrrect lenght, then all we have to do is update its indexes. no worries about len\n",
    "# alternativly you could do this :  my_list = list(0 for _ in range(3))     buut that is longer so nah\n",
    "\n",
    "# answer = [0] * len(temperatures)  why is this line there?\n",
    "\n",
    "test = [1,2,3]\n",
    "ans = [0] * len(test)\n",
    "print(ans)\n",
    "# seems like we did a scalar product between a scalar [0] and a vector [1,2,3]\n",
    "\n",
    "print([2] * len(test)) # no now it seems like we are expanding the list by the scalar amount in len()\n",
    "\n",
    "print(['anything'] * 5) # yup we are simply increasing the dimensions of the list by a scalar "
   ]
  },
  {
   "attachments": {},
   "cell_type": "markdown",
   "metadata": {},
   "source": [
    "# Monotonic"
   ]
  },
  {
   "attachments": {},
   "cell_type": "markdown",
   "metadata": {},
   "source": [
    "Monotonic pseudocode below dont bother running"
   ]
  },
  {
   "cell_type": "code",
   "execution_count": 75,
   "metadata": {},
   "outputs": [
    {
     "data": {
      "text/plain": [
       "'\"\\nMonotonic strucutre pseudocode here\\n\\nGiven an integer array nums\\n\\nstack = []\\nfor num in nums:\\n    while stack.length > 0 AND stack[top] >= num:\\n        stack.pop()\\n    // Between the above and below lines, do some logic depending on the problem\\n    stack.push(num)\\n'"
      ]
     },
     "execution_count": 75,
     "metadata": {},
     "output_type": "execute_result"
    }
   ],
   "source": [
    "\"\"\"\"\n",
    "Monotonic strucutre pseudocode here\n",
    "\n",
    "Given an integer array nums\n",
    "\n",
    "stack = []\n",
    "for num in nums:\n",
    "    while stack.length > 0 AND stack[top] >= num:\n",
    "        stack.pop()\n",
    "    // Between the above and below lines, do some logic depending on the problem\n",
    "    stack.push(num)\n",
    "\"\"\""
   ]
  },
  {
   "attachments": {},
   "cell_type": "markdown",
   "metadata": {},
   "source": [
    "Example 1: 739. Daily Temperatures\n",
    "\n",
    "Given an array of integers temperatures that represents the daily temperatures, return an array answer such that answer[i] is the number of days you have to wait after the ith day to get a warmer temperature. If there is no future day that is warmer, have answer[i] = 0 instead."
   ]
  },
  {
   "cell_type": "code",
   "execution_count": 78,
   "metadata": {},
   "outputs": [
    {
     "name": "stdout",
     "output_type": "stream",
     "text": [
      "[0, 0, 0, 0]\n"
     ]
    }
   ],
   "source": [
    "# Example 1: 739. Daily Temperatures\n",
    "# my approach WORKS BUT it is too slow :( TLE 31 / 48 passed slightly more efficient brute force did not work here\n",
    "# I put the test case that took too long on leetcode\n",
    "\n",
    "def dailyTemperatures(temperatures):\n",
    "    count = 0\n",
    "    for i in range(len(temperatures)):\n",
    "        if i == len(temperatures) - 1:\n",
    "            temperatures[i] = 0\n",
    "            break\n",
    "        for j in range(i, len(temperatures)):\n",
    "            if j == len(temperatures) - 1 and not (temperatures[i] < temperatures[j]):\n",
    "                temperatures[i] = 0\n",
    "                count = 0\n",
    "                continue\n",
    "            if i == j:\n",
    "                continue \n",
    "            count += 1\n",
    "            if temperatures[i] < temperatures[j]:\n",
    "                temperatures[i] = count\n",
    "                count = 0\n",
    "                break\n",
    "    return temperatures\n",
    "\n",
    "input = [47,47,47,47] # it was thousands of 47s\n",
    "\n",
    "print(dailyTemperatures(input))"
   ]
  },
  {
   "cell_type": "code",
   "execution_count": 77,
   "metadata": {},
   "outputs": [],
   "source": [
    "# Example 1: 739. Daily Temperatures\n",
    "# official ans using monotonoically decreasing stack see class section for more info\n",
    "\n",
    "def dailyTemperatures(temperatures):\n",
    "    stack = []\n",
    "    answer = [0] * len(temperatures) # since all elements are initially 0 we dont have to worry about making last element 0 \n",
    "                                     # last element should always be zero for this problem\n",
    "    for i in range(len(temperatures)):\n",
    "        while stack and temperatures[stack[-1]] < temperatures[i]: # if monotonically decreasing stack is broken \n",
    "            j = stack.pop()    # we continuosly pop elements in order to restore the decreasing order\n",
    "            answer[j] = i - j  # the delta of the curr element and popped element is the days delta between old temp and warmer temp\n",
    "        stack.append(i)  # if monotonoicllly decreasing stack is preserved we just add the next element to stack\n",
    "    \n",
    "    return answer"
   ]
  },
  {
   "attachments": {},
   "cell_type": "markdown",
   "metadata": {},
   "source": [
    "my approach TLE for the hard question"
   ]
  },
  {
   "cell_type": "code",
   "execution_count": null,
   "metadata": {},
   "outputs": [],
   "source": [
    "# 239. Sliding Window Maximum\n",
    "# my approach works but TLE for large nums and ks\n",
    "# we need something more efficient probably mono\n",
    "\n",
    "def maxSlidingWindow(nums, k):\n",
    "    ans = []\n",
    "    left = 0\n",
    "    right = k - 1\n",
    "    while right < len(nums):\n",
    "        temp = float('-inf')\n",
    "        for i in range(left, right + 1):\n",
    "            temp = max(temp, nums[i])\n",
    "        \n",
    "        ans.append(temp)\n",
    "        left += 1\n",
    "        right += 1\n",
    "    return ans\n",
    "\n",
    "nums = [1,3,-1,-3,5,3,6,7]\n",
    "k = 3\n",
    "maxSlidingWindow(nums, k)"
   ]
  },
  {
   "attachments": {},
   "cell_type": "markdown",
   "metadata": {},
   "source": [
    "with help from solution implemented mono deque\n",
    "- remove elements that are mono but not in window using first if statement below\n",
    "- start adding left most (greatest/maximum) elements to ans after passing k elements (after window is \"made\") in second if statement\n",
    "- while loop keeps the typical mono stack logic one would expect. aka leftmost element is greatest in descending order"
   ]
  },
  {
   "cell_type": "code",
   "execution_count": 5,
   "metadata": {},
   "outputs": [
    {
     "data": {
      "text/plain": [
       "[3, 3, 5, 5, 6, 7]"
      ]
     },
     "execution_count": 5,
     "metadata": {},
     "output_type": "execute_result"
    }
   ],
   "source": [
    "# 239. Sliding Window Maximum\n",
    "# help from official solution beats 78% in time and 82% in space\n",
    "\n",
    "from collections import deque\n",
    "class Solution:\n",
    "    def maxSlidingWindow(self, nums: List[int], k: int) -> List[int]:\n",
    "\n",
    "        ans = []\n",
    "        queue = deque()\n",
    "\n",
    "        for i in range(len(nums)):\n",
    "\n",
    "            while queue and nums[queue[-1]] < nums[i]:\n",
    "                queue.pop()\n",
    "            \n",
    "            queue.append(i)\n",
    "            if queue[0] < i - k + 1: # if largest element is no longer in sliding window\n",
    "                queue.popleft()\n",
    "\n",
    "            if i >= k - 1:\n",
    "                ans.append(nums[queue[0]])\n",
    "\n",
    "        return ans"
   ]
  },
  {
   "attachments": {},
   "cell_type": "markdown",
   "metadata": {},
   "source": [
    "my code TLEed again after passing vast majority of test cases...\n",
    "I guess this is why we need mono"
   ]
  },
  {
   "cell_type": "code",
   "execution_count": null,
   "metadata": {},
   "outputs": [],
   "source": [
    "# 1438. Longest Continuous Subarray With Absolute Diff Less Than or Equal to Limit\n",
    "# my attempt works but TLE after 90% of test cases...\n",
    "\n",
    "def longestSubarray(nums, limit):\n",
    "\n",
    "    left = 0\n",
    "    right = 0\n",
    "    ans = 0\n",
    "    for left in range(len(nums)):\n",
    "        right = left\n",
    "        mini = nums[left]\n",
    "        maxa = nums[left]\n",
    "        while abs(maxa - mini) <= limit: #  and right < len(nums)\n",
    "\n",
    "            # print(nums[left], nums[right], abs(maxa - mini))\n",
    "            ans = max(ans, right - left + 1) \n",
    "            right += 1   \n",
    "            if not(right < len(nums)):\n",
    "                break \n",
    "            mini = min(mini, nums[right])\n",
    "            maxa = max(maxa, nums[right])\n",
    "        #print(ans)\n",
    "    return ans   \n",
    "        \n",
    "nums = [8,2,4,7]\n",
    "limit = 4\n",
    "longestSubarray(nums, limit)\n",
    "\n"
   ]
  },
  {
   "cell_type": "code",
   "execution_count": null,
   "metadata": {},
   "outputs": [],
   "source": []
  }
 ],
 "metadata": {
  "kernelspec": {
   "display_name": "Python 3",
   "language": "python",
   "name": "python3"
  },
  "language_info": {
   "codemirror_mode": {
    "name": "ipython",
    "version": 3
   },
   "file_extension": ".py",
   "mimetype": "text/x-python",
   "name": "python",
   "nbconvert_exporter": "python",
   "pygments_lexer": "ipython3",
   "version": "3.8.3"
  },
  "orig_nbformat": 4
 },
 "nbformat": 4,
 "nbformat_minor": 2
}
