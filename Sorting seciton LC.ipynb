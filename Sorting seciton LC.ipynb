{
 "cells": [
  {
   "attachments": {},
   "cell_type": "markdown",
   "metadata": {},
   "source": [
    "# Sorting card "
   ]
  },
  {
   "attachments": {},
   "cell_type": "markdown",
   "metadata": {},
   "source": [
    "sorting based on len of word "
   ]
  },
  {
   "cell_type": "code",
   "execution_count": 1,
   "metadata": {},
   "outputs": [
    {
     "name": "stdout",
     "output_type": "stream",
     "text": [
      "['we', 'are', 'hello', 'world', 'sorting', 'learning']\n"
     ]
    }
   ],
   "source": [
    "test = [ \"hello\", \"world\", \"we\", 'are', 'learning', 'sorting']\n",
    "\n",
    "lensorted = [i for i in sorted(test, key=lambda x: len(x))]\n",
    "print(lensorted)"
   ]
  },
  {
   "attachments": {},
   "cell_type": "markdown",
   "metadata": {},
   "source": [
    "sorting based off num of vowels in word "
   ]
  },
  {
   "cell_type": "code",
   "execution_count": 3,
   "metadata": {},
   "outputs": [
    {
     "name": "stdout",
     "output_type": "stream",
     "text": [
      "['world', 'we', 'hello', 'are', 'sorting', 'learning']\n"
     ]
    },
    {
     "data": {
      "text/plain": [
       "2"
      ]
     },
     "execution_count": 3,
     "metadata": {},
     "output_type": "execute_result"
    }
   ],
   "source": [
    "test = [ \"hello\", \"world\", \"we\", 'are', 'learning', 'sorting']\n",
    "def countVowels(string):\n",
    "    vowels = set(['a', 'e', 'i', 'o', 'u'])\n",
    "    count = 0\n",
    "    for i in string:\n",
    "        if i in vowels:\n",
    "            count += 1\n",
    "    return count\n",
    "\n",
    "Vowelsorted = [i for i in sorted(test, key=lambda x: countVowels(x))]\n",
    "print(Vowelsorted)\n",
    "\n",
    "countVowels('hello')"
   ]
  },
  {
   "attachments": {},
   "cell_type": "markdown",
   "metadata": {},
   "source": [
    "a more concise way by gpt3"
   ]
  },
  {
   "cell_type": "code",
   "execution_count": 4,
   "metadata": {},
   "outputs": [
    {
     "name": "stdout",
     "output_type": "stream",
     "text": [
      "['world', 'we', 'hello', 'are', 'sorting', 'learning']\n"
     ]
    }
   ],
   "source": [
    "words = [\"hello\", \"world\", \"we\", 'are', 'learning', 'sorting']\n",
    "\n",
    "def count_vowels(word):\n",
    "    return sum([1 for char in word if char.lower() in 'aeiou'])\n",
    "\n",
    "sorted_words = sorted(words, key=count_vowels)\n",
    "\n",
    "print(sorted_words)\n"
   ]
  },
  {
   "attachments": {},
   "cell_type": "markdown",
   "metadata": {},
   "source": [
    "## inversions\n",
    "\n",
    "An important concept in sorting is inversions. An inversion in a sequence is defined as a pair of elements that are out of order with respect to the ordering relation. To understand this idea better, let's consider our earlier string example, where the ordering relation was defined by the length of the string:\n",
    "\n",
    "[“are”, “we”, “sorting”, “hello”, “world”, “learning”]\n",
    "[“are”, “we”, “sorting”, “hello”, “world”, “learning”]\n",
    "\n",
    "Clearly, the above list is not sorted according to the lengths of strings, but what if you had to define a metric for how “out of sort” it was? Inversions provide a way to define that. In the above unsorted list, we have the following inversions:\n",
    "\n",
    "(“are”, “we”)\n",
    "(“are”, “we”), \n",
    "(“sorting”, “hello”)\n",
    "(“sorting”, “hello”), and \n",
    "(“sorting”, “world”)\n",
    "(“sorting”, “world”)\n",
    "\n",
    "The more inversions present, the more out of order the list is. In fact, the concept of inversions introduces an alternative definition of sorting: Given a sequence of elements with n inversions, a sorting algorithm is a sequence of operations that reduces inversions to 0."
   ]
  },
  {
   "attachments": {},
   "cell_type": "markdown",
   "metadata": {},
   "source": [
    "## stability \n",
    "of sorting algorithms. The key feature of a stable sorting algorithm is that it will preserve the order of equal elements. In our earlier string example with the string length ordering comparison, our original sequence was \n",
    "[“hello”, “world”, “we”, “are”, “learning, “sorting”]\n",
    "[“hello”, “world”, “we”, “are”, “learning, “sorting”]\n",
    "\n",
    "There are two valid sorts for this sequence:\n",
    "\n",
    "[“we”, “are”, “hello”, “world”, “sorting”, “learning”]\n",
    "[“we”, “are”, “hello”, “world”, “sorting”, “learning”]\n",
    "[“we”, “are”, “world”, “hello”, “sorting”, “learning”]\n",
    "[“we”, “are”, “world”, “hello”, “sorting”, “learning”]\n",
    "We consider (1) to be a stable sort since the equal elements “hello” and “world” are kept in the same relative order as the original sequence."
   ]
  },
  {
   "attachments": {},
   "cell_type": "markdown",
   "metadata": {},
   "source": [
    "selection sort O(N^2) time and constant space comp. so it is not that great"
   ]
  },
  {
   "cell_type": "code",
   "execution_count": 6,
   "metadata": {},
   "outputs": [],
   "source": [
    "class Solution:\n",
    "    def sortColors(nums):\n",
    "\n",
    "        for i in range(len(nums)):\n",
    "            min_index = i\n",
    "            for j in range(i + 1, len(nums)):\n",
    "                # Update minimum index\n",
    "                if nums[j] < nums[min_index]:\n",
    "                    min_index = j\n",
    "\n",
    "            # Swap current index with minimum element in rest of list\n",
    "            nums[min_index], nums[i] = nums[i], nums[min_index]"
   ]
  },
  {
   "attachments": {},
   "cell_type": "markdown",
   "metadata": {},
   "source": [
    "## Bubble Sort\n",
    "Report Issue\n",
    "Conceptually, bubble sort is an implementation of a rather simple idea. Suppose we have a collection of integers that we want to sort in ascending order. Bubble sort proceeds to consider two adjacent elements at a time. If these two adjacent elements are out of order (in this case, the left element is strictly greater than the right element), bubble sort will swap them. It then proceeds to the next pair of adjacent elements. In the first pass of bubble sort, it will process every set of adjacent elements in the collection once, making swaps as necessary. The core idea of bubble sort is it will repeat this process until no more swaps are made in a single pass, which means the list is sorted."
   ]
  },
  {
   "cell_type": "code",
   "execution_count": 5,
   "metadata": {},
   "outputs": [
    {
     "name": "stdout",
     "output_type": "stream",
     "text": [
      "[1, 3, 3, 4, 9, 65]\n"
     ]
    }
   ],
   "source": [
    "def bubblesort(nums):\n",
    "    has_swapped = True\n",
    "    while has_swapped: # if no swap has occured nums is sorted\n",
    "        has_swapped = False\n",
    "        for i in range(len(nums) - 1):\n",
    "            if nums[i] > nums[i + 1]:\n",
    "                nums[i], nums[i + 1] = nums[i + 1], nums[i]\n",
    "                has_swapped = True\n",
    "    return nums\n",
    "\n",
    "nums = [3,4,1,9,65,3]\n",
    "print(bubblesort(nums))"
   ]
  },
  {
   "attachments": {},
   "cell_type": "markdown",
   "metadata": {},
   "source": [
    "## Insertion Sort"
   ]
  },
  {
   "cell_type": "code",
   "execution_count": 8,
   "metadata": {},
   "outputs": [],
   "source": [
    "class Solution:\n",
    "    def insertion_sort(lst):\n",
    "        \"\"\"\n",
    "        Mutates elements in lst by inserting out of place elements into appropriate\n",
    "        index repeatedly until lst is sorted\n",
    "        \"\"\"\n",
    "        for i in range(1, len(lst)):\n",
    "            current_index = i\n",
    "\n",
    "            while current_index > 0 and lst[current_index - 1] > lst[current_index]:\n",
    "                # Swap elements that are out of order\n",
    "                lst[current_index], lst[current_index - 1] = lst[current_index - 1], lst[current_index]\n",
    "                current_index -= 1"
   ]
  }
 ],
 "metadata": {
  "kernelspec": {
   "display_name": "Python 3",
   "language": "python",
   "name": "python3"
  },
  "language_info": {
   "codemirror_mode": {
    "name": "ipython",
    "version": 3
   },
   "file_extension": ".py",
   "mimetype": "text/x-python",
   "name": "python",
   "nbconvert_exporter": "python",
   "pygments_lexer": "ipython3",
   "version": "3.8.3"
  },
  "orig_nbformat": 4
 },
 "nbformat": 4,
 "nbformat_minor": 2
}
