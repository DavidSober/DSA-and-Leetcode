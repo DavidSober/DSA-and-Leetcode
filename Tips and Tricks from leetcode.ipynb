{
 "cells": [
  {
   "cell_type": "code",
   "execution_count": null,
   "metadata": {},
   "outputs": [],
   "source": [
    "# O(n) --> O(1) string building\n",
    "# python normally takes O(n) to build a string when you concactinate bc it has to do: newstr = str + 1\n",
    "# which means all items have to be copied just to add one new item \n",
    "# here is how you avoid that\n",
    "\n",
    "def build_string(s):\n",
    "    arr = [] \n",
    "    for c in s:\n",
    "        arr.append(c)\n",
    "\n",
    "    return \"\".join(arr) # converts list back to string \n",
    "\n",
    "# this uses arr as a list that will contain all new characters in your string\n",
    "# you do whatever logic you were going to do on a string but you do it to a list arr instead \n",
    "# Then at the end you convert the list back to a string "
   ]
  },
  {
   "attachments": {},
   "cell_type": "markdown",
   "metadata": {},
   "source": [
    "Bitwise operator that can give you the difference between two sets"
   ]
  },
  {
   "cell_type": "code",
   "execution_count": 2,
   "metadata": {},
   "outputs": [
    {
     "data": {
      "text/plain": [
       "[5, 6]"
      ]
     },
     "execution_count": 2,
     "metadata": {},
     "output_type": "execute_result"
    }
   ],
   "source": [
    "# expected output for input \n",
    "# Input: nums = [4,3,2,7,8,2,3,1]\n",
    "# Output: [5,6]\n",
    "def findDisappearedNumbers(nums):\n",
    "    n = len(nums)\n",
    "    pot = [i for i in range(1, n + 1)]\n",
    "\n",
    "    nums_set = set(nums)\n",
    "    pot_set = set(pot)\n",
    "    diff = pot_set ^ nums_set # here we can take the diff between elements in both sets and assign to a new set\n",
    "    return list(diff)\n",
    "\n",
    "nums = [4,3,2,7,8,2,3,1]\n",
    "findDisappearedNumbers(nums)"
   ]
  },
  {
   "cell_type": "code",
   "execution_count": 1,
   "metadata": {},
   "outputs": [
    {
     "data": {
      "text/plain": [
       "[5, 6]"
      ]
     },
     "execution_count": 1,
     "metadata": {},
     "output_type": "execute_result"
    }
   ],
   "source": [
    "# faster method than above (does not take advantage of the concept tho)\n",
    "def findDisappearedNumbers(nums):\n",
    "    n = len(nums)\n",
    "    nums_set = set(nums)\n",
    "    missing = []\n",
    "    for i in range(1, n + 1):\n",
    "        if i not in nums_set:\n",
    "            missing.append(i)\n",
    "    return missing  \n",
    "nums = [4,3,2,7,8,2,3,1]\n",
    "findDisappearedNumbers(nums)"
   ]
  },
  {
   "attachments": {},
   "cell_type": "markdown",
   "metadata": {},
   "source": [
    "get columns for a matrix fast "
   ]
  },
  {
   "cell_type": "code",
   "execution_count": 1,
   "metadata": {},
   "outputs": [
    {
     "name": "stdout",
     "output_type": "stream",
     "text": [
      "(1, 4, 7)\n",
      "(2, 5, 8)\n",
      "(3, 6, 9)\n"
     ]
    }
   ],
   "source": [
    "# fast way to access columns for a matrix\n",
    "matrix = [[1, 2, 3],\n",
    "          [4, 5, 6],\n",
    "          [7, 8, 9]]\n",
    "\n",
    "# iterate through the columns of the matrix\n",
    "for i in zip(*matrix):\n",
    "    print(i)"
   ]
  }
 ],
 "metadata": {
  "kernelspec": {
   "display_name": "Python 3",
   "language": "python",
   "name": "python3"
  },
  "language_info": {
   "codemirror_mode": {
    "name": "ipython",
    "version": 3
   },
   "file_extension": ".py",
   "mimetype": "text/x-python",
   "name": "python",
   "nbconvert_exporter": "python",
   "pygments_lexer": "ipython3",
   "version": "3.8.3"
  },
  "orig_nbformat": 4
 },
 "nbformat": 4,
 "nbformat_minor": 2
}
