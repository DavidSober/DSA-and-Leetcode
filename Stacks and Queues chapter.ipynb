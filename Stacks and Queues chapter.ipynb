{
 "cells": [
  {
   "attachments": {},
   "cell_type": "markdown",
   "metadata": {},
   "source": [
    "# Stacks and Queues "
   ]
  },
  {
   "attachments": {},
   "cell_type": "markdown",
   "metadata": {},
   "source": [
    "Another term used to describe stacks is LIFO, which stands for last in, first out. The last element placed inside is the first element to come out."
   ]
  },
  {
   "cell_type": "code",
   "execution_count": 38,
   "metadata": {},
   "outputs": [
    {
     "data": {
      "text/plain": [
       "False"
      ]
     },
     "execution_count": 38,
     "metadata": {},
     "output_type": "execute_result"
    }
   ],
   "source": [
    "# DOES NOT WORK\n",
    "# Example 1: 20. Valid Parentheses\n",
    "# my attempt\n",
    "# seems like stacks are a variation of a list... so i think this should be sort of ez IT WAS NOT\n",
    "# so this code does not work very well. it is sort of a brute force approach \n",
    "\n",
    "def validparenthesis(s):\n",
    "    stack = [s[0]]\n",
    "    for c in s:\n",
    "        if len(s) < 2: # throw out obvious false case\n",
    "            return False\n",
    "        \n",
    "        #if len(stack) < 2:\n",
    "        #    stack.append(c)\n",
    "        #    continue\n",
    "\n",
    "        #if c == ']' and stack[-1] == '[' or c == '}' and stack[-1] == '{' or c == ')' and stack[-1] == '(':\n",
    "        #    return True\n",
    "        if c == ']' and stack[-1] != '[' or c == '}' and stack[-1] != '{' or c == ')' and stack[-1] != '(':\n",
    "            return False\n",
    "        stack.append(c)\n",
    "\n",
    "    return True\n",
    "\n",
    "string = '{[]}'\n",
    "validparenthesis(string)\n"
   ]
  },
  {
   "cell_type": "code",
   "execution_count": null,
   "metadata": {},
   "outputs": [],
   "source": [
    "# Example 1: 20. Valid Parentheses\n",
    "\n"
   ]
  }
 ],
 "metadata": {
  "kernelspec": {
   "display_name": "Python 3",
   "language": "python",
   "name": "python3"
  },
  "language_info": {
   "codemirror_mode": {
    "name": "ipython",
    "version": 3
   },
   "file_extension": ".py",
   "mimetype": "text/x-python",
   "name": "python",
   "nbconvert_exporter": "python",
   "pygments_lexer": "ipython3",
   "version": "3.8.3"
  },
  "orig_nbformat": 4
 },
 "nbformat": 4,
 "nbformat_minor": 2
}
