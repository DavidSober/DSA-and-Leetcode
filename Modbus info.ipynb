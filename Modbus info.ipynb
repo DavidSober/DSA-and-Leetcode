{
 "cells": [
  {
   "cell_type": "markdown",
   "metadata": {},
   "source": [
    "# Modbus class analysis "
   ]
  },
  {
   "cell_type": "code",
   "execution_count": null,
   "metadata": {},
   "outputs": [],
   "source": [
    "# sends out registers with high and low byte\n",
    "def sendDiagnostic(self, register_address, data):\n",
    "    function_code = 8\n",
    "    # length of data\n",
    "    length = 2\n",
    "    # add values to structure\n",
    "    packet = pack('>BBHBi', self.address, function_code, register_address, length, data)\n",
    "    # calculate the crc based upon incoming data\n",
    "    crc = self.calculateCRC(packet)\n",
    "    # add bytes to end of packet\n",
    "    packet += crc\n",
    "    # write packet to serial\n",
    "    self.ser.write(packet)\n",
    "    # set the last requested address to the register address\n",
    "    self.lastRequestedAddress = register_address\n"
   ]
  },
  {
   "cell_type": "markdown",
   "metadata": {},
   "source": [
    "function code 8:\n",
    "- used to send diagnostics \"08 (0x08) Diagnostics (Serial Line only)\"\n",
    "- seems to be used for sending something over serial..\n",
    "\n",
    "pack\n",
    "- from struc lib\n",
    "- packs non byte data into bytes \n",
    "- first arg '>BBHBi' is the string format. \n",
    "- there is a table that shows what chars correspond to each format\n",
    "- in this case. \n",
    "    - '>' is big-endian and '<' is little-endian, according to chat: When '>' (big-endian) is used, it means that the most significant byte (the \"big end\") of the data is placed at the lowest memory address.\n",
    "When '<' (little-endian) is used, it means that the least significant byte (the \"little end\") of the data is placed at the lowest memory address. (look into this more later)\n",
    "    - B = unsigned char,  \n",
    "    - H = unsigned short\n",
    "    - i = int\n",
    "\n",
    "crc\n",
    "- calculates the checksum, used to determine if data is corrupt, if the crc is wrong your messaeg will not be read by driver\n",
    "- we add the crc to the end of the packet\n",
    "\n",
    "ser.write\n",
    "- serial write the packet\n",
    "\n",
    "self.lastRequestedAddress = register_address\n",
    "- we save the last address we requested from the motor driver, for some later use...\n",
    "\n",
    "\n",
    "\n",
    "\n",
    "- remaining questions: how does one find what format you need? It is probably in the data sheet but still. \n",
    "- generally how does one go about putting the packet together? is it really just see what is being sent by the motor driver software with a serial monitor and reverse engineer it?\n",
    "\n",
    "\n",
    "\n",
    "\n"
   ]
  },
  {
   "cell_type": "code",
   "execution_count": null,
   "metadata": {},
   "outputs": [],
   "source": [
    "# sends out registers with 1 byte\n",
    "def sendSingle(self, register_address, data):\n",
    "    # the modbus packet function code\n",
    "    function_code = 6\n",
    "    # length of data\n",
    "    length = 2\n",
    "    # add values to structure\n",
    "    packet = pack('>BBHH', self.address, function_code, register_address, data)\n",
    "    # calculate the crc based upon incoming data\n",
    "    crc = self.calculateCRC(packet)\n",
    "    # add bytes to end of packet\n",
    "    packet += crc\n",
    "    # write packet to serial\n",
    "    self.ser.write(packet)\n",
    "    # set the last requested address to the register address\n",
    "    self.lastRequestedAddress = register_address\n"
   ]
  },
  {
   "cell_type": "markdown",
   "metadata": {},
   "source": [
    "function code 6 \n",
    "- just means write a single holding register with a new value\n",
    "\n",
    "\n",
    "- remaining questiions:\n",
    "- how does one know if you need to write a single register with a new value vs sending a diagnostic? "
   ]
  },
  {
   "cell_type": "code",
   "execution_count": null,
   "metadata": {},
   "outputs": [],
   "source": [
    "def readRegister(self, register_address):\n",
    "    # the modbus packet function code\n",
    "    function_code = 3\n",
    "    # length of data\n",
    "    length = 2\n",
    "    # add values to structure\n",
    "    packet = pack('>BBHH', self.address, function_code, register_address, length)\n",
    "    # calculate the crc based upon incoming data\n",
    "    crc = self.calculateCRC(packet)\n",
    "    # add bytes to end of packet\n",
    "    packet += crc\n",
    "    # write packet to serial\n",
    "    self.ser.write(packet)\n",
    "    # set the last requested address to the register address\n",
    "    self.lastRequestedAddress = register_address\n"
   ]
  },
  {
   "cell_type": "markdown",
   "metadata": {},
   "source": [
    "function code 3\n",
    "- code 3 = \"read holding register\"\n",
    "- holding register = 16 bit register that you can read or write to. \n",
    "- the rest of this function is similar to the previous two, only diff is the function code, the pack format, and the addresses\n",
    "\n",
    "\n",
    "- questions\n",
    "- do we really just use the saleae to find the addresses we need to write to? "
   ]
  },
  {
   "cell_type": "code",
   "execution_count": null,
   "metadata": {},
   "outputs": [],
   "source": [
    "# calculates crcs for modbus packets\n",
    "def calculateCRC(self, data):\n",
    "    crc16 = crcmod.mkCrcFun(0x18005, rev=True, initCrc=0xFFFF, xorOut=0x0000)\n",
    "    crc_value = crc16(data)\n",
    "    return crc_value.to_bytes(2, byteorder='little')  # Use 'little' byte order\n"
   ]
  },
  {
   "cell_type": "markdown",
   "metadata": {},
   "source": [
    "calculatingCRC uses some algo to calc, \n",
    "\n",
    "- questions\n",
    "- how does one find out what args are needed for the crcmod.mkCrcF()?\n",
    "\n"
   ]
  },
  {
   "cell_type": "code",
   "execution_count": null,
   "metadata": {},
   "outputs": [],
   "source": [
    "# returns a single byte if data is in the rx buffer\n",
    "def readByte(self):\n",
    "    if self.ser.is_open:\n",
    "        if self.ser.in_waiting > 0:\n",
    "            # if there is waiting the be read add it into the local software buffer\n",
    "            readByte = self.ser.read(size=1)\n",
    "            self.serialBuffer.append(readByte)\n",
    "            return readByte\n",
    "    return False\n"
   ]
  },
  {
   "cell_type": "markdown",
   "metadata": {},
   "source": [
    "in_waiting\n",
    "- gets the number of bytes in the input buffer\n",
    "\n",
    "read\n",
    "- of course reads from ser, size=1 is just one byte to read\n",
    "\n",
    "serialbuffer\n",
    "- this is a varin the constructor of this class and is not related to modbus lib\n",
    "- however we are still using it to add bytes we read into it as a buffer\n",
    "\n",
    "\n",
    "\n",
    "\n"
   ]
  },
  {
   "cell_type": "code",
   "execution_count": null,
   "metadata": {},
   "outputs": [],
   "source": [
    "\n",
    "def processPackets(self):\n",
    "    '''call this as often as possible to process incoming \n",
    "    packets from the serial buffer.  Will return true if a packet was \n",
    "    routed'''\n",
    "\n",
    "    # calling this, processes incoming bytes into a local buffer\n",
    "    self.readByte()\n",
    "\n",
    "    # only check for a valid packet if data is in the buffer\n",
    "    if len(self.serialBuffer) >= 2:\n",
    "\n",
    "        # fetch the first byte in the serial buffer\n",
    "        address_in = unpack('B', self.serialBuffer[0])[0]\n",
    "\n",
    "        # get the function code\n",
    "        function_code = unpack('B', self.serialBuffer[1])[0]\n",
    "\n",
    "        # set the packet length based upon function code\n",
    "        returnPacketLength = 0\n",
    "        if function_code == 8:\n",
    "            returnPacketLength = 11\n",
    "        elif function_code == 3:\n",
    "            returnPacketLength = 9\n",
    "        elif function_code == 6:\n",
    "            returnPacketLength = 9\n",
    "\n",
    "        # check to see if the first byte is the start character '$'\n",
    "        if address_in != self.address:\n",
    "            print(\"Bad Address:\", self.serialBuffer[0])\n",
    "            # if packet is not valid remove data from buffer\n",
    "            del self.serialBuffer[0]\n",
    "\n",
    "        # if address of packet was present look for a length byte\n",
    "        elif len(self.serialBuffer) >= returnPacketLength:\n",
    "            # get the length\n",
    "            length = unpack('B', self.serialBuffer[2])[0]\n",
    "            # get the address\n",
    "            registerAddress = unpack('>H', b''.join(self.serialBuffer[3:5]))[0]\n",
    "            # get the data\n",
    "            self.rx_data = unpack('>i', b''.join(self.serialBuffer[3:7]))[0]\n",
    "            # get the crc\n",
    "            crc = unpack('<H', b''.join(self.serialBuffer[returnPacketLength - 2:returnPacketLength]))[0]\n",
    "\n",
    "            # calculate the CRC based upon the packet data\n",
    "            calculated_crc = self.calculateCRC(b''.join(self.serialBuffer[0:returnPacketLength - 2]))\n",
    "            # convert calculated crc to int\n",
    "            calculated_crc = unpack('<H', calculated_crc)[0]\n",
    "\n",
    "            if MOD_BUS_DEBUG == True:\n",
    "                print(\"-------------------\")\n",
    "                print(\"Modbus - Packet Bytes: \", self.serialBuffer[0:returnPacketLength])\n",
    "                print(\"Modbus - Total Bytes In Buffer: \", len(self.serialBuffer))\n",
    "                print(\"Modbus - Function Code: \", function_code)\n",
    "                print(\"Modbus - Register Address: \", registerAddress)\n",
    "                print(\"Modbus - Length Byte: \", length)\n",
    "                print(\"Modbus - Data Payload: \", self.rx_data)\n",
    "                print(\"Modbus - CRC: \", crc)\n",
    "                print(\"Modbus - Calculated CRC: \", calculated_crc)\n",
    "\n",
    "            if calculated_crc == crc:\n",
    "                # remove packet from buffer\n",
    "                del self.serialBuffer[0:returnPacketLength]\n",
    "\n",
    "                # return true if there is a packet to read\n",
    "                return True\n",
    "            # if it was a bad crc delete the packet without routing the payload\n",
    "            else:\n",
    "                del self.serialBuffer[0:returnPacketLength]\n",
    "                print(\"bad crc %i\" % calculated_crc)\n",
    "\n",
    "    # return false if there is no packet to read\n",
    "    return False\n"
   ]
  },
  {
   "cell_type": "markdown",
   "metadata": {},
   "source": [
    "- ok we start by calling our read byte function makes sense\n",
    "- if the buffer is >= 2 we care, a single byte is not a valid packet. makes sense, even a small packet will have at elast two bytes, the data and the crc.\n",
    " "
   ]
  },
  {
   "cell_type": "code",
   "execution_count": null,
   "metadata": {},
   "outputs": [],
   "source": [
    "# fetch the first byte in the serial buffer\n",
    "    address_in = unpack('B', self.serialBuffer[0])[0]"
   ]
  },
  {
   "cell_type": "markdown",
   "metadata": {},
   "source": [
    "unpack\n",
    "- part of struc of course\n",
    "- 'B' is unsigned char\n",
    "- we pass in the first byte from the serial buffer so that we can unpack it.\n",
    "- the result is a list where the first el is the address, and the second el is the function code  hence the following line \n",
    "\n",
    "function_code = unpack('B', self.serialBuffer[1])[0]"
   ]
  },
  {
   "cell_type": "code",
   "execution_count": null,
   "metadata": {},
   "outputs": [],
   "source": [
    "# set the packet length based upon function code\n",
    "    returnPacketLength = 0\n",
    "    if function_code == 8:\n",
    "        returnPacketLength = 11\n",
    "    elif function_code == 3:\n",
    "        returnPacketLength = 9\n",
    "    elif function_code == 6:\n",
    "        returnPacketLength = 9\n"
   ]
  },
  {
   "cell_type": "markdown",
   "metadata": {},
   "source": [
    "- so we see 3 possible function codes, 8, 3, 6 which are the codes we saw above\n",
    "- different lengths explained by gemini: \" different Modbus function codes have different response packet structures and data lengths.\" it basically says use the modbus org to see what length you need...\n",
    "\n",
    "- questions:\n",
    "- not sure about the return packet length, as in, why is it a different int and how do we figure out that len"
   ]
  },
  {
   "cell_type": "code",
   "execution_count": null,
   "metadata": {},
   "outputs": [],
   "source": [
    "# check to see if the first byte is the start character '$'\n",
    "if address_in != self.address:\n",
    "    print(\"Bad Address:\", self.serialBuffer[0])\n",
    "    # if packet is not valid remove data from buffer\n",
    "    del self.serialBuffer[0]\n"
   ]
  },
  {
   "cell_type": "markdown",
   "metadata": {},
   "source": [
    "- pretty straightforward, self.address is the ID of our lift motor, so if the ID is not that of our lift motor then the packet is 100% broken since we are only talking to one motor."
   ]
  },
  {
   "cell_type": "code",
   "execution_count": null,
   "metadata": {},
   "outputs": [],
   "source": [
    "\n",
    "    # if address of packet was present look for a length byte\n",
    "    elif len(self.serialBuffer) >= returnPacketLength:\n",
    "        # get the length\n",
    "        length = unpack('B', self.serialBuffer[2])[0]\n",
    "        # get the address\n",
    "        registerAddress = unpack('>H', b''.join(self.serialBuffer[3:5]))[0]\n",
    "        # get the data\n",
    "        self.rx_data = unpack('>i', b''.join(self.serialBuffer[3:7]))[0]\n",
    "        # get the crc\n",
    "        crc = unpack('<H', b''.join(self.serialBuffer[returnPacketLength - 2:returnPacketLength]))[0]\n",
    "\n",
    "        # calculate the CRC based upon the packet data\n",
    "        calculated_crc = self.calculateCRC(b''.join(self.serialBuffer[0:returnPacketLength - 2]))\n",
    "        # convert calculated crc to int\n",
    "        calculated_crc = unpack('<H', calculated_crc)[0]\n",
    "\n",
    "        if MOD_BUS_DEBUG == True:\n",
    "            print(\"-------------------\")\n",
    "            print(\"Modbus - Packet Bytes: \", self.serialBuffer[0:returnPacketLength])\n",
    "            print(\"Modbus - Total Bytes In Buffer: \", len(self.serialBuffer))\n",
    "            print(\"Modbus - Function Code: \", function_code)\n",
    "            print(\"Modbus - Register Address: \", registerAddress)\n",
    "            print(\"Modbus - Length Byte: \", length)\n",
    "            print(\"Modbus - Data Payload: \", self.rx_data)\n",
    "            print(\"Modbus - CRC: \", crc)\n",
    "            print(\"Modbus - Calculated CRC: \", calculated_crc)\n",
    "\n",
    "        if calculated_crc == crc:\n",
    "            # remove packet from buffer\n",
    "            del self.serialBuffer[0:returnPacketLength]\n",
    "\n",
    "            # return true if there is a packet to read\n",
    "            return True\n",
    "        # if it was a bad crc delete the packet without routing the payload\n",
    "        else:\n",
    "            del self.serialBuffer[0:returnPacketLength]\n",
    "            print(\"bad crc %i\" % calculated_crc)\n",
    "\n",
    "# return false if there is no packet to read\n",
    "    return False"
   ]
  },
  {
   "cell_type": "markdown",
   "metadata": {},
   "source": [
    "\n",
    "- we get the len, address, data, and crc from the valid message\n",
    "- we calculate the crc so that we can compare the calculated crc with the read crc\n",
    "- if calc != read, we have an invalid message\n",
    "- then there are debug messages that can help you see what is in the message\n",
    "\n",
    "- questions\n",
    "- why does this need to be true \"len(self.serialBuffer) >= returnPacketLength\"\n"
   ]
  },
  {
   "cell_type": "code",
   "execution_count": null,
   "metadata": {},
   "outputs": [],
   "source": [
    "if calculated_crc == crc:\n",
    "    # remove packet from buffer\n",
    "    del self.serialBuffer[0:returnPacketLength]\n",
    "\n",
    "    # return true if there is a packet to read\n",
    "    return True\n",
    "# if it was a bad crc delete the packet without routing the payload\n",
    "else:\n",
    "    del self.serialBuffer[0:returnPacketLength]\n",
    "    print(\"bad crc %i\" % calculated_crc)\n"
   ]
  },
  {
   "cell_type": "markdown",
   "metadata": {},
   "source": [
    "now we get to the good part\n",
    "- \"if calculated_crc == crc\" this checks if the packet was valid, if it is not we del it from the buffer and print that it was a bad crc makes perfect sense\n",
    "- using 'del' on a list is something i somehow have not seen til now. i used pop.\n",
    "- del is better since it removes things in place and you can remove slices.\n",
    "- the reason we have 'returnPacketLength' is because it is used for the upper limit on the slice we will perform to remove the received packet from the buffer\n"
   ]
  }
 ],
 "metadata": {
  "kernelspec": {
   "display_name": "Python 3",
   "language": "python",
   "name": "python3"
  },
  "language_info": {
   "name": "python",
   "version": "3.12.0"
  }
 },
 "nbformat": 4,
 "nbformat_minor": 2
}
