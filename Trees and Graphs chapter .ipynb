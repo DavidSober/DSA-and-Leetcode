{
 "cells": [
  {
   "attachments": {},
   "cell_type": "markdown",
   "metadata": {},
   "source": [
    "# Trees and Graphs "
   ]
  },
  {
   "attachments": {},
   "cell_type": "markdown",
   "metadata": {},
   "source": [
    "Binary Trees "
   ]
  },
  {
   "cell_type": "code",
   "execution_count": null,
   "metadata": {},
   "outputs": [],
   "source": [
    "# The nodes of a graph (and by extension, trees) are also called vertices, and the pointers that connect them are called edges. \n",
    "# In graphical representations, nodes/vertices are usually represented with circles and the edges are lines or arrows that\n",
    "# connect the circles (just like in linked lists).\n",
    "\n",
    "\n",
    "# This is the most fundamental idea for solving tree problems - you can take any given node and treat it as its own tree, \n",
    "# which allows you to solve problems in a recursive manner.\n",
    "\n"
   ]
  },
  {
   "cell_type": "code",
   "execution_count": null,
   "metadata": {},
   "outputs": [],
   "source": [
    "# Creating a Tree Node\n",
    "\n",
    "class TreeNode:\n",
    "    def __init__(self, val, left, right):\n",
    "        self.val = val\n",
    "        self.left = left\n",
    "        self.right = right"
   ]
  },
  {
   "attachments": {},
   "cell_type": "markdown",
   "metadata": {},
   "source": [
    "Binary trees - DFS: Depth-first search (DFS)"
   ]
  },
  {
   "attachments": {},
   "cell_type": "markdown",
   "metadata": {},
   "source": [
    "DFS shown below with recursion idk how else one could do this. But it is suprisingly intuitive "
   ]
  },
  {
   "cell_type": "code",
   "execution_count": 2,
   "metadata": {},
   "outputs": [],
   "source": [
    "# DFS of Binary tree\n",
    "\n",
    "def dfs(node):\n",
    "    if node == None:\n",
    "        return\n",
    "\n",
    "    dfs(node.left)\n",
    "    dfs(node.right)"
   ]
  },
  {
   "attachments": {},
   "cell_type": "markdown",
   "metadata": {},
   "source": [
    "The good news is that the structure for performing a DFS is very similar across all problems. It goes as follows:\n",
    "\n",
    "- 1 Handle the base case(s), usually an empty tree (node = null) is a base case.\n",
    "- 2 Do some logic for the current node\n",
    "- 3 Recursively call on the current node's children\n",
    "- 4 Return the answer\n",
    "\n",
    "Steps 2 and 3 may happen in different orders as we will see."
   ]
  },
  {
   "attachments": {},
   "cell_type": "markdown",
   "metadata": {},
   "source": [
    "Preorder traversal\n",
    "\n",
    "In preorder traversal, logic is done on the current node before moving to the children. Let's say that we wanted to just print the value of each node in the tree to the console. In that case, at any given node, we would print the current node's value, then recursively call the left child, then recursively call the right child (or right then left, it doesn't matter, but left before right is more common)."
   ]
  },
  {
   "cell_type": "code",
   "execution_count": 4,
   "metadata": {},
   "outputs": [],
   "source": [
    "# does logic on curr node all the way down \n",
    "\n",
    "def preorder_dfs(node):\n",
    "    if not node:\n",
    "        return\n",
    "\n",
    "    print(node.val)\n",
    "    preorder_dfs(node.left)\n",
    "    preorder_dfs(node.right)\n"
   ]
  },
  {
   "attachments": {},
   "cell_type": "markdown",
   "metadata": {},
   "source": [
    "Inorder traversal\n",
    "\n",
    "For inorder traversal, we first recursively call the left child, then perform logic (print in thise case) on the current node, then recursively call the right child. This means no logic will be done until we reach a node without a left child since calling on the left child takes priority over performing logic.\n",
    "\n"
   ]
  },
  {
   "cell_type": "code",
   "execution_count": null,
   "metadata": {},
   "outputs": [],
   "source": [
    "# does logic after travling down left side first(all the way down) \n",
    "\n",
    "def inorder_dfs(node):\n",
    "    if not node:\n",
    "        return\n",
    "\n",
    "    inorder_dfs(node.left)\n",
    "    print(node.val)\n",
    "    inorder_dfs(node.right)"
   ]
  },
  {
   "attachments": {},
   "cell_type": "markdown",
   "metadata": {},
   "source": [
    "Postorder traversal\n",
    "\n",
    "In postorder traversal, we recursively call on the children first and then perform logic on the current node. This means no logic will be done until we reach a leaf node since calling on the children takes priority over performing logic. In a postorder traversal, the root is the last node where logic is done."
   ]
  },
  {
   "cell_type": "code",
   "execution_count": null,
   "metadata": {},
   "outputs": [],
   "source": [
    "# does logic from the leaves up\n",
    "\n",
    "def postorder_dfs(node):\n",
    "    if not node:\n",
    "        return\n",
    "\n",
    "    postorder_dfs(node.left)\n",
    "    postorder_dfs(node.right)\n",
    "    print(node.val)"
   ]
  },
  {
   "attachments": {},
   "cell_type": "markdown",
   "metadata": {},
   "source": [
    "Notice how the name of the traversal is describing when the current node's logic is performed.\n",
    "\n",
    "Pre -> before children\n",
    "\n",
    "In -> in the middle of children\n",
    "\n",
    "Post -> after children"
   ]
  },
  {
   "cell_type": "code",
   "execution_count": 2,
   "metadata": {},
   "outputs": [
    {
     "name": "stdout",
     "output_type": "stream",
     "text": [
      "1\n",
      "2\n"
     ]
    }
   ],
   "source": [
    "# test out stuff here\n",
    "\n",
    "class TreeNode:\n",
    "    def __init__(self, val):\n",
    "        self.val = val\n",
    "        self.left = None\n",
    "        self.right = None\n",
    "\n",
    "\"\"\"\n",
    "The following code builds a tree that looks like:\n",
    "    0\n",
    "  /   \\\n",
    " 1     2\n",
    "\"\"\"\n",
    "\n",
    "root = TreeNode(0)\n",
    "one = TreeNode(1)\n",
    "two = TreeNode(2)\n",
    "\n",
    "root.left = one\n",
    "root.right = two\n",
    "\n",
    "print(root.left.val)\n",
    "print(root.right.val)"
   ]
  }
 ],
 "metadata": {
  "kernelspec": {
   "display_name": "Python 3",
   "language": "python",
   "name": "python3"
  },
  "language_info": {
   "codemirror_mode": {
    "name": "ipython",
    "version": 3
   },
   "file_extension": ".py",
   "mimetype": "text/x-python",
   "name": "python",
   "nbconvert_exporter": "python",
   "pygments_lexer": "ipython3",
   "version": "3.8.3"
  },
  "orig_nbformat": 4
 },
 "nbformat": 4,
 "nbformat_minor": 2
}
