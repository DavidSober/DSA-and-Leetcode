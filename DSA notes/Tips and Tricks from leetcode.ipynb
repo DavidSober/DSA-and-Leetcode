{
 "cells": [
  {
   "cell_type": "code",
   "execution_count": null,
   "metadata": {},
   "outputs": [],
   "source": [
    "# O(n) --> O(1) string building\n",
    "# python normally takes O(n) to build a string when you concactinate bc it has to do: newstr = str + 1\n",
    "# which means all items have to be copied just to add one new item \n",
    "# here is how you avoid that\n",
    "\n",
    "def build_string(s):\n",
    "    arr = [] \n",
    "    for c in s:\n",
    "        arr.append(c)\n",
    "\n",
    "    return \"\".join(arr) # converts list back to string \n",
    "\n",
    "# this uses arr as a list that will contain all new characters in your string\n",
    "# you do whatever logic you were going to do on a string but you do it to a list arr instead \n",
    "# Then at the end you convert the list back to a string "
   ]
  },
  {
   "attachments": {},
   "cell_type": "markdown",
   "metadata": {},
   "source": [
    "Bitwise operator that can give you the difference between two sets"
   ]
  },
  {
   "cell_type": "code",
   "execution_count": 2,
   "metadata": {},
   "outputs": [
    {
     "data": {
      "text/plain": [
       "[5, 6]"
      ]
     },
     "execution_count": 2,
     "metadata": {},
     "output_type": "execute_result"
    }
   ],
   "source": [
    "# expected output for input \n",
    "# Input: nums = [4,3,2,7,8,2,3,1]\n",
    "# Output: [5,6]\n",
    "def findDisappearedNumbers(nums):\n",
    "    n = len(nums)\n",
    "    pot = [i for i in range(1, n + 1)]\n",
    "\n",
    "    nums_set = set(nums)\n",
    "    pot_set = set(pot)\n",
    "    diff = pot_set ^ nums_set # here we can take the diff between elements in both sets and assign to a new set\n",
    "    return list(diff)\n",
    "\n",
    "nums = [4,3,2,7,8,2,3,1]\n",
    "findDisappearedNumbers(nums)"
   ]
  },
  {
   "cell_type": "code",
   "execution_count": 1,
   "metadata": {},
   "outputs": [
    {
     "data": {
      "text/plain": [
       "[5, 6]"
      ]
     },
     "execution_count": 1,
     "metadata": {},
     "output_type": "execute_result"
    }
   ],
   "source": [
    "# faster method than above (does not take advantage of the concept tho)\n",
    "def findDisappearedNumbers(nums):\n",
    "    n = len(nums)\n",
    "    nums_set = set(nums)\n",
    "    missing = []\n",
    "    for i in range(1, n + 1):\n",
    "        if i not in nums_set:\n",
    "            missing.append(i)\n",
    "    return missing  \n",
    "nums = [4,3,2,7,8,2,3,1]\n",
    "findDisappearedNumbers(nums)"
   ]
  },
  {
   "attachments": {},
   "cell_type": "markdown",
   "metadata": {},
   "source": [
    "get columns for a matrix fast "
   ]
  },
  {
   "cell_type": "code",
   "execution_count": 1,
   "metadata": {},
   "outputs": [
    {
     "name": "stdout",
     "output_type": "stream",
     "text": [
      "(1, 4, 7)\n",
      "(2, 5, 8)\n",
      "(3, 6, 9)\n"
     ]
    }
   ],
   "source": [
    "# fast way to access columns for a matrix\n",
    "matrix = [[1, 2, 3],\n",
    "          [4, 5, 6],\n",
    "          [7, 8, 9]]\n",
    "\n",
    "# iterate through the columns of the matrix\n",
    "for i in zip(*matrix):\n",
    "    print(i)"
   ]
  },
  {
   "attachments": {},
   "cell_type": "markdown",
   "metadata": {},
   "source": [
    "## Yield and Yield from keywords "
   ]
  },
  {
   "attachments": {},
   "cell_type": "markdown",
   "metadata": {},
   "source": [
    "GPT3: Yes, you are correct. When a function uses the yield keyword, it becomes a generator function. The yield keyword is what allows the function to produce a sequence of values one at a time, rather than producing a single return value and exiting like a regular function.\n",
    "\n",
    "In this case, dfs is a generator function because it uses yield to produce a sequence of leaf node values. When the yield keyword is encountered in the function, the current value is sent to the caller, but the function's state is saved so that it can resume from where it left off the next time it is called.\n",
    "\n",
    "So when dfs is called, it generates the first leaf node value and then pauses until the next value is requested. It then generates the next value, pauses again, and so on, until there are no more leaf nodes to generate. This is why we can use yield from to delegate part of the generation process to another generator function, because dfs itself is already a generator function."
   ]
  },
  {
   "cell_type": "code",
   "execution_count": 1,
   "metadata": {},
   "outputs": [
    {
     "name": "stdout",
     "output_type": "stream",
     "text": [
      "1\n",
      "2\n",
      "3\n",
      "4\n"
     ]
    }
   ],
   "source": [
    "# EX of yield and from keywords turning functions into generators and stringing generator ouputs together useing from\n",
    "def gen1():\n",
    "    yield 1\n",
    "    yield 2\n",
    "\n",
    "def gen2():\n",
    "    yield 3\n",
    "    yield 4\n",
    "\n",
    "def gen3():\n",
    "    yield from gen1()\n",
    "    yield from gen2()\n",
    "\n",
    "for val in gen3():\n",
    "    print(val)\n"
   ]
  },
  {
   "cell_type": "code",
   "execution_count": 3,
   "metadata": {},
   "outputs": [
    {
     "name": "stdout",
     "output_type": "stream",
     "text": [
      "1\n",
      "2\n",
      "3\n",
      "4\n",
      "5\n",
      "6\n",
      "7\n",
      "8\n"
     ]
    }
   ],
   "source": [
    "def testget():\n",
    "    for i in range(1,9):\n",
    "        yield i\n",
    "for i in testget():\n",
    "    print(i) # note that the state of the function pauses and resumes between yield calls "
   ]
  },
  {
   "attachments": {},
   "cell_type": "markdown",
   "metadata": {},
   "source": [
    "## building a binary tree with recurion based off a list of nums"
   ]
  },
  {
   "cell_type": "code",
   "execution_count": null,
   "metadata": {},
   "outputs": [],
   "source": [
    "# Definition for a binary tree node.\n",
    "# class TreeNode:\n",
    "#     def __init__(self, val=0, left=None, right=None):\n",
    "#         self.val = val\n",
    "#         self.left = left\n",
    "#         self.right = right\n",
    "class Solution:\n",
    "    def increasingBST(self, root: TreeNode) -> TreeNode:\n",
    "        sortednodes = []\n",
    "        def dfs(node):\n",
    "            if not node:\n",
    "                return \n",
    "            \n",
    "            dfs(node.left)\n",
    "            sortednodes.append(node.val)\n",
    "            dfs(node.right)\n",
    "\n",
    "        dfs(root) # first we populate the list with a sorted list of vals using in order dfs\n",
    "        # HERE is how you build the tree using recursion \n",
    "        def sortedArrayToBST(A): # building the new Tree with recursion make a note of this\n",
    "            if not A:\n",
    "                return None\n",
    "            root = TreeNode(A[0])\n",
    "            root.right = sortedArrayToBST(A[1:])\n",
    "            return root\n",
    "        ROOT = sortedArrayToBST(sortednodes)\n",
    "        return ROOT\n",
    "\n"
   ]
  }
 ],
 "metadata": {
  "kernelspec": {
   "display_name": "Python 3",
   "language": "python",
   "name": "python3"
  },
  "language_info": {
   "codemirror_mode": {
    "name": "ipython",
    "version": 3
   },
   "file_extension": ".py",
   "mimetype": "text/x-python",
   "name": "python",
   "nbconvert_exporter": "python",
   "pygments_lexer": "ipython3",
   "version": "3.8.3"
  },
  "orig_nbformat": 4
 },
 "nbformat": 4,
 "nbformat_minor": 2
}
