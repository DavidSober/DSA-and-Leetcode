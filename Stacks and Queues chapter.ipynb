{
 "cells": [
  {
   "attachments": {},
   "cell_type": "markdown",
   "metadata": {},
   "source": [
    "# Stacks and Queues "
   ]
  },
  {
   "attachments": {},
   "cell_type": "markdown",
   "metadata": {},
   "source": [
    "Another term used to describe stacks is LIFO, which stands for last in, first out. The last element placed inside is the first element to come out."
   ]
  },
  {
   "cell_type": "code",
   "execution_count": 38,
   "metadata": {},
   "outputs": [
    {
     "data": {
      "text/plain": [
       "False"
      ]
     },
     "execution_count": 38,
     "metadata": {},
     "output_type": "execute_result"
    }
   ],
   "source": [
    "# DOES NOT WORK\n",
    "# Example 1: 20. Valid Parentheses\n",
    "# my attempt\n",
    "# seems like stacks are a variation of a list... so i think this should be sort of ez IT WAS NOT\n",
    "# so this code does not work very well. it is sort of a brute force approach \n",
    "\n",
    "def validparenthesis(s):\n",
    "    stack = [s[0]]\n",
    "    for c in s:\n",
    "        if len(s) < 2: # throw out obvious false case\n",
    "            return False\n",
    "        \n",
    "        #if len(stack) < 2:\n",
    "        #    stack.append(c)\n",
    "        #    continue\n",
    "\n",
    "        #if c == ']' and stack[-1] == '[' or c == '}' and stack[-1] == '{' or c == ')' and stack[-1] == '(':\n",
    "        #    return True\n",
    "        if c == ']' and stack[-1] != '[' or c == '}' and stack[-1] != '{' or c == ')' and stack[-1] != '(':\n",
    "            return False\n",
    "        stack.append(c)\n",
    "\n",
    "    return True\n",
    "\n",
    "string = '{[]}'\n",
    "validparenthesis(string)\n"
   ]
  },
  {
   "cell_type": "code",
   "execution_count": 40,
   "metadata": {},
   "outputs": [
    {
     "data": {
      "text/plain": [
       "True"
      ]
     },
     "execution_count": 40,
     "metadata": {},
     "output_type": "execute_result"
    }
   ],
   "source": [
    "# Example 1: 20. Valid Parentheses\n",
    "# official answer\n",
    "\n",
    "def isValid(s):\n",
    "    stack = []\n",
    "    matching = {\"(\": \")\", \"[\": \"]\", \"{\": \"}\"} # creates a matching hash map.. this is smart \n",
    "    \n",
    "    for c in s:\n",
    "        if c in matching: # if c is an opening bracket. recall c is the key for matching\n",
    "            stack.append(c)\n",
    "        else:             # note that if c (key) is not in matching, it is a closing bracket\n",
    "            if not stack: # if stack is empty then obvious result is false\n",
    "                return False\n",
    "            \n",
    "            previous_opening = stack.pop() # grabs previous char\n",
    "            if matching[previous_opening] != c: # if none of the values (aka closing brackets) in matching are equal to c, \n",
    "                return False                    # then c is not a closing bracket. thus false. \n",
    "\n",
    "# watch vid if what Im about to say makes no sense: Each time we are popping values we remove them from the stack\n",
    "# if the stack has no values at the end of the algo then we had an even match for all opening and closing brackets\n",
    "# thus if stack is empty at the end we return True. If stack is not emppty then some backets were left unmatched\n",
    "# so 'not stack' means we return True if stack is empty and False if it contains something\n",
    "    return not stack  \n",
    "\n",
    "string = '([])'\n",
    "isValid(string)"
   ]
  },
  {
   "cell_type": "code",
   "execution_count": null,
   "metadata": {},
   "outputs": [],
   "source": [
    "# 20. Valid Parentheses\n",
    "# my recall beats 91% in time and 60% in space\n",
    "\n",
    "def isValid(s):\n",
    "\n",
    "    matching = {'(': ')', '[': ']', '{': '}'}\n",
    "    stack = []\n",
    "\n",
    "    if len(s) < 2:\n",
    "        return False\n",
    "\n",
    "    for c in s:\n",
    "\n",
    "        if c in matching: # if c in keys, c is an open bracket\n",
    "            stack.append(c)\n",
    "        else:\n",
    "            if not stack: # gets rid of obvious false case\n",
    "                return False\n",
    "            elif matching[stack.pop()] != c:\n",
    "                return False\n",
    "            \n",
    "    if not stack: # if the stack is empty we know we have a 1 to 1 match for all open and closed brackets\n",
    "        return True     # thus we retrun true since that is the success condition\n",
    "    else: \n",
    "        return False    # if there was a mismatch we return false\n",
    "\n",
    "\n",
    "s = \"((\"\n",
    "\n",
    "isValid(s)\n"
   ]
  },
  {
   "cell_type": "code",
   "execution_count": 29,
   "metadata": {},
   "outputs": [
    {
     "data": {
      "text/plain": [
       "'ay'"
      ]
     },
     "execution_count": 29,
     "metadata": {},
     "output_type": "execute_result"
    }
   ],
   "source": [
    "# 1047. Remove All Adjacent Duplicates In String\n",
    "# my attempt WORKS beats 34% in time and 75% in space before converting string into list \n",
    "\n",
    "def removeDuplicates(s):\n",
    "\n",
    "    stack = [s[0]] # to prevent out of range error\n",
    "\n",
    "    if len(s) < 2: # if len is too small there will be no dupes so return s\n",
    "        return s\n",
    "    \n",
    "    for i in range(1, len(s)):\n",
    "        \n",
    "        if not stack:           # if stack becomes empty we add another element to prevent out of range error with stack[-1]\n",
    "            stack.append(s[i])\n",
    "            continue\n",
    "\n",
    "        if stack[-1] == s[i]: # check top of stack and compare to current char if they equal pop and continue \n",
    "            stack.pop()\n",
    "            continue\n",
    "        \n",
    "        stack.append(s[i])\n",
    "\n",
    "    return \"\".join(stack) # answer needs to be in string format \n",
    "\n",
    "s = \"azxxzy\"\n",
    "removeDuplicates(s)"
   ]
  },
  {
   "cell_type": "code",
   "execution_count": 32,
   "metadata": {},
   "outputs": [
    {
     "data": {
      "text/plain": [
       "'ay'"
      ]
     },
     "execution_count": 32,
     "metadata": {},
     "output_type": "execute_result"
    }
   ],
   "source": [
    "# 1047. Remove All Adjacent Duplicates In String# \n",
    "# official solution beats 75% in time and 70-90% in space (lot of vairance for some reason)\n",
    "# Same as my solution except they got rid of one if statement by checking 'if stack'\n",
    "\n",
    "def removeDuplicates(s):\n",
    "    stack = []\n",
    "    for c in s:\n",
    "        if stack and stack[-1] == c: # if stack checks that stack is not empty. if it is we append this removes one if statement I had above\n",
    "            stack.pop()\n",
    "        else:\n",
    "            stack.append(c)\n",
    "    \n",
    "    return \"\".join(stack)\n",
    "    \n",
    "s = \"azxxzy\"\n",
    "removeDuplicates(s)"
   ]
  },
  {
   "cell_type": "code",
   "execution_count": 54,
   "metadata": {},
   "outputs": [
    {
     "data": {
      "text/plain": [
       "True"
      ]
     },
     "execution_count": 54,
     "metadata": {},
     "output_type": "execute_result"
    }
   ],
   "source": [
    "# Example 3: 844. Backspace String Compare\n",
    "# Given two strings s and t, return true if they are equal when both are typed into empty text editors. \n",
    "# '#' means a backspace character.\n",
    "# Note that after backspacing an empty text, the text will continue empty.\n",
    "# my attempt 45% time and 60% in space O(1) for both space and time since we are using stacks\n",
    "\n",
    "def backspaceCompare(s, t):\n",
    "\n",
    "    stack = []\n",
    "    for c in s:\n",
    "        if stack and c == '#': # if stack is not empty and char is # then we remove the top of stack\n",
    "            stack.pop()\n",
    "        elif c != '#':      # we never want to add '#' to stack since it represents a backspace. so all else but that is game\n",
    "            stack.append(c)\n",
    "    # we repeat the above code since O(n) + O(n) = O(n) \n",
    "    stacktwo = []\n",
    "    for c in t:\n",
    "        if stacktwo and c == '#':\n",
    "            stacktwo.pop()\n",
    "        elif c != '#':\n",
    "            stacktwo.append(c)\n",
    "\n",
    "            \n",
    "    # print(stack, stacktwo) # for debugging\n",
    "    if stack == stacktwo: # if they equal at the end we have a True since the question asks if s and t are ==\n",
    "        return True\n",
    "    else:\n",
    "        return False\n",
    "    \n",
    "s = \"y#fo##f\"\n",
    "t = \"y#f#o##f\"\n",
    "backspaceCompare(s, t)\n"
   ]
  },
  {
   "cell_type": "code",
   "execution_count": 53,
   "metadata": {},
   "outputs": [
    {
     "data": {
      "text/plain": [
       "True"
      ]
     },
     "execution_count": 53,
     "metadata": {},
     "output_type": "execute_result"
    }
   ],
   "source": [
    "# Example 3: 844. Backspace String Compare\n",
    "# official solution beats 60% in time and space so not much better than my solution tbh\n",
    "\n",
    "def backspaceCompare(s,t): # this more or less is what I wrote above but in a more elegant way with the method\n",
    "    def build(s):          # the method saves like 6 lines but whatever tbh\n",
    "        stack = []\n",
    "        for c in s:\n",
    "            if c != \"#\":\n",
    "                stack.append(c)\n",
    "            elif stack:\n",
    "                stack.pop()\n",
    "\n",
    "        return \"\".join(stack)\n",
    "\n",
    "    return build(s) == build(t)\n",
    "\n",
    "s = \"y#fo##f\"\n",
    "t = \"y#f#o##f\"\n",
    "backspaceCompare(s, t)"
   ]
  },
  {
   "cell_type": "code",
   "execution_count": 88,
   "metadata": {},
   "outputs": [
    {
     "data": {
      "text/plain": [
       "'/a./b../..c'"
      ]
     },
     "execution_count": 88,
     "metadata": {},
     "output_type": "execute_result"
    }
   ],
   "source": [
    "# Simplify Path\n",
    "# this looks extremely hard... i will try\n",
    "\n",
    "def simplify_path(path):\n",
    "\n",
    "    stack = []\n",
    "    counter = 0\n",
    "    slashcount = 0\n",
    "    for c in path:\n",
    "        if c == '.':\n",
    "            counter += 1\n",
    "        elif c == '/': \n",
    "            slashcount += 1 \n",
    "\n",
    "\n",
    "        if c != '.' and counter == 2 and stack: #  and len(stack) > 1\n",
    "            counter = 0 # reset counter for later\n",
    "            stack.pop()\n",
    "            stack.pop()\n",
    "            stack.pop()\n",
    "            \n",
    "            if not stack:\n",
    "                stack.append('/')\n",
    "                #continue\n",
    "            \n",
    "            while stack[-1] != '/':\n",
    "                stack.pop()\n",
    "            continue\n",
    "\n",
    "            #print(slashcount)\n",
    "        elif slashcount > 1 and stack:\n",
    "                #print(';d')\n",
    "                slashcount = 0\n",
    "                continue\n",
    "        else: \n",
    "            stack.append(c)\n",
    "\n",
    "\n",
    "    if stack is None: # if stack gets deleted entirely just return home dir /\n",
    "        stack.append('/')\n",
    "    elif stack[-1] == '/' and stack and len(stack) > 1: # gets rid of trailing '/'\n",
    "        stack.pop()\n",
    "\n",
    "    return \"\".join(stack)\n",
    "\n",
    "path = \"/a/./b/../../c/\"\n",
    "simplify_path(path)\n"
   ]
  },
  {
   "cell_type": "code",
   "execution_count": 91,
   "metadata": {},
   "outputs": [
    {
     "name": "stdout",
     "output_type": "stream",
     "text": [
      "a/b/c/d\n"
     ]
    }
   ],
   "source": [
    "# apparently you can join lists with a delimiter as shown below\n",
    "stack = ['a','b','c','d']\n",
    "\n",
    "c = \"/\".join(stack)\n",
    "print(c)"
   ]
  }
 ],
 "metadata": {
  "kernelspec": {
   "display_name": "Python 3",
   "language": "python",
   "name": "python3"
  },
  "language_info": {
   "codemirror_mode": {
    "name": "ipython",
    "version": 3
   },
   "file_extension": ".py",
   "mimetype": "text/x-python",
   "name": "python",
   "nbconvert_exporter": "python",
   "pygments_lexer": "ipython3",
   "version": "3.8.3"
  },
  "orig_nbformat": 4
 },
 "nbformat": 4,
 "nbformat_minor": 2
}
