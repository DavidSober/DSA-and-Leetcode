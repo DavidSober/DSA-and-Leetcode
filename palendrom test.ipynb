{
 "cells": [
  {
   "cell_type": "code",
   "execution_count": 4,
   "metadata": {},
   "outputs": [
    {
     "data": {
      "text/plain": [
       "True"
      ]
     },
     "execution_count": 4,
     "metadata": {},
     "output_type": "execute_result"
    }
   ],
   "source": [
    "# A string is a palindrome if it reads the same forwards as backwards. \n",
    "# That means, after reversing it, it is still the same string. For example: \"abcdcba\", or \"racecar\".\n",
    "# this is an example of two pointers\n",
    "# O(n) time and O(1) space\n",
    "\n",
    "list = 'racecar'\n",
    "\n",
    "def palendrome_test(arr):\n",
    "    left = 0\n",
    "    right = len(arr) - 1\n",
    "\n",
    "    while(left < right):\n",
    "        \n",
    "        if arr[left] != arr[right]:\n",
    "            return False\n",
    "        \n",
    "        left += 1\n",
    "        right -= 1 \n",
    "        \n",
    "    return True\n",
    "\n",
    "\n",
    "palendrome_test(list)"
   ]
  },
  {
   "cell_type": "code",
   "execution_count": 2,
   "metadata": {},
   "outputs": [
    {
     "data": {
      "text/plain": [
       "True"
      ]
     },
     "execution_count": 2,
     "metadata": {},
     "output_type": "execute_result"
    }
   ],
   "source": [
    "# similar to Two Sum\n",
    "\n",
    "nums = [1, 2, 4, 6, 8, 9, 14, 15]\n",
    "\n",
    "def two_sums_sortof(arr):\n",
    "    left = 0\n",
    "    right = len(arr) - 1\n",
    "\n",
    "    while(left < right):\n",
    "        \n",
    "        if arr[left] + arr[right] == 13:\n",
    "            return True\n",
    "        \n",
    "        left += 1\n",
    "        right -= 1 \n",
    "        \n",
    "    return False\n",
    "\n",
    "two_sums_sortof(nums)"
   ]
  }
 ],
 "metadata": {
  "kernelspec": {
   "display_name": "Python 3",
   "language": "python",
   "name": "python3"
  },
  "language_info": {
   "codemirror_mode": {
    "name": "ipython",
    "version": 3
   },
   "file_extension": ".py",
   "mimetype": "text/x-python",
   "name": "python",
   "nbconvert_exporter": "python",
   "pygments_lexer": "ipython3",
   "version": "3.8.3"
  },
  "orig_nbformat": 4,
  "vscode": {
   "interpreter": {
    "hash": "b081a66ee97bd2b6a16f43955f1d810b7ea816d6eaeb65e157ef9e038445f0c6"
   }
  }
 },
 "nbformat": 4,
 "nbformat_minor": 2
}
